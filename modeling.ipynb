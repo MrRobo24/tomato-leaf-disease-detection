{
 "cells": [
  {
   "cell_type": "markdown",
   "metadata": {
    "colab_type": "text",
    "id": "1S5alWTa5JpN"
   },
   "source": [
    "# Detecting Tomato plant diseases\n",
    "\n",
    "In this notebook we present two possible solutions for detecting plant diseases using two well known Deep Neural Network architectures: \n",
    "\n",
    "*  **VGG**\n",
    "*   **ResNet**\n",
    "\n",
    "The dataset that we are using further in this notebook is the well known open source repository  of plant leaves images [PlantVillage](https://github.com/spMohanty/PlantVillage-Dataset/tree/master/raw). There are total of 14 plants with few of their diseases making total of 38 [plant, disease] pairs. For this research we are using only 10 of those clases, more precisely the 10 classes that corespond to tomato plants. The classes that we use are:\n",
    "\n",
    "1.   Bacterial Spot\n",
    "2.   Early Blight\n",
    "3.   Late Blight\n",
    "4.   Leaf Mold\n",
    "5.   Septoria Leaf Spot\n",
    "6.   Spider Mites Two-spotted Spider Mite\n",
    "7.   Target_Spot\n",
    "8.   Tomato Mosaic Virus\n",
    "9.   Tomato Yellow Leaf Curl Virus\n",
    "10. Healthy\n",
    "\n",
    "\n",
    "\n"
   ]
  },
  {
   "cell_type": "markdown",
   "metadata": {
    "colab_type": "text",
    "id": "-KkUGKIA9aKA"
   },
   "source": [
    "### Prepearing the data source\n",
    "We are using google drive to access and use the data. Here, we mount the drive and unzip the data for further use."
   ]
  },
  {
   "cell_type": "code",
   "execution_count": 1,
   "metadata": {
    "colab": {
     "base_uri": "https://localhost:8080/",
     "height": 121
    },
    "colab_type": "code",
    "executionInfo": {
     "elapsed": 31998,
     "status": "ok",
     "timestamp": 1561133135049,
     "user": {
      "displayName": "Zafir Zarya",
      "photoUrl": "https://lh4.googleusercontent.com/-ETKM_UfxYUM/AAAAAAAAAAI/AAAAAAAAGMA/PyI6bvEs4Rg/s64/photo.jpg",
      "userId": "06365792245261835796"
     },
     "user_tz": -120
    },
    "id": "ZF-GMGFTwFxN",
    "outputId": "ba3642c4-49c4-42ab-d05b-503c9f336dc7"
   },
   "outputs": [
    {
     "name": "stdout",
     "output_type": "stream",
     "text": [
      "Go to this URL in a browser: https://accounts.google.com/o/oauth2/auth?client_id=947318989803-6bn6qk8qdgf4n4g3pfee6491hc0brc4i.apps.googleusercontent.com&redirect_uri=urn%3Aietf%3Awg%3Aoauth%3A2.0%3Aoob&scope=email%20https%3A%2F%2Fwww.googleapis.com%2Fauth%2Fdocs.test%20https%3A%2F%2Fwww.googleapis.com%2Fauth%2Fdrive%20https%3A%2F%2Fwww.googleapis.com%2Fauth%2Fdrive.photos.readonly%20https%3A%2F%2Fwww.googleapis.com%2Fauth%2Fpeopleapi.readonly&response_type=code\n",
      "\n",
      "Enter your authorization code:\n",
      "··········\n",
      "Mounted at /content/drive\n"
     ]
    }
   ],
   "source": [
    "from google.colab import drive\n",
    "drive.mount('/content/drive')"
   ]
  },
  {
   "cell_type": "code",
   "execution_count": 7,
   "metadata": {
    "colab": {
     "base_uri": "https://localhost:8080/",
     "height": 185
    },
    "colab_type": "code",
    "executionInfo": {
     "elapsed": 1767,
     "status": "ok",
     "timestamp": 1561133433372,
     "user": {
      "displayName": "Zafir Zarya",
      "photoUrl": "https://lh4.googleusercontent.com/-ETKM_UfxYUM/AAAAAAAAAAI/AAAAAAAAGMA/PyI6bvEs4Rg/s64/photo.jpg",
      "userId": "06365792245261835796"
     },
     "user_tz": -120
    },
    "id": "_B722va5yJgV",
    "outputId": "44f435a2-1bf7-43a7-eb0f-ea4b384c26ad"
   },
   "outputs": [
    {
     "name": "stdout",
     "output_type": "stream",
     "text": [
      "Tomato___Bacterial_spot -> 2127\n",
      "Tomato___Early_blight -> 1000\n",
      "Tomato___healthy -> 1591\n",
      "Tomato___Late_blight -> 1909\n",
      "Tomato___Leaf_Mold -> 952\n",
      "Tomato___Septoria_leaf_spot -> 1771\n",
      "Tomato___Spider_mites Two-spotted_spider_mite -> 1676\n",
      "Tomato___Target_Spot -> 1404\n",
      "Tomato___Tomato_mosaic_virus -> 373\n",
      "Tomato___Tomato_Yellow_Leaf_Curl_Virus -> 5332\n"
     ]
    }
   ],
   "source": [
    "import os \n",
    "sets = ['train', 'test', 'validation']\n",
    "counts = dict()\n",
    "\n",
    "for s in sets:\n",
    "  root = '/content/drive/My Drive/Colab Notebooks/domat/solo-dataset/{}'.format(s)\n",
    "  for d in os.listdir(root):\n",
    "    directory = '{}/{}'.format(root, d)\n",
    "    number_of_files = len(os.listdir(directory))\n",
    "    counts.setdefault(d, 0)\n",
    "    counts[d] += number_of_files\n",
    "\n",
    "for f, c in counts.items():\n",
    "  print(f, '->' ,c)"
   ]
  },
  {
   "cell_type": "code",
   "execution_count": 0,
   "metadata": {
    "colab": {},
    "colab_type": "code",
    "id": "Y0mnjmZfyqI0"
   },
   "outputs": [],
   "source": [
    "get_ipython().system_raw(\"unrar x datasets.rar\")"
   ]
  },
  {
   "cell_type": "markdown",
   "metadata": {
    "colab_type": "text",
    "id": "ki0VLMnO9-Hd"
   },
   "source": [
    "### Imports\n",
    "We are using Keras with TensorFlow backend."
   ]
  },
  {
   "cell_type": "code",
   "execution_count": 0,
   "metadata": {
    "colab": {},
    "colab_type": "code",
    "id": "cGrfeXX3wgCO"
   },
   "outputs": [],
   "source": [
    "import os\n",
    "import numpy as np\n",
    "import cv2\n",
    "import random"
   ]
  },
  {
   "cell_type": "code",
   "execution_count": 0,
   "metadata": {
    "colab": {
     "base_uri": "https://localhost:8080/",
     "height": 34
    },
    "colab_type": "code",
    "executionInfo": {
     "elapsed": 2414,
     "status": "ok",
     "timestamp": 1560891433002,
     "user": {
      "displayName": "Zafir Zarya",
      "photoUrl": "https://lh4.googleusercontent.com/-ETKM_UfxYUM/AAAAAAAAAAI/AAAAAAAAGMA/PyI6bvEs4Rg/s64/photo.jpg",
      "userId": "06365792245261835796"
     },
     "user_tz": -120
    },
    "id": "bWiJsk_oxBYB",
    "outputId": "3a04a1b3-7450-4211-ecc4-be78516b0354"
   },
   "outputs": [
    {
     "name": "stderr",
     "output_type": "stream",
     "text": [
      "Using TensorFlow backend.\n"
     ]
    }
   ],
   "source": [
    "from keras import Sequential\n",
    "from keras.layers import Dense, Flatten, GlobalAveragePooling2D, Dropout\n",
    "from keras.applications import vgg16\n",
    "from keras.applications.resnet50 import ResNet50\n",
    "from keras.applications.vgg16 import preprocess_input as vgg_pi\n",
    "from keras.applications.resnet50 import preprocess_input as resnet_pi\n",
    "from keras.preprocessing.image import ImageDataGenerator\n",
    "from keras.models import Model\n",
    "import keras"
   ]
  },
  {
   "cell_type": "markdown",
   "metadata": {
    "colab_type": "text",
    "id": "O_6C12AX-IUU"
   },
   "source": [
    "### Training and testing the models\n",
    "\n",
    "Next we train and test these two model architectures: VGG and ResNet. Our goal is to see which of the two models is better on the chosen dataset and whether it's better to use the models pretrained on imagenet or using them plain, only trained on the PlantVillage dataset. \n",
    "\n",
    "\n",
    "Each of the two models has been trained and tested four times:\n",
    "1. **Plain**  - base was untrained, model was completely trained on PlantVillage\n",
    "2. **Pretrained** - base was pretrained on imagenet, model was fine-tuned on PlantVillage\n",
    "3. **Pretrained (l2)** - introducing Ridge regularization on model 2\n",
    "4. **Pretrained (dropout)** - introducing dropout layer on model 2\n",
    "\n",
    "Following is the code to train each model, while testing and results are available in model_overview.ipynb"
   ]
  },
  {
   "cell_type": "markdown",
   "metadata": {
    "colab_type": "text",
    "id": "XKK6My_FsCgm"
   },
   "source": [
    "# VGG"
   ]
  },
  {
   "cell_type": "markdown",
   "metadata": {
    "colab_type": "text",
    "id": "fXVBlWCWAyAT"
   },
   "source": [
    "We are using the Keras implementation of VGG with 16 layers. The input tensor has a shape of (224, 224, 3).  \n",
    "To avoid overflowing the RAM we use ImageDataGenerator. Another nifty feature of the generator is that it can apply transformations to the images (rotation, flip, shear...) on the go in order to avoid overfitting the models. "
   ]
  },
  {
   "cell_type": "markdown",
   "metadata": {
    "colab_type": "text",
    "id": "0v-6XNw2iq9F"
   },
   "source": [
    "## Plain"
   ]
  },
  {
   "cell_type": "code",
   "execution_count": 0,
   "metadata": {
    "colab": {},
    "colab_type": "code",
    "id": "ZbLiXxSni7iI"
   },
   "outputs": [],
   "source": [
    "base_model = vgg16.VGG16(include_top=False,\n",
    "                         input_shape=(224, 224, 3))\n",
    "for layer in base_model.layers:\n",
    "  layer.trainable = True\n",
    "# base_model.summary()"
   ]
  },
  {
   "cell_type": "code",
   "execution_count": 0,
   "metadata": {
    "colab": {},
    "colab_type": "code",
    "id": "ojy1fO-Ii7iQ"
   },
   "outputs": [],
   "source": [
    "x = base_model.output\n",
    "x = Flatten(name='flatten', input_shape=base_model.output_shape)(x) \n",
    "x = Dense(10, activation='softmax', name='predictions')(x)\n",
    "model = Model(inputs=base_model.input, outputs=x)\n",
    "# model.summary()"
   ]
  },
  {
   "cell_type": "code",
   "execution_count": 0,
   "metadata": {
    "colab": {
     "base_uri": "https://localhost:8080/"
    },
    "colab_type": "code",
    "executionInfo": {
     "elapsed": 1119,
     "status": "ok",
     "timestamp": 1560508657989,
     "user": {
      "displayName": "Zafir Zarya",
      "photoUrl": "https://lh4.googleusercontent.com/-ETKM_UfxYUM/AAAAAAAAAAI/AAAAAAAAGMA/PyI6bvEs4Rg/s64/photo.jpg",
      "userId": "06365792245261835796"
     },
     "user_tz": -120
    },
    "id": "MEe45vTVi7iT",
    "outputId": "e4339d68-f491-42e1-94e3-8c814d7ea1cb"
   },
   "outputs": [
    {
     "name": "stderr",
     "output_type": "stream",
     "text": [
      "W0614 10:37:37.222698 139863647811456 deprecation_wrapper.py:119] From /usr/local/lib/python3.6/dist-packages/keras/optimizers.py:790: The name tf.train.Optimizer is deprecated. Please use tf.compat.v1.train.Optimizer instead.\n",
      "\n"
     ]
    }
   ],
   "source": [
    "model.compile(optimizer='adam', \n",
    "              loss='categorical_crossentropy',\n",
    "              metrics=['accuracy'])"
   ]
  },
  {
   "cell_type": "code",
   "execution_count": 0,
   "metadata": {
    "colab": {},
    "colab_type": "code",
    "id": "5WaH353di7iW"
   },
   "outputs": [],
   "source": [
    "train_datagen = ImageDataGenerator(\n",
    "    rescale=1./255,\n",
    "    rotation_range=40,\n",
    "    width_shift_range=0.2,\n",
    "    height_shift_range=0.2,\n",
    "    shear_range=0.2,\n",
    "    zoom_range=0.2,\n",
    "    fill_mode='nearest',\n",
    ")\n",
    "validation_datagen = ImageDataGenerator(\n",
    "    rescale=1./255,\n",
    ")"
   ]
  },
  {
   "cell_type": "code",
   "execution_count": 0,
   "metadata": {
    "colab": {
     "base_uri": "https://localhost:8080/"
    },
    "colab_type": "code",
    "executionInfo": {
     "elapsed": 32040,
     "status": "ok",
     "timestamp": 1560508694149,
     "user": {
      "displayName": "Zafir Zarya",
      "photoUrl": "https://lh4.googleusercontent.com/-ETKM_UfxYUM/AAAAAAAAAAI/AAAAAAAAGMA/PyI6bvEs4Rg/s64/photo.jpg",
      "userId": "06365792245261835796"
     },
     "user_tz": -120
    },
    "id": "wxPdAhuui7ii",
    "outputId": "fcbf797d-8ff8-4044-f097-bee9bc9ab3e5"
   },
   "outputs": [
    {
     "name": "stdout",
     "output_type": "stream",
     "text": [
      "Found 11614 images belonging to 10 classes.\n",
      "Found 2884 images belonging to 10 classes.\n"
     ]
    }
   ],
   "source": [
    "train_generator = train_datagen.flow_from_directory(\n",
    "        '/content/drive/My Drive/Colab Notebooks/domat/solo-dataset/train/', \n",
    "        target_size=(224, 224),\n",
    "        batch_size=32,\n",
    "        class_mode='categorical',\n",
    ")\n",
    "validation_generator = validation_datagen.flow_from_directory(\n",
    "        '/content/drive/My Drive/Colab Notebooks/domat/solo-dataset/validation/',\n",
    "        target_size=(224, 224),\n",
    "        batch_size=32,\n",
    "        class_mode='categorical',\n",
    ")"
   ]
  },
  {
   "cell_type": "code",
   "execution_count": 0,
   "metadata": {
    "colab": {
     "base_uri": "https://localhost:8080/"
    },
    "colab_type": "code",
    "executionInfo": {
     "elapsed": 986,
     "status": "ok",
     "timestamp": 1560508704238,
     "user": {
      "displayName": "Zafir Zarya",
      "photoUrl": "https://lh4.googleusercontent.com/-ETKM_UfxYUM/AAAAAAAAAAI/AAAAAAAAGMA/PyI6bvEs4Rg/s64/photo.jpg",
      "userId": "06365792245261835796"
     },
     "user_tz": -120
    },
    "id": "5EGC3hmQi7io",
    "outputId": "70624569-031b-420d-fffe-982645bc0575"
   },
   "outputs": [
    {
     "name": "stdout",
     "output_type": "stream",
     "text": [
      "Found GPU at: /device:GPU:0\n"
     ]
    }
   ],
   "source": [
    "# check if GPU is running\n",
    "import tensorflow as tf\n",
    "device_name = tf.test.gpu_device_name()\n",
    "if device_name != '/device:GPU:0':\n",
    "  raise SystemError('GPU device not found')\n",
    "print('Found GPU at: {}'.format(device_name))"
   ]
  },
  {
   "cell_type": "code",
   "execution_count": 0,
   "metadata": {
    "colab": {
     "base_uri": "https://localhost:8080/"
    },
    "colab_type": "code",
    "executionInfo": {
     "elapsed": 9629889,
     "status": "ok",
     "timestamp": 1560531641793,
     "user": {
      "displayName": "Zafir Zarya",
      "photoUrl": "https://lh4.googleusercontent.com/-ETKM_UfxYUM/AAAAAAAAAAI/AAAAAAAAGMA/PyI6bvEs4Rg/s64/photo.jpg",
      "userId": "06365792245261835796"
     },
     "user_tz": -120
    },
    "id": "kVMrGxrmi7is",
    "outputId": "f3c97d73-f4f0-49bb-ff9d-639041889ead"
   },
   "outputs": [
    {
     "name": "stderr",
     "output_type": "stream",
     "text": [
      "W0614 10:38:29.766515 139863647811456 deprecation.py:323] From /usr/local/lib/python3.6/dist-packages/tensorflow/python/ops/math_grad.py:1250: add_dispatch_support.<locals>.wrapper (from tensorflow.python.ops.array_ops) is deprecated and will be removed in a future version.\n",
      "Instructions for updating:\n",
      "Use tf.where in 2.0, which has the same broadcast rule as np.where\n"
     ]
    },
    {
     "name": "stdout",
     "output_type": "stream",
     "text": [
      "Epoch 1/100\n"
     ]
    },
    {
     "name": "stderr",
     "output_type": "stream",
     "text": [
      "/usr/local/lib/python3.6/dist-packages/keras/engine/training_generator.py:47: UserWarning: Using a generator with `use_multiprocessing=True` and multiple workers may duplicate your data. Please consider using the`keras.utils.Sequence class.\n",
      "  UserWarning('Using a generator with `use_multiprocessing=True`'\n"
     ]
    },
    {
     "name": "stdout",
     "output_type": "stream",
     "text": [
      "362/362 [==============================] - 1611s 4s/step - loss: 11.3656 - acc: 0.2927 - val_loss: 11.5737 - val_acc: 0.2819\n",
      "Epoch 2/100\n",
      "362/362 [==============================] - 1530s 4s/step - loss: 11.4708 - acc: 0.2883 - val_loss: 11.6408 - val_acc: 0.2778\n",
      "Epoch 3/100\n",
      "362/362 [==============================] - 1554s 4s/step - loss: 11.3845 - acc: 0.2937 - val_loss: 11.1931 - val_acc: 0.3056\n",
      "Epoch 4/100\n",
      "362/362 [==============================] - 1564s 4s/step - loss: 11.2064 - acc: 0.3047 - val_loss: 11.4618 - val_acc: 0.2889\n",
      "Epoch 5/100\n",
      "362/362 [==============================] - 181s 499ms/step - loss: 11.0691 - acc: 0.3132 - val_loss: 11.7974 - val_acc: 0.2681\n",
      "Epoch 6/100\n",
      "362/362 [==============================] - 174s 480ms/step - loss: 11.5181 - acc: 0.2854 - val_loss: 11.2491 - val_acc: 0.3021\n",
      "Epoch 7/100\n",
      "362/362 [==============================] - 174s 480ms/step - loss: 11.4263 - acc: 0.2911 - val_loss: 11.2939 - val_acc: 0.2993\n",
      "Epoch 8/100\n",
      "362/362 [==============================] - 174s 480ms/step - loss: 11.4374 - acc: 0.2904 - val_loss: 11.4785 - val_acc: 0.2878\n",
      "Epoch 9/100\n",
      "362/362 [==============================] - 173s 479ms/step - loss: 11.4079 - acc: 0.2922 - val_loss: 11.5004 - val_acc: 0.2865\n",
      "Epoch 10/100\n",
      "362/362 [==============================] - 174s 481ms/step - loss: 11.3456 - acc: 0.2961 - val_loss: 11.6912 - val_acc: 0.2747\n",
      "Epoch 11/100\n",
      "362/362 [==============================] - 174s 480ms/step - loss: 11.3010 - acc: 0.2989 - val_loss: 11.4114 - val_acc: 0.2920\n",
      "Epoch 12/100\n",
      "362/362 [==============================] - 174s 480ms/step - loss: 11.3901 - acc: 0.2933 - val_loss: 11.2883 - val_acc: 0.2997\n",
      "Epoch 13/100\n",
      "362/362 [==============================] - 173s 478ms/step - loss: 11.1931 - acc: 0.3056 - val_loss: 11.6111 - val_acc: 0.2796\n",
      "Epoch 14/100\n",
      "362/362 [==============================] - 174s 480ms/step - loss: 11.4123 - acc: 0.2920 - val_loss: 11.6576 - val_acc: 0.2767\n",
      "Epoch 15/100\n",
      "362/362 [==============================] - 174s 481ms/step - loss: 11.2175 - acc: 0.3040 - val_loss: 11.0980 - val_acc: 0.3115\n",
      "Epoch 16/100\n",
      "362/362 [==============================] - 174s 480ms/step - loss: 11.6127 - acc: 0.2795 - val_loss: 11.5625 - val_acc: 0.2826\n",
      "Epoch 17/100\n",
      "362/362 [==============================] - 173s 479ms/step - loss: 11.4031 - acc: 0.2925 - val_loss: 11.3665 - val_acc: 0.2948\n",
      "Epoch 18/100\n",
      "362/362 [==============================] - 174s 480ms/step - loss: 11.2843 - acc: 0.2999 - val_loss: 11.6241 - val_acc: 0.2788\n",
      "Epoch 19/100\n",
      "362/362 [==============================] - 174s 481ms/step - loss: 11.5515 - acc: 0.2833 - val_loss: 11.5009 - val_acc: 0.2865\n",
      "Epoch 20/100\n",
      "362/362 [==============================] - 174s 480ms/step - loss: 11.2454 - acc: 0.3023 - val_loss: 11.1875 - val_acc: 0.3059\n",
      "Epoch 21/100\n",
      "362/362 [==============================] - 173s 479ms/step - loss: 11.2445 - acc: 0.3024 - val_loss: 10.9880 - val_acc: 0.3183\n",
      "Epoch 22/100\n",
      "362/362 [==============================] - 174s 480ms/step - loss: 11.3149 - acc: 0.2980 - val_loss: 11.5345 - val_acc: 0.2844\n",
      "Epoch 23/100\n",
      "362/362 [==============================] - 174s 480ms/step - loss: 11.2704 - acc: 0.3008 - val_loss: 11.7752 - val_acc: 0.2694\n",
      "Epoch 24/100\n",
      "362/362 [==============================] - 174s 481ms/step - loss: 11.5320 - acc: 0.2845 - val_loss: 11.6353 - val_acc: 0.2781\n",
      "Epoch 25/100\n",
      "362/362 [==============================] - 173s 479ms/step - loss: 11.2710 - acc: 0.3007 - val_loss: 11.5121 - val_acc: 0.2858\n",
      "Epoch 26/100\n",
      "362/362 [==============================] - 174s 481ms/step - loss: 11.4569 - acc: 0.2892 - val_loss: 11.5737 - val_acc: 0.2819\n",
      "Epoch 27/100\n",
      "362/362 [==============================] - 174s 481ms/step - loss: 11.3094 - acc: 0.2983 - val_loss: 11.2883 - val_acc: 0.2997\n",
      "Epoch 28/100\n",
      "362/362 [==============================] - 174s 480ms/step - loss: 11.4207 - acc: 0.2914 - val_loss: 11.7304 - val_acc: 0.2722\n",
      "Epoch 29/100\n",
      "362/362 [==============================] - 173s 478ms/step - loss: 11.3906 - acc: 0.2933 - val_loss: 11.5412 - val_acc: 0.2840\n",
      "Epoch 30/100\n",
      "362/362 [==============================] - 174s 480ms/step - loss: 11.4930 - acc: 0.2869 - val_loss: 11.0420 - val_acc: 0.3149\n",
      "Epoch 31/100\n",
      "362/362 [==============================] - 174s 480ms/step - loss: 11.3316 - acc: 0.2970 - val_loss: 11.4170 - val_acc: 0.2917\n",
      "Epoch 32/100\n",
      "362/362 [==============================] - 174s 480ms/step - loss: 11.2704 - acc: 0.3008 - val_loss: 11.7976 - val_acc: 0.2681\n",
      "Epoch 33/100\n",
      "362/362 [==============================] - 173s 478ms/step - loss: 11.1678 - acc: 0.3071 - val_loss: 11.3258 - val_acc: 0.2973\n",
      "Epoch 34/100\n",
      "362/362 [==============================] - 174s 480ms/step - loss: 11.5849 - acc: 0.2812 - val_loss: 11.4674 - val_acc: 0.2885\n",
      "Epoch 35/100\n",
      "362/362 [==============================] - 174s 480ms/step - loss: 11.3483 - acc: 0.2959 - val_loss: 11.4058 - val_acc: 0.2924\n",
      "Epoch 36/100\n",
      "362/362 [==============================] - 174s 480ms/step - loss: 11.3595 - acc: 0.2952 - val_loss: 11.4897 - val_acc: 0.2872\n",
      "Epoch 37/100\n",
      "362/362 [==============================] - 173s 478ms/step - loss: 11.2834 - acc: 0.3000 - val_loss: 11.7159 - val_acc: 0.2731\n",
      "Epoch 38/100\n",
      "362/362 [==============================] - 174s 480ms/step - loss: 11.4930 - acc: 0.2869 - val_loss: 11.2995 - val_acc: 0.2990\n",
      "Epoch 39/100\n",
      "362/362 [==============================] - 174s 480ms/step - loss: 11.4318 - acc: 0.2907 - val_loss: 11.6912 - val_acc: 0.2747\n",
      "Epoch 40/100\n",
      "362/362 [==============================] - 174s 480ms/step - loss: 11.2816 - acc: 0.3001 - val_loss: 11.1260 - val_acc: 0.3097\n",
      "Epoch 41/100\n",
      "362/362 [==============================] - 173s 478ms/step - loss: 11.2537 - acc: 0.3018 - val_loss: 11.5645 - val_acc: 0.2825\n",
      "Epoch 42/100\n",
      "362/362 [==============================] - 174s 480ms/step - loss: 11.3372 - acc: 0.2966 - val_loss: 11.6688 - val_acc: 0.2760\n",
      "Epoch 43/100\n",
      "362/362 [==============================] - 174s 479ms/step - loss: 11.3205 - acc: 0.2977 - val_loss: 11.6017 - val_acc: 0.2802\n",
      "Epoch 44/100\n",
      "362/362 [==============================] - 174s 481ms/step - loss: 11.3873 - acc: 0.2935 - val_loss: 11.1707 - val_acc: 0.3069\n",
      "Epoch 45/100\n",
      "362/362 [==============================] - 173s 479ms/step - loss: 11.2977 - acc: 0.2991 - val_loss: 11.4830 - val_acc: 0.2876\n",
      "Epoch 46/100\n",
      "362/362 [==============================] - 174s 480ms/step - loss: 11.3233 - acc: 0.2975 - val_loss: 11.5961 - val_acc: 0.2806\n",
      "Epoch 47/100\n",
      "362/362 [==============================] - 174s 480ms/step - loss: 11.4263 - acc: 0.2911 - val_loss: 11.6353 - val_acc: 0.2781\n",
      "Epoch 48/100\n",
      "362/362 [==============================] - 174s 480ms/step - loss: 11.4151 - acc: 0.2918 - val_loss: 11.0308 - val_acc: 0.3156\n",
      "Epoch 49/100\n",
      "362/362 [==============================] - 173s 478ms/step - loss: 11.4242 - acc: 0.2912 - val_loss: 11.7159 - val_acc: 0.2731\n",
      "Epoch 50/100\n",
      "362/362 [==============================] - 174s 480ms/step - loss: 11.3678 - acc: 0.2947 - val_loss: 11.4897 - val_acc: 0.2872\n",
      "Epoch 51/100\n",
      "362/362 [==============================] - 174s 480ms/step - loss: 11.3066 - acc: 0.2985 - val_loss: 11.9766 - val_acc: 0.2569\n",
      "Epoch 52/100\n",
      "362/362 [==============================] - 173s 479ms/step - loss: 11.3790 - acc: 0.2940 - val_loss: 11.3274 - val_acc: 0.2972\n",
      "Epoch 53/100\n",
      "362/362 [==============================] - 173s 478ms/step - loss: 11.2723 - acc: 0.3006 - val_loss: 11.0230 - val_acc: 0.3161\n",
      "Epoch 54/100\n",
      "362/362 [==============================] - 174s 479ms/step - loss: 11.3817 - acc: 0.2939 - val_loss: 11.3946 - val_acc: 0.2931\n",
      "Epoch 55/100\n",
      "362/362 [==============================] - 174s 480ms/step - loss: 11.3344 - acc: 0.2968 - val_loss: 11.3722 - val_acc: 0.2944\n",
      "Epoch 56/100\n",
      "362/362 [==============================] - 174s 480ms/step - loss: 11.3678 - acc: 0.2947 - val_loss: 11.4618 - val_acc: 0.2889\n",
      "Epoch 57/100\n",
      "362/362 [==============================] - 173s 478ms/step - loss: 11.5120 - acc: 0.2858 - val_loss: 11.7275 - val_acc: 0.2724\n",
      "Epoch 58/100\n",
      "362/362 [==============================] - 174s 480ms/step - loss: 11.2148 - acc: 0.3042 - val_loss: 10.9189 - val_acc: 0.3226\n",
      "Epoch 59/100\n",
      "362/362 [==============================] - 174s 480ms/step - loss: 11.4346 - acc: 0.2906 - val_loss: 11.4674 - val_acc: 0.2885\n",
      "Epoch 60/100\n",
      "362/362 [==============================] - 174s 479ms/step - loss: 11.3400 - acc: 0.2964 - val_loss: 11.9039 - val_acc: 0.2615\n",
      "Epoch 61/100\n",
      "362/362 [==============================] - 173s 478ms/step - loss: 11.5329 - acc: 0.2845 - val_loss: 11.5063 - val_acc: 0.2861\n",
      "Epoch 62/100\n",
      "362/362 [==============================] - 174s 480ms/step - loss: 11.3567 - acc: 0.2954 - val_loss: 11.5849 - val_acc: 0.2812\n",
      "Epoch 63/100\n",
      "362/362 [==============================] - 174s 480ms/step - loss: 11.4680 - acc: 0.2885 - val_loss: 11.5065 - val_acc: 0.2861\n",
      "Epoch 64/100\n",
      "362/362 [==============================] - 174s 480ms/step - loss: 11.1174 - acc: 0.3103 - val_loss: 11.2995 - val_acc: 0.2990\n",
      "Epoch 65/100\n",
      "362/362 [==============================] - 173s 478ms/step - loss: 11.4511 - acc: 0.2895 - val_loss: 11.5412 - val_acc: 0.2840\n",
      "Epoch 66/100\n",
      "362/362 [==============================] - 174s 480ms/step - loss: 11.2537 - acc: 0.3018 - val_loss: 11.6520 - val_acc: 0.2771\n",
      "Epoch 67/100\n",
      "362/362 [==============================] - 174s 480ms/step - loss: 11.4068 - acc: 0.2923 - val_loss: 11.3442 - val_acc: 0.2962\n",
      "Epoch 68/100\n",
      "362/362 [==============================] - 174s 480ms/step - loss: 11.2955 - acc: 0.2992 - val_loss: 11.2715 - val_acc: 0.3007\n",
      "Epoch 69/100\n",
      "362/362 [==============================] - 173s 478ms/step - loss: 11.3266 - acc: 0.2973 - val_loss: 11.4660 - val_acc: 0.2886\n",
      "Epoch 70/100\n",
      "362/362 [==============================] - 174s 480ms/step - loss: 11.2175 - acc: 0.3040 - val_loss: 11.5065 - val_acc: 0.2861\n",
      "Epoch 71/100\n",
      "362/362 [==============================] - 174s 480ms/step - loss: 11.4541 - acc: 0.2894 - val_loss: 11.4618 - val_acc: 0.2889\n",
      "Epoch 72/100\n",
      "362/362 [==============================] - 174s 480ms/step - loss: 11.4819 - acc: 0.2876 - val_loss: 11.4897 - val_acc: 0.2872\n",
      "Epoch 73/100\n",
      "362/362 [==============================] - 173s 478ms/step - loss: 11.4452 - acc: 0.2899 - val_loss: 11.3853 - val_acc: 0.2936\n",
      "Epoch 74/100\n",
      "362/362 [==============================] - 174s 480ms/step - loss: 11.2092 - acc: 0.3046 - val_loss: 11.6365 - val_acc: 0.2781\n",
      "Epoch 75/100\n",
      "362/362 [==============================] - 174s 479ms/step - loss: 11.3650 - acc: 0.2949 - val_loss: 11.1819 - val_acc: 0.3063\n",
      "Epoch 76/100\n",
      "362/362 [==============================] - 174s 479ms/step - loss: 11.3817 - acc: 0.2939 - val_loss: 11.6688 - val_acc: 0.2760\n",
      "Epoch 77/100\n",
      "362/362 [==============================] - 173s 478ms/step - loss: 11.3712 - acc: 0.2945 - val_loss: 11.4199 - val_acc: 0.2915\n",
      "Epoch 78/100\n",
      "362/362 [==============================] - 174s 480ms/step - loss: 11.2342 - acc: 0.3030 - val_loss: 11.9529 - val_acc: 0.2584\n",
      "Epoch 79/100\n",
      "362/362 [==============================] - 174s 479ms/step - loss: 11.4903 - acc: 0.2871 - val_loss: 11.2435 - val_acc: 0.3024\n",
      "Epoch 80/100\n",
      "362/362 [==============================] - 174s 480ms/step - loss: 11.3010 - acc: 0.2989 - val_loss: 11.0644 - val_acc: 0.3135\n",
      "Epoch 81/100\n",
      "362/362 [==============================] - 173s 479ms/step - loss: 11.2810 - acc: 0.3001 - val_loss: 11.4660 - val_acc: 0.2886\n",
      "Epoch 82/100\n",
      "362/362 [==============================] - 173s 479ms/step - loss: 11.4903 - acc: 0.2871 - val_loss: 11.1052 - val_acc: 0.3110\n",
      "Epoch 83/100\n",
      "362/362 [==============================] - 174s 479ms/step - loss: 11.4597 - acc: 0.2890 - val_loss: 11.7416 - val_acc: 0.2715\n",
      "Epoch 84/100\n",
      "362/362 [==============================] - 173s 479ms/step - loss: 11.2927 - acc: 0.2994 - val_loss: 11.8759 - val_acc: 0.2632\n",
      "Epoch 85/100\n",
      "362/362 [==============================] - 173s 478ms/step - loss: 11.3248 - acc: 0.2974 - val_loss: 11.3219 - val_acc: 0.2976\n",
      "Epoch 86/100\n",
      "362/362 [==============================] - 173s 479ms/step - loss: 11.3122 - acc: 0.2982 - val_loss: 11.2974 - val_acc: 0.2991\n",
      "Epoch 87/100\n",
      "362/362 [==============================] - 174s 480ms/step - loss: 11.3567 - acc: 0.2954 - val_loss: 11.2323 - val_acc: 0.3031\n",
      "Epoch 88/100\n",
      "362/362 [==============================] - 173s 479ms/step - loss: 11.5181 - acc: 0.2854 - val_loss: 11.7472 - val_acc: 0.2712\n",
      "Epoch 89/100\n",
      "362/362 [==============================] - 173s 479ms/step - loss: 11.2463 - acc: 0.3023 - val_loss: 11.6620 - val_acc: 0.2765\n",
      "Epoch 90/100\n",
      "362/362 [==============================] - 174s 479ms/step - loss: 11.2537 - acc: 0.3018 - val_loss: 11.8399 - val_acc: 0.2654\n",
      "Epoch 91/100\n",
      "362/362 [==============================] - 174s 480ms/step - loss: 11.4346 - acc: 0.2906 - val_loss: 11.7752 - val_acc: 0.2694\n",
      "Epoch 92/100\n",
      "362/362 [==============================] - 174s 480ms/step - loss: 11.4624 - acc: 0.2888 - val_loss: 11.1595 - val_acc: 0.3076\n",
      "Epoch 93/100\n",
      "362/362 [==============================] - 174s 480ms/step - loss: 11.4956 - acc: 0.2868 - val_loss: 11.1052 - val_acc: 0.3110\n",
      "Epoch 94/100\n",
      "362/362 [==============================] - 173s 479ms/step - loss: 11.2593 - acc: 0.3015 - val_loss: 11.3565 - val_acc: 0.2954\n",
      "Epoch 95/100\n",
      "362/362 [==============================] - 174s 480ms/step - loss: 11.4263 - acc: 0.2911 - val_loss: 11.4338 - val_acc: 0.2906\n",
      "Epoch 96/100\n",
      "362/362 [==============================] - 174s 480ms/step - loss: 11.3929 - acc: 0.2932 - val_loss: 11.5121 - val_acc: 0.2858\n",
      "Epoch 97/100\n",
      "362/362 [==============================] - 173s 479ms/step - loss: 11.1391 - acc: 0.3089 - val_loss: 11.5291 - val_acc: 0.2847\n",
      "Epoch 98/100\n",
      "362/362 [==============================] - 173s 479ms/step - loss: 11.3372 - acc: 0.2966 - val_loss: 11.4948 - val_acc: 0.2868\n",
      "Epoch 99/100\n",
      "362/362 [==============================] - 173s 479ms/step - loss: 11.4903 - acc: 0.2871 - val_loss: 11.1260 - val_acc: 0.3097\n",
      "Epoch 100/100\n",
      "362/362 [==============================] - 174s 479ms/step - loss: 11.4402 - acc: 0.2902 - val_loss: 11.7752 - val_acc: 0.2694\n"
     ]
    }
   ],
   "source": [
    "# do not rerun\n",
    "t_steps = 11614 // 32\n",
    "v_steps = 2884 // 32\n",
    "history = model.fit_generator(train_generator, \n",
    "                              epochs=100, \n",
    "                              workers = 4,\n",
    "                              use_multiprocessing=True,\n",
    "                              steps_per_epoch=t_steps, \n",
    "                              validation_data=validation_generator,\n",
    "                              validation_steps=v_steps,\n",
    "                             )"
   ]
  },
  {
   "cell_type": "code",
   "execution_count": 0,
   "metadata": {
    "colab": {},
    "colab_type": "code",
    "id": "8duA7Uu-i7iw"
   },
   "outputs": [],
   "source": [
    "# save history object\n",
    "import pickle\n",
    "\n",
    "with open('/content/drive/My Drive/Colab Notebooks/domat/history/vgg_untrained.pickle', 'wb') as handle:\n",
    "    pickle.dump(history, handle, protocol=pickle.HIGHEST_PROTOCOL)\n"
   ]
  },
  {
   "cell_type": "code",
   "execution_count": 0,
   "metadata": {
    "colab": {},
    "colab_type": "code",
    "id": "eJzMP2idi7i1"
   },
   "outputs": [],
   "source": [
    "# save trained model\n",
    "model.save('/content/drive/My Drive/Colab Notebooks/domat/models/vgg_untrained.h5')"
   ]
  },
  {
   "cell_type": "code",
   "execution_count": 0,
   "metadata": {
    "colab": {},
    "colab_type": "code",
    "id": "HwVh78zmi7i3"
   },
   "outputs": [],
   "source": [
    "import matplotlib.pyplot as plt"
   ]
  },
  {
   "cell_type": "code",
   "execution_count": 0,
   "metadata": {
    "colab": {
     "base_uri": "https://localhost:8080/"
    },
    "colab_type": "code",
    "executionInfo": {
     "elapsed": 55,
     "status": "ok",
     "timestamp": 1560531645408,
     "user": {
      "displayName": "Zafir Zarya",
      "photoUrl": "https://lh4.googleusercontent.com/-ETKM_UfxYUM/AAAAAAAAAAI/AAAAAAAAGMA/PyI6bvEs4Rg/s64/photo.jpg",
      "userId": "06365792245261835796"
     },
     "user_tz": -120
    },
    "id": "fbDS3QRAi7i7",
    "outputId": "bfa864a1-d7a7-40d1-934b-e05b5250ae27"
   },
   "outputs": [
    {
     "data": {
      "image/png": "[encoded data removed]",
      "text/plain": [
       "<Figure size 432x288 with 1 Axes>"
      ]
     },
     "metadata": {
      "tags": []
     },
     "output_type": "display_data"
    }
   ],
   "source": [
    "plt.plot(history.history['acc'])\n",
    "plt.plot(history.history['val_acc'])\n",
    "plt.title('model accuracy')\n",
    "plt.ylabel('accuracy')\n",
    "plt.xlabel('epoch')\n",
    "plt.legend(['train', 'test'], loc='upper left')\n",
    "plt.show()"
   ]
  },
  {
   "cell_type": "code",
   "execution_count": 0,
   "metadata": {
    "colab": {
     "base_uri": "https://localhost:8080/"
    },
    "colab_type": "code",
    "executionInfo": {
     "elapsed": 1413,
     "status": "ok",
     "timestamp": 1560531646814,
     "user": {
      "displayName": "Zafir Zarya",
      "photoUrl": "https://lh4.googleusercontent.com/-ETKM_UfxYUM/AAAAAAAAAAI/AAAAAAAAGMA/PyI6bvEs4Rg/s64/photo.jpg",
      "userId": "06365792245261835796"
     },
     "user_tz": -120
    },
    "id": "l7mSiu4mi7jA",
    "outputId": "0b43cf43-24bf-4640-cc52-d8e97aafdd0b"
   },
   "outputs": [
    {
     "data": {
      "image/png": "[encoded data removed]",
      "text/plain": [
       "<Figure size 432x288 with 1 Axes>"
      ]
     },
     "metadata": {
      "tags": []
     },
     "output_type": "display_data"
    }
   ],
   "source": [
    "plt.plot(history.history['loss'])\n",
    "plt.plot(history.history['val_loss'])\n",
    "plt.title('model loss')\n",
    "plt.ylabel('loss')\n",
    "plt.xlabel('epoch')\n",
    "plt.legend(['train', 'test'], loc='upper left')\n",
    "plt.show()"
   ]
  },
  {
   "cell_type": "markdown",
   "metadata": {
    "colab_type": "text",
    "id": "Sm_-fhvpKMw7"
   },
   "source": [
    "### Pretrain-ImageNet"
   ]
  },
  {
   "cell_type": "code",
   "execution_count": 0,
   "metadata": {
    "colab": {
     "base_uri": "https://localhost:8080/",
     "height": 121
    },
    "colab_type": "code",
    "executionInfo": {
     "elapsed": 4516,
     "status": "ok",
     "timestamp": 1560435708539,
     "user": {
      "displayName": "Zafir Zarya",
      "photoUrl": "https://lh4.googleusercontent.com/-ETKM_UfxYUM/AAAAAAAAAAI/AAAAAAAAGMA/PyI6bvEs4Rg/s64/photo.jpg",
      "userId": "06365792245261835796"
     },
     "user_tz": -120
    },
    "id": "o8FY8s8ZsK8T",
    "outputId": "9d701e1a-e0b9-42ad-ea5e-e3e0ce841620"
   },
   "outputs": [
    {
     "name": "stdout",
     "output_type": "stream",
     "text": [
      "WARNING:tensorflow:From /usr/local/lib/python3.6/dist-packages/tensorflow/python/framework/op_def_library.py:263: colocate_with (from tensorflow.python.framework.ops) is deprecated and will be removed in a future version.\n",
      "Instructions for updating:\n",
      "Colocations handled automatically by placer.\n",
      "Downloading data from https://github.com/fchollet/deep-learning-models/releases/download/v0.1/vgg16_weights_tf_dim_ordering_tf_kernels_notop.h5\n",
      "58892288/58889256 [==============================] - 1s 0us/step\n"
     ]
    }
   ],
   "source": [
    "base_model = vgg16.VGG16(include_top=False, weights='imagenet',\n",
    "                         input_shape=(224, 224, 3))\n",
    "for layer in base_model.layers:\n",
    "  layer.trainable = False\n",
    "# base_model.summary()"
   ]
  },
  {
   "cell_type": "code",
   "execution_count": 0,
   "metadata": {
    "colab": {},
    "colab_type": "code",
    "id": "6vhK8qC1sTEJ"
   },
   "outputs": [],
   "source": [
    "x = base_model.output\n",
    "x = Flatten(name='flatten', input_shape=base_model.output_shape)(x) \n",
    "x = Dense(10, activation='softmax', name='predictions')(x)\n",
    "model = Model(inputs=base_model.input, outputs=x)\n",
    "# model.summary()"
   ]
  },
  {
   "cell_type": "code",
   "execution_count": 0,
   "metadata": {
    "colab": {},
    "colab_type": "code",
    "id": "8mydkFv4skA_"
   },
   "outputs": [],
   "source": [
    "model.compile(optimizer='adam', \n",
    "              loss='categorical_crossentropy',\n",
    "              metrics=['accuracy'])"
   ]
  },
  {
   "cell_type": "code",
   "execution_count": 0,
   "metadata": {
    "colab": {},
    "colab_type": "code",
    "id": "nvYVOdjrsnF-"
   },
   "outputs": [],
   "source": [
    "train_datagen = ImageDataGenerator(\n",
    "    rescale=1./255,\n",
    "    rotation_range=40,\n",
    "    width_shift_range=0.2,\n",
    "    height_shift_range=0.2,\n",
    "    shear_range=0.2,\n",
    "    zoom_range=0.2,\n",
    "    fill_mode='nearest',\n",
    ")\n",
    "validation_datagen = ImageDataGenerator(\n",
    "    rescale=1./255,\n",
    ")"
   ]
  },
  {
   "cell_type": "code",
   "execution_count": 0,
   "metadata": {
    "colab": {
     "base_uri": "https://localhost:8080/",
     "height": 50
    },
    "colab_type": "code",
    "executionInfo": {
     "elapsed": 1472,
     "status": "ok",
     "timestamp": 1560435809310,
     "user": {
      "displayName": "Zafir Zarya",
      "photoUrl": "https://lh4.googleusercontent.com/-ETKM_UfxYUM/AAAAAAAAAAI/AAAAAAAAGMA/PyI6bvEs4Rg/s64/photo.jpg",
      "userId": "06365792245261835796"
     },
     "user_tz": -120
    },
    "id": "XrnC-y38sqTF",
    "outputId": "df72b1a3-ac40-4e1a-8db8-8f1d83d691b3"
   },
   "outputs": [
    {
     "name": "stdout",
     "output_type": "stream",
     "text": [
      "Found 11614 images belonging to 10 classes.\n",
      "Found 2884 images belonging to 10 classes.\n"
     ]
    }
   ],
   "source": [
    "train_generator = train_datagen.flow_from_directory(\n",
    "        '/content/drive/My Drive/Colab Notebooks/domat/solo-dataset/train/', \n",
    "        target_size=(224, 224),\n",
    "        batch_size=32,\n",
    "        class_mode='categorical',\n",
    ")\n",
    "validation_generator = validation_datagen.flow_from_directory(\n",
    "        '/content/drive/My Drive/Colab Notebooks/domat/solo-dataset/validation/',\n",
    "        target_size=(224, 224),\n",
    "        batch_size=32,\n",
    "        class_mode='categorical',\n",
    ")"
   ]
  },
  {
   "cell_type": "code",
   "execution_count": 0,
   "metadata": {
    "colab": {
     "base_uri": "https://localhost:8080/",
     "height": 34
    },
    "colab_type": "code",
    "executionInfo": {
     "elapsed": 992,
     "status": "ok",
     "timestamp": 1560435816988,
     "user": {
      "displayName": "Zafir Zarya",
      "photoUrl": "https://lh4.googleusercontent.com/-ETKM_UfxYUM/AAAAAAAAAAI/AAAAAAAAGMA/PyI6bvEs4Rg/s64/photo.jpg",
      "userId": "06365792245261835796"
     },
     "user_tz": -120
    },
    "id": "9frothin7THr",
    "outputId": "05b3e85a-2d2b-43ba-de10-da4db0eba66c"
   },
   "outputs": [
    {
     "name": "stdout",
     "output_type": "stream",
     "text": [
      "Found GPU at: /device:GPU:0\n"
     ]
    }
   ],
   "source": [
    "# check if GPU is running\n",
    "import tensorflow as tf\n",
    "device_name = tf.test.gpu_device_name()\n",
    "if device_name != '/device:GPU:0':\n",
    "  raise SystemError('GPU device not found')\n",
    "print('Found GPU at: {}'.format(device_name))"
   ]
  },
  {
   "cell_type": "code",
   "execution_count": 0,
   "metadata": {
    "colab": {
     "base_uri": "https://localhost:8080/",
     "height": 3481
    },
    "colab_type": "code",
    "executionInfo": {
     "elapsed": 11884126,
     "status": "ok",
     "timestamp": 1560453652526,
     "user": {
      "displayName": "Zafir Zarya",
      "photoUrl": "https://lh4.googleusercontent.com/-ETKM_UfxYUM/AAAAAAAAAAI/AAAAAAAAGMA/PyI6bvEs4Rg/s64/photo.jpg",
      "userId": "06365792245261835796"
     },
     "user_tz": -120
    },
    "id": "-5aaow80tqoq",
    "outputId": "c05c87fa-2a6a-4261-85cd-e49df164a7a7"
   },
   "outputs": [
    {
     "name": "stdout",
     "output_type": "stream",
     "text": [
      "WARNING:tensorflow:From /usr/local/lib/python3.6/dist-packages/tensorflow/python/ops/math_ops.py:3066: to_int32 (from tensorflow.python.ops.math_ops) is deprecated and will be removed in a future version.\n",
      "Instructions for updating:\n",
      "Use tf.cast instead.\n",
      "Epoch 1/100\n"
     ]
    },
    {
     "name": "stderr",
     "output_type": "stream",
     "text": [
      "/usr/local/lib/python3.6/dist-packages/keras/engine/training_generator.py:47: UserWarning: Using a generator with `use_multiprocessing=True` and multiple workers may duplicate your data. Please consider using the`keras.utils.Sequence class.\n",
      "  UserWarning('Using a generator with `use_multiprocessing=True`'\n"
     ]
    },
    {
     "name": "stdout",
     "output_type": "stream",
     "text": [
      "362/362 [==============================] - 1144s 3s/step - loss: 1.4872 - acc: 0.6553 - val_loss: 1.1786 - val_acc: 0.7222\n",
      "Epoch 2/100\n",
      "362/362 [==============================] - 1112s 3s/step - loss: 1.0711 - acc: 0.7318 - val_loss: 0.8970 - val_acc: 0.7708\n",
      "Epoch 3/100\n",
      "362/362 [==============================] - 1149s 3s/step - loss: 1.1420 - acc: 0.7573 - val_loss: 1.3682 - val_acc: 0.7160\n",
      "Epoch 4/100\n",
      "362/362 [==============================] - 1119s 3s/step - loss: 1.2713 - acc: 0.7490 - val_loss: 1.1203 - val_acc: 0.7667\n",
      "Epoch 5/100\n",
      "362/362 [==============================] - 143s 395ms/step - loss: 0.6451 - acc: 0.8431 - val_loss: 0.7655 - val_acc: 0.8179\n",
      "Epoch 6/100\n",
      "362/362 [==============================] - 135s 372ms/step - loss: 0.5465 - acc: 0.8649 - val_loss: 1.5304 - val_acc: 0.7229\n",
      "Epoch 7/100\n",
      "362/362 [==============================] - 134s 370ms/step - loss: 0.3654 - acc: 0.9053 - val_loss: 0.7551 - val_acc: 0.8226\n",
      "Epoch 8/100\n",
      "362/362 [==============================] - 133s 368ms/step - loss: 0.3818 - acc: 0.8983 - val_loss: 0.9267 - val_acc: 0.7965\n",
      "Epoch 9/100\n",
      "362/362 [==============================] - 132s 366ms/step - loss: 0.4829 - acc: 0.8756 - val_loss: 0.8308 - val_acc: 0.8118\n",
      "Epoch 10/100\n",
      "362/362 [==============================] - 135s 373ms/step - loss: 0.4790 - acc: 0.8792 - val_loss: 0.5817 - val_acc: 0.8566\n",
      "Epoch 11/100\n",
      "362/362 [==============================] - 135s 372ms/step - loss: 0.3682 - acc: 0.9083 - val_loss: 0.8169 - val_acc: 0.8292\n",
      "Epoch 12/100\n",
      "362/362 [==============================] - 136s 375ms/step - loss: 0.4381 - acc: 0.8870 - val_loss: 0.8832 - val_acc: 0.8187\n",
      "Epoch 13/100\n",
      "362/362 [==============================] - 137s 378ms/step - loss: 0.4389 - acc: 0.8893 - val_loss: 0.6324 - val_acc: 0.8743\n",
      "Epoch 14/100\n",
      "362/362 [==============================] - 136s 377ms/step - loss: 0.4344 - acc: 0.8949 - val_loss: 0.6396 - val_acc: 0.8653\n",
      "Epoch 15/100\n",
      "362/362 [==============================] - 139s 384ms/step - loss: 0.3998 - acc: 0.9030 - val_loss: 0.5220 - val_acc: 0.8868\n",
      "Epoch 16/100\n",
      "362/362 [==============================] - 137s 378ms/step - loss: 0.2711 - acc: 0.9320 - val_loss: 0.7722 - val_acc: 0.8493\n",
      "Epoch 17/100\n",
      "362/362 [==============================] - 138s 381ms/step - loss: 0.3088 - acc: 0.9251 - val_loss: 0.5156 - val_acc: 0.8584\n",
      "Epoch 18/100\n",
      "362/362 [==============================] - 139s 384ms/step - loss: 0.3904 - acc: 0.9048 - val_loss: 0.6526 - val_acc: 0.8590\n",
      "Epoch 19/100\n",
      "362/362 [==============================] - 138s 381ms/step - loss: 0.3249 - acc: 0.9233 - val_loss: 0.7602 - val_acc: 0.8531\n",
      "Epoch 20/100\n",
      "362/362 [==============================] - 139s 383ms/step - loss: 0.2639 - acc: 0.9351 - val_loss: 1.2192 - val_acc: 0.7722\n",
      "Epoch 21/100\n",
      "362/362 [==============================] - 138s 381ms/step - loss: 0.2724 - acc: 0.9339 - val_loss: 0.8389 - val_acc: 0.8475\n",
      "Epoch 22/100\n",
      "362/362 [==============================] - 140s 386ms/step - loss: 0.2632 - acc: 0.9390 - val_loss: 0.9715 - val_acc: 0.8014\n",
      "Epoch 23/100\n",
      "362/362 [==============================] - 139s 385ms/step - loss: 0.3312 - acc: 0.9203 - val_loss: 1.2650 - val_acc: 0.8031\n",
      "Epoch 24/100\n",
      "362/362 [==============================] - 140s 386ms/step - loss: 0.2576 - acc: 0.9369 - val_loss: 0.5651 - val_acc: 0.8715\n",
      "Epoch 25/100\n",
      "362/362 [==============================] - 139s 385ms/step - loss: 0.2806 - acc: 0.9338 - val_loss: 0.9047 - val_acc: 0.8414\n",
      "Epoch 26/100\n",
      "362/362 [==============================] - 139s 383ms/step - loss: 0.3068 - acc: 0.9303 - val_loss: 0.7978 - val_acc: 0.8538\n",
      "Epoch 27/100\n",
      "362/362 [==============================] - 138s 381ms/step - loss: 0.3134 - acc: 0.9275 - val_loss: 0.9354 - val_acc: 0.8455\n",
      "Epoch 28/100\n",
      "362/362 [==============================] - 138s 382ms/step - loss: 0.4125 - acc: 0.9098 - val_loss: 0.8015 - val_acc: 0.8521\n",
      "Epoch 29/100\n",
      "362/362 [==============================] - 138s 381ms/step - loss: 0.2691 - acc: 0.9344 - val_loss: 0.8699 - val_acc: 0.8233\n",
      "Epoch 30/100\n",
      "362/362 [==============================] - 140s 387ms/step - loss: 0.2585 - acc: 0.9369 - val_loss: 0.6042 - val_acc: 0.8809\n",
      "Epoch 31/100\n",
      "362/362 [==============================] - 141s 389ms/step - loss: 0.2600 - acc: 0.9379 - val_loss: 0.7120 - val_acc: 0.8726\n",
      "Epoch 32/100\n",
      "362/362 [==============================] - 140s 387ms/step - loss: 0.2964 - acc: 0.9304 - val_loss: 0.6775 - val_acc: 0.8712\n",
      "Epoch 33/100\n",
      "362/362 [==============================] - 140s 387ms/step - loss: 0.2555 - acc: 0.9436 - val_loss: 0.6761 - val_acc: 0.8746\n",
      "Epoch 34/100\n",
      "362/362 [==============================] - 140s 388ms/step - loss: 0.2783 - acc: 0.9347 - val_loss: 0.6164 - val_acc: 0.8993\n",
      "Epoch 35/100\n",
      "362/362 [==============================] - 140s 388ms/step - loss: 0.3992 - acc: 0.9151 - val_loss: 1.1301 - val_acc: 0.8302\n",
      "Epoch 36/100\n",
      "362/362 [==============================] - 139s 385ms/step - loss: 0.2620 - acc: 0.9368 - val_loss: 0.9517 - val_acc: 0.8208\n",
      "Epoch 37/100\n",
      "362/362 [==============================] - 138s 382ms/step - loss: 0.2549 - acc: 0.9400 - val_loss: 0.9225 - val_acc: 0.8353\n",
      "Epoch 38/100\n",
      "362/362 [==============================] - 140s 388ms/step - loss: 0.2190 - acc: 0.9490 - val_loss: 0.9290 - val_acc: 0.8319\n",
      "Epoch 39/100\n",
      "362/362 [==============================] - 140s 386ms/step - loss: 0.3157 - acc: 0.9332 - val_loss: 0.8000 - val_acc: 0.8694\n",
      "Epoch 40/100\n",
      "362/362 [==============================] - 140s 387ms/step - loss: 0.3253 - acc: 0.9292 - val_loss: 0.4645 - val_acc: 0.9149\n",
      "Epoch 41/100\n",
      "362/362 [==============================] - 138s 382ms/step - loss: 0.2264 - acc: 0.9450 - val_loss: 0.6131 - val_acc: 0.8837\n",
      "Epoch 42/100\n",
      "362/362 [==============================] - 140s 387ms/step - loss: 0.2648 - acc: 0.9410 - val_loss: 0.8090 - val_acc: 0.8660\n",
      "Epoch 43/100\n",
      "362/362 [==============================] - 140s 386ms/step - loss: 0.2110 - acc: 0.9507 - val_loss: 0.5924 - val_acc: 0.8781\n",
      "Epoch 44/100\n",
      "362/362 [==============================] - 141s 390ms/step - loss: 0.2623 - acc: 0.9417 - val_loss: 0.6553 - val_acc: 0.8854\n",
      "Epoch 45/100\n",
      "362/362 [==============================] - 144s 397ms/step - loss: 0.2758 - acc: 0.9409 - val_loss: 0.9854 - val_acc: 0.8439\n",
      "Epoch 46/100\n",
      "362/362 [==============================] - 139s 385ms/step - loss: 0.2512 - acc: 0.9421 - val_loss: 0.8710 - val_acc: 0.8715\n",
      "Epoch 47/100\n",
      "362/362 [==============================] - 140s 386ms/step - loss: 0.2787 - acc: 0.9405 - val_loss: 0.7905 - val_acc: 0.8597\n",
      "Epoch 48/100\n",
      "362/362 [==============================] - 140s 386ms/step - loss: 0.2936 - acc: 0.9328 - val_loss: 1.1884 - val_acc: 0.8236\n",
      "Epoch 49/100\n",
      "362/362 [==============================] - 138s 380ms/step - loss: 0.3145 - acc: 0.9321 - val_loss: 0.6240 - val_acc: 0.8826\n",
      "Epoch 50/100\n",
      "362/362 [==============================] - 137s 380ms/step - loss: 0.3096 - acc: 0.9333 - val_loss: 0.6323 - val_acc: 0.8837\n",
      "Epoch 51/100\n",
      "362/362 [==============================] - 139s 383ms/step - loss: 0.2724 - acc: 0.9429 - val_loss: 1.0749 - val_acc: 0.8319\n",
      "Epoch 52/100\n",
      "362/362 [==============================] - 138s 383ms/step - loss: 0.2504 - acc: 0.9454 - val_loss: 0.6748 - val_acc: 0.8882\n",
      "Epoch 53/100\n",
      "362/362 [==============================] - 137s 380ms/step - loss: 0.2568 - acc: 0.9430 - val_loss: 0.7262 - val_acc: 0.8873\n",
      "Epoch 54/100\n",
      "362/362 [==============================] - 137s 378ms/step - loss: 0.2459 - acc: 0.9419 - val_loss: 0.8490 - val_acc: 0.8691\n",
      "Epoch 55/100\n",
      "362/362 [==============================] - 136s 376ms/step - loss: 0.2707 - acc: 0.9417 - val_loss: 0.6999 - val_acc: 0.8844\n",
      "Epoch 56/100\n",
      "362/362 [==============================] - 136s 377ms/step - loss: 0.2209 - acc: 0.9477 - val_loss: 0.6322 - val_acc: 0.8809\n",
      "Epoch 57/100\n",
      "362/362 [==============================] - 135s 373ms/step - loss: 0.2584 - acc: 0.9427 - val_loss: 0.8295 - val_acc: 0.8652\n",
      "Epoch 58/100\n",
      "362/362 [==============================] - 137s 378ms/step - loss: 0.3020 - acc: 0.9439 - val_loss: 0.6268 - val_acc: 0.8955\n",
      "Epoch 59/100\n",
      "362/362 [==============================] - 137s 378ms/step - loss: 0.2489 - acc: 0.9460 - val_loss: 1.3129 - val_acc: 0.8181\n",
      "Epoch 60/100\n",
      "362/362 [==============================] - 138s 382ms/step - loss: 0.2655 - acc: 0.9437 - val_loss: 0.7620 - val_acc: 0.8833\n",
      "Epoch 61/100\n",
      "362/362 [==============================] - 138s 381ms/step - loss: 0.3066 - acc: 0.9413 - val_loss: 0.9372 - val_acc: 0.8508\n",
      "Epoch 62/100\n",
      "362/362 [==============================] - 139s 383ms/step - loss: 0.2681 - acc: 0.9367 - val_loss: 1.2423 - val_acc: 0.8358\n",
      "Epoch 63/100\n",
      "362/362 [==============================] - 137s 379ms/step - loss: 0.2271 - acc: 0.9541 - val_loss: 0.8582 - val_acc: 0.8514\n",
      "Epoch 64/100\n",
      "362/362 [==============================] - 138s 380ms/step - loss: 0.2286 - acc: 0.9490 - val_loss: 0.6664 - val_acc: 0.8771\n",
      "Epoch 65/100\n",
      "362/362 [==============================] - 137s 380ms/step - loss: 0.2690 - acc: 0.9433 - val_loss: 0.6679 - val_acc: 0.8881\n",
      "Epoch 66/100\n",
      "362/362 [==============================] - 138s 380ms/step - loss: 0.2497 - acc: 0.9496 - val_loss: 0.4959 - val_acc: 0.9025\n",
      "Epoch 67/100\n",
      "362/362 [==============================] - 139s 383ms/step - loss: 0.3127 - acc: 0.9376 - val_loss: 0.9143 - val_acc: 0.8604\n",
      "Epoch 68/100\n",
      "362/362 [==============================] - 138s 381ms/step - loss: 0.2818 - acc: 0.9406 - val_loss: 0.8652 - val_acc: 0.8597\n",
      "Epoch 69/100\n",
      "362/362 [==============================] - 139s 385ms/step - loss: 0.2666 - acc: 0.9449 - val_loss: 0.7786 - val_acc: 0.8723\n",
      "Epoch 70/100\n",
      "362/362 [==============================] - 140s 388ms/step - loss: 0.3160 - acc: 0.9360 - val_loss: 0.8958 - val_acc: 0.8534\n",
      "Epoch 71/100\n",
      "362/362 [==============================] - 142s 391ms/step - loss: 0.2805 - acc: 0.9410 - val_loss: 0.7817 - val_acc: 0.8830\n",
      "Epoch 72/100\n",
      "362/362 [==============================] - 138s 382ms/step - loss: 0.2397 - acc: 0.9517 - val_loss: 0.5760 - val_acc: 0.9090\n",
      "Epoch 73/100\n",
      "362/362 [==============================] - 138s 382ms/step - loss: 0.2326 - acc: 0.9542 - val_loss: 0.8214 - val_acc: 0.8780\n",
      "Epoch 74/100\n",
      "362/362 [==============================] - 139s 383ms/step - loss: 0.2949 - acc: 0.9448 - val_loss: 0.9387 - val_acc: 0.8664\n",
      "Epoch 75/100\n",
      "362/362 [==============================] - 138s 383ms/step - loss: 0.2567 - acc: 0.9445 - val_loss: 0.9166 - val_acc: 0.8573\n",
      "Epoch 76/100\n",
      "362/362 [==============================] - 139s 385ms/step - loss: 0.2305 - acc: 0.9513 - val_loss: 0.6403 - val_acc: 0.8938\n",
      "Epoch 77/100\n",
      "362/362 [==============================] - 139s 384ms/step - loss: 0.2479 - acc: 0.9465 - val_loss: 0.7704 - val_acc: 0.8816\n",
      "Epoch 78/100\n",
      "362/362 [==============================] - 140s 387ms/step - loss: 0.2633 - acc: 0.9438 - val_loss: 0.7599 - val_acc: 0.8860\n",
      "Epoch 79/100\n",
      "362/362 [==============================] - 140s 385ms/step - loss: 0.2649 - acc: 0.9460 - val_loss: 0.7836 - val_acc: 0.8847\n",
      "Epoch 80/100\n",
      "362/362 [==============================] - 141s 390ms/step - loss: 0.2429 - acc: 0.9477 - val_loss: 0.6196 - val_acc: 0.9007\n",
      "Epoch 81/100\n",
      "362/362 [==============================] - 139s 385ms/step - loss: 0.1925 - acc: 0.9559 - val_loss: 1.1860 - val_acc: 0.8398\n",
      "Epoch 82/100\n",
      "362/362 [==============================] - 141s 390ms/step - loss: 0.2483 - acc: 0.9488 - val_loss: 0.9642 - val_acc: 0.8643\n",
      "Epoch 83/100\n",
      "362/362 [==============================] - 140s 387ms/step - loss: 0.2346 - acc: 0.9515 - val_loss: 0.7000 - val_acc: 0.8868\n",
      "Epoch 84/100\n",
      "362/362 [==============================] - 140s 386ms/step - loss: 0.2763 - acc: 0.9412 - val_loss: 0.9696 - val_acc: 0.8670\n",
      "Epoch 85/100\n",
      "362/362 [==============================] - 139s 385ms/step - loss: 0.2499 - acc: 0.9503 - val_loss: 1.1476 - val_acc: 0.8424\n",
      "Epoch 86/100\n",
      "362/362 [==============================] - 138s 382ms/step - loss: 0.2390 - acc: 0.9493 - val_loss: 1.0378 - val_acc: 0.8545\n",
      "Epoch 87/100\n",
      "362/362 [==============================] - 139s 383ms/step - loss: 0.2386 - acc: 0.9490 - val_loss: 0.7621 - val_acc: 0.8903\n",
      "Epoch 88/100\n",
      "362/362 [==============================] - 138s 382ms/step - loss: 0.2188 - acc: 0.9526 - val_loss: 0.5815 - val_acc: 0.9035\n",
      "Epoch 89/100\n",
      "362/362 [==============================] - 138s 382ms/step - loss: 0.2266 - acc: 0.9496 - val_loss: 0.7833 - val_acc: 0.8849\n",
      "Epoch 90/100\n",
      "362/362 [==============================] - 139s 383ms/step - loss: 0.2461 - acc: 0.9479 - val_loss: 0.7385 - val_acc: 0.8920\n",
      "Epoch 91/100\n",
      "362/362 [==============================] - 140s 386ms/step - loss: 0.2124 - acc: 0.9539 - val_loss: 0.8862 - val_acc: 0.8500\n",
      "Epoch 92/100\n",
      "362/362 [==============================] - 138s 382ms/step - loss: 0.2324 - acc: 0.9517 - val_loss: 1.4970 - val_acc: 0.8132\n",
      "Epoch 93/100\n",
      "362/362 [==============================] - 139s 383ms/step - loss: 0.2302 - acc: 0.9538 - val_loss: 0.7709 - val_acc: 0.8877\n",
      "Epoch 94/100\n",
      "362/362 [==============================] - 139s 385ms/step - loss: 0.2504 - acc: 0.9459 - val_loss: 0.7422 - val_acc: 0.8952\n",
      "Epoch 95/100\n",
      "362/362 [==============================] - 139s 384ms/step - loss: 0.2459 - acc: 0.9466 - val_loss: 0.6644 - val_acc: 0.9059\n",
      "Epoch 96/100\n",
      "362/362 [==============================] - 141s 389ms/step - loss: 0.2175 - acc: 0.9520 - val_loss: 0.7334 - val_acc: 0.8875\n",
      "Epoch 97/100\n",
      "362/362 [==============================] - 142s 392ms/step - loss: 0.2317 - acc: 0.9499 - val_loss: 0.9032 - val_acc: 0.8853\n",
      "Epoch 98/100\n",
      "362/362 [==============================] - 139s 384ms/step - loss: 0.2214 - acc: 0.9546 - val_loss: 0.7692 - val_acc: 0.8938\n",
      "Epoch 99/100\n",
      "362/362 [==============================] - 138s 381ms/step - loss: 0.2783 - acc: 0.9438 - val_loss: 0.6249 - val_acc: 0.9028\n",
      "Epoch 100/100\n",
      "362/362 [==============================] - 138s 380ms/step - loss: 0.2762 - acc: 0.9448 - val_loss: 0.8577 - val_acc: 0.8653\n"
     ]
    }
   ],
   "source": [
    "# do not rerun\n",
    "t_steps = 11614 // 32\n",
    "v_steps = 2884 // 32\n",
    "history = model.fit_generator(train_generator, \n",
    "                              epochs=100, \n",
    "                              workers = 4,\n",
    "                              use_multiprocessing=True,\n",
    "                              steps_per_epoch=t_steps, \n",
    "                              validation_data=validation_generator,\n",
    "                              validation_steps=v_steps,\n",
    "                             )"
   ]
  },
  {
   "cell_type": "code",
   "execution_count": 0,
   "metadata": {
    "colab": {},
    "colab_type": "code",
    "id": "nw4LIJArRWSt"
   },
   "outputs": [],
   "source": [
    "# save history object\n",
    "import pickle\n",
    "\n",
    "with open('/content/drive/My Drive/Colab Notebooks/domat/history/vgg_imagenet.pickle', 'wb') as handle:\n",
    "    pickle.dump(history, handle, protocol=pickle.HIGHEST_PROTOCOL)\n"
   ]
  },
  {
   "cell_type": "code",
   "execution_count": 0,
   "metadata": {
    "colab": {},
    "colab_type": "code",
    "id": "GAvKcUg0RuC9"
   },
   "outputs": [],
   "source": [
    "# save trained model\n",
    "model.save('/content/drive/My Drive/Colab Notebooks/domat/models/vgg_imagenet.h5')"
   ]
  },
  {
   "cell_type": "code",
   "execution_count": 0,
   "metadata": {
    "colab": {},
    "colab_type": "code",
    "id": "imXefRLyTPMg"
   },
   "outputs": [],
   "source": [
    "import matplotlib.pyplot as plt"
   ]
  },
  {
   "cell_type": "code",
   "execution_count": 0,
   "metadata": {
    "colab": {
     "base_uri": "https://localhost:8080/",
     "height": 295
    },
    "colab_type": "code",
    "executionInfo": {
     "elapsed": 825,
     "status": "ok",
     "timestamp": 1560453939876,
     "user": {
      "displayName": "Zafir Zarya",
      "photoUrl": "https://lh4.googleusercontent.com/-ETKM_UfxYUM/AAAAAAAAAAI/AAAAAAAAGMA/PyI6bvEs4Rg/s64/photo.jpg",
      "userId": "06365792245261835796"
     },
     "user_tz": -120
    },
    "id": "MrqyZtMLTQ_t",
    "outputId": "39539ae4-4a52-4efc-be7c-e3090f4f9eea"
   },
   "outputs": [
    {
     "data": {
      "image/png": "[encoded data removed]",
      "text/plain": [
       "<Figure size 432x288 with 1 Axes>"
      ]
     },
     "metadata": {
      "tags": []
     },
     "output_type": "display_data"
    }
   ],
   "source": [
    "plt.plot(history.history['acc'])\n",
    "plt.plot(history.history['val_acc'])\n",
    "plt.title('model accuracy')\n",
    "plt.ylabel('accuracy')\n",
    "plt.xlabel('epoch')\n",
    "plt.legend(['train', 'test'], loc='upper left')\n",
    "plt.show()"
   ]
  },
  {
   "cell_type": "code",
   "execution_count": 0,
   "metadata": {
    "colab": {
     "base_uri": "https://localhost:8080/",
     "height": 295
    },
    "colab_type": "code",
    "executionInfo": {
     "elapsed": 802,
     "status": "ok",
     "timestamp": 1560453961019,
     "user": {
      "displayName": "Zafir Zarya",
      "photoUrl": "https://lh4.googleusercontent.com/-ETKM_UfxYUM/AAAAAAAAAAI/AAAAAAAAGMA/PyI6bvEs4Rg/s64/photo.jpg",
      "userId": "06365792245261835796"
     },
     "user_tz": -120
    },
    "id": "EllQOkkqTcpn",
    "outputId": "a919bf9f-c2a0-4dff-dcab-b00e13cd87d7"
   },
   "outputs": [
    {
     "data": {
      "image/png": "[encoded data removed]",
      "text/plain": [
       "<Figure size 432x288 with 1 Axes>"
      ]
     },
     "metadata": {
      "tags": []
     },
     "output_type": "display_data"
    }
   ],
   "source": [
    "plt.plot(history.history['loss'])\n",
    "plt.plot(history.history['val_loss'])\n",
    "plt.title('model loss')\n",
    "plt.ylabel('loss')\n",
    "plt.xlabel('epoch')\n",
    "plt.legend(['train', 'test'], loc='upper left')\n",
    "plt.show()"
   ]
  },
  {
   "cell_type": "markdown",
   "metadata": {
    "colab_type": "text",
    "id": "Oyl5mOg7S3V3"
   },
   "source": [
    "###  Pretrain-ImageNet (L2 regularization)"
   ]
  },
  {
   "cell_type": "code",
   "execution_count": 0,
   "metadata": {
    "colab": {},
    "colab_type": "code",
    "id": "nkd7AM_OTx2N"
   },
   "outputs": [],
   "source": [
    "base_model = vgg16.VGG16(include_top=False, weights='imagenet',\n",
    "                         input_shape=(224, 224, 3))\n",
    "for layer in base_model.layers:\n",
    "  layer.trainable = False\n",
    "# base_model.summary()"
   ]
  },
  {
   "cell_type": "code",
   "execution_count": 0,
   "metadata": {
    "colab": {},
    "colab_type": "code",
    "id": "sLN9kC5FUQKW"
   },
   "outputs": [],
   "source": [
    "from keras.regularizers import l2"
   ]
  },
  {
   "cell_type": "code",
   "execution_count": 0,
   "metadata": {
    "colab": {},
    "colab_type": "code",
    "id": "u5k7jw84Tx2c"
   },
   "outputs": [],
   "source": [
    "x = base_model.output\n",
    "x = Flatten(name='flatten', input_shape=base_model.output_shape)(x) \n",
    "x = Dense(10, kernel_regularizer=l2(0.01), activation='softmax', name='predictions')(x)\n",
    "model = Model(inputs=base_model.input, outputs=x)\n",
    "# model.summary()"
   ]
  },
  {
   "cell_type": "code",
   "execution_count": 0,
   "metadata": {
    "colab": {},
    "colab_type": "code",
    "id": "gA_3Ab2uTx2m"
   },
   "outputs": [],
   "source": [
    "model.compile(optimizer='adam', \n",
    "              loss='categorical_crossentropy',\n",
    "              metrics=['accuracy'])"
   ]
  },
  {
   "cell_type": "code",
   "execution_count": 0,
   "metadata": {
    "colab": {},
    "colab_type": "code",
    "id": "V0w2dj0MTx2r"
   },
   "outputs": [],
   "source": [
    "train_datagen = ImageDataGenerator(\n",
    "    rescale=1./255,\n",
    "    rotation_range=40,\n",
    "    width_shift_range=0.2,\n",
    "    height_shift_range=0.2,\n",
    "    shear_range=0.2,\n",
    "    zoom_range=0.2,\n",
    "    fill_mode='nearest',\n",
    ")\n",
    "validation_datagen = ImageDataGenerator(\n",
    "    rescale=1./255,\n",
    ")"
   ]
  },
  {
   "cell_type": "code",
   "execution_count": 0,
   "metadata": {
    "colab": {
     "base_uri": "https://localhost:8080/",
     "height": 50
    },
    "colab_type": "code",
    "executionInfo": {
     "elapsed": 1472,
     "status": "ok",
     "timestamp": 1560435809310,
     "user": {
      "displayName": "Zafir Zarya",
      "photoUrl": "https://lh4.googleusercontent.com/-ETKM_UfxYUM/AAAAAAAAAAI/AAAAAAAAGMA/PyI6bvEs4Rg/s64/photo.jpg",
      "userId": "06365792245261835796"
     },
     "user_tz": -120
    },
    "id": "FELwH9yUTx2v",
    "outputId": "df72b1a3-ac40-4e1a-8db8-8f1d83d691b3"
   },
   "outputs": [
    {
     "name": "stdout",
     "output_type": "stream",
     "text": [
      "Found 11614 images belonging to 10 classes.\n",
      "Found 2884 images belonging to 10 classes.\n"
     ]
    }
   ],
   "source": [
    "# do not rerun if you already have these in RAM\n",
    "\n",
    "train_generator = train_datagen.flow_from_directory(\n",
    "        '/content/drive/My Drive/Colab Notebooks/domat/solo-dataset/train/', \n",
    "        target_size=(224, 224),\n",
    "        batch_size=32,\n",
    "        class_mode='categorical',\n",
    ")\n",
    "validation_generator = validation_datagen.flow_from_directory(\n",
    "        '/content/drive/My Drive/Colab Notebooks/domat/solo-dataset/validation/',\n",
    "        target_size=(224, 224),\n",
    "        batch_size=32,\n",
    "        class_mode='categorical',\n",
    ")"
   ]
  },
  {
   "cell_type": "code",
   "execution_count": 0,
   "metadata": {
    "colab": {
     "base_uri": "https://localhost:8080/",
     "height": 34
    },
    "colab_type": "code",
    "executionInfo": {
     "elapsed": 647,
     "status": "ok",
     "timestamp": 1560454202529,
     "user": {
      "displayName": "Zafir Zarya",
      "photoUrl": "https://lh4.googleusercontent.com/-ETKM_UfxYUM/AAAAAAAAAAI/AAAAAAAAGMA/PyI6bvEs4Rg/s64/photo.jpg",
      "userId": "06365792245261835796"
     },
     "user_tz": -120
    },
    "id": "wsFkTX6LTx20",
    "outputId": "15b5bd38-094d-4acb-f9eb-88aa2914bae7"
   },
   "outputs": [
    {
     "name": "stdout",
     "output_type": "stream",
     "text": [
      "Found GPU at: /device:GPU:0\n"
     ]
    }
   ],
   "source": [
    "# check if GPU is running\n",
    "import tensorflow as tf\n",
    "device_name = tf.test.gpu_device_name()\n",
    "if device_name != '/device:GPU:0':\n",
    "  raise SystemError('GPU device not found')\n",
    "print('Found GPU at: {}'.format(device_name))"
   ]
  },
  {
   "cell_type": "code",
   "execution_count": 0,
   "metadata": {
    "colab": {
     "base_uri": "https://localhost:8080/",
     "height": 3430
    },
    "colab_type": "code",
    "executionInfo": {
     "elapsed": 13688119,
     "status": "ok",
     "timestamp": 1560467898433,
     "user": {
      "displayName": "Zafir Zarya",
      "photoUrl": "https://lh4.googleusercontent.com/-ETKM_UfxYUM/AAAAAAAAAAI/AAAAAAAAGMA/PyI6bvEs4Rg/s64/photo.jpg",
      "userId": "06365792245261835796"
     },
     "user_tz": -120
    },
    "id": "7HDVAS7BTx24",
    "outputId": "c1fa4d6b-a5c5-4bf3-a00f-0714aa34a83c"
   },
   "outputs": [
    {
     "name": "stderr",
     "output_type": "stream",
     "text": [
      "/usr/local/lib/python3.6/dist-packages/keras/engine/training_generator.py:47: UserWarning: Using a generator with `use_multiprocessing=True` and multiple workers may duplicate your data. Please consider using the`keras.utils.Sequence class.\n",
      "  UserWarning('Using a generator with `use_multiprocessing=True`'\n"
     ]
    },
    {
     "name": "stdout",
     "output_type": "stream",
     "text": [
      "Epoch 1/100\n",
      "362/362 [==============================] - 143s 396ms/step - loss: 1.5595 - acc: 0.6626 - val_loss: 1.5320 - val_acc: 0.6764\n",
      "Epoch 2/100\n",
      "362/362 [==============================] - 138s 380ms/step - loss: 1.0505 - acc: 0.8166 - val_loss: 1.0412 - val_acc: 0.7892\n",
      "Epoch 3/100\n",
      "362/362 [==============================] - 138s 381ms/step - loss: 1.0020 - acc: 0.8182 - val_loss: 1.2565 - val_acc: 0.7233\n",
      "Epoch 4/100\n",
      "362/362 [==============================] - 137s 379ms/step - loss: 0.8127 - acc: 0.8693 - val_loss: 1.1019 - val_acc: 0.7479\n",
      "Epoch 5/100\n",
      "362/362 [==============================] - 137s 378ms/step - loss: 0.7289 - acc: 0.8778 - val_loss: 1.0928 - val_acc: 0.7761\n",
      "Epoch 6/100\n",
      "362/362 [==============================] - 137s 379ms/step - loss: 0.8820 - acc: 0.8414 - val_loss: 0.9427 - val_acc: 0.8031\n",
      "Epoch 7/100\n",
      "362/362 [==============================] - 137s 377ms/step - loss: 0.7078 - acc: 0.8865 - val_loss: 1.3551 - val_acc: 0.7347\n",
      "Epoch 8/100\n",
      "362/362 [==============================] - 137s 378ms/step - loss: 0.8458 - acc: 0.8545 - val_loss: 1.1701 - val_acc: 0.7745\n",
      "Epoch 9/100\n",
      "362/362 [==============================] - 137s 379ms/step - loss: 0.9097 - acc: 0.8471 - val_loss: 1.1857 - val_acc: 0.7847\n",
      "Epoch 10/100\n",
      "362/362 [==============================] - 137s 378ms/step - loss: 0.9935 - acc: 0.8231 - val_loss: 1.2159 - val_acc: 0.7576\n",
      "Epoch 11/100\n",
      "362/362 [==============================] - 137s 378ms/step - loss: 0.8637 - acc: 0.8583 - val_loss: 1.0225 - val_acc: 0.8118\n",
      "Epoch 12/100\n",
      "362/362 [==============================] - 137s 379ms/step - loss: 0.6590 - acc: 0.9002 - val_loss: 1.0800 - val_acc: 0.7743\n",
      "Epoch 13/100\n",
      "362/362 [==============================] - 136s 375ms/step - loss: 0.8019 - acc: 0.8613 - val_loss: 1.2512 - val_acc: 0.7749\n",
      "Epoch 14/100\n",
      "362/362 [==============================] - 136s 376ms/step - loss: 0.8209 - acc: 0.8623 - val_loss: 1.2995 - val_acc: 0.7385\n",
      "Epoch 15/100\n",
      "362/362 [==============================] - 137s 378ms/step - loss: 0.7984 - acc: 0.8677 - val_loss: 1.0011 - val_acc: 0.7719\n",
      "Epoch 16/100\n",
      "362/362 [==============================] - 138s 381ms/step - loss: 0.7486 - acc: 0.8785 - val_loss: 1.0023 - val_acc: 0.7642\n",
      "Epoch 17/100\n",
      "362/362 [==============================] - 136s 377ms/step - loss: 0.7105 - acc: 0.8857 - val_loss: 0.8669 - val_acc: 0.8067\n",
      "Epoch 18/100\n",
      "362/362 [==============================] - 138s 382ms/step - loss: 0.6420 - acc: 0.9006 - val_loss: 1.0656 - val_acc: 0.7424\n",
      "Epoch 19/100\n",
      "362/362 [==============================] - 141s 390ms/step - loss: 0.8327 - acc: 0.8583 - val_loss: 1.1158 - val_acc: 0.7729\n",
      "Epoch 20/100\n",
      "362/362 [==============================] - 138s 382ms/step - loss: 0.7596 - acc: 0.8817 - val_loss: 0.9583 - val_acc: 0.8118\n",
      "Epoch 21/100\n",
      "362/362 [==============================] - 138s 381ms/step - loss: 1.1296 - acc: 0.8074 - val_loss: 1.8740 - val_acc: 0.6582\n",
      "Epoch 22/100\n",
      "362/362 [==============================] - 138s 381ms/step - loss: 1.3492 - acc: 0.7907 - val_loss: 1.6537 - val_acc: 0.7288\n",
      "Epoch 23/100\n",
      "362/362 [==============================] - 137s 379ms/step - loss: 1.0754 - acc: 0.8280 - val_loss: 1.5284 - val_acc: 0.7354\n",
      "Epoch 24/100\n",
      "362/362 [==============================] - 137s 377ms/step - loss: 0.7480 - acc: 0.8885 - val_loss: 0.8309 - val_acc: 0.8309\n",
      "Epoch 25/100\n",
      "362/362 [==============================] - 136s 377ms/step - loss: 0.7327 - acc: 0.8859 - val_loss: 0.9295 - val_acc: 0.7894\n",
      "Epoch 26/100\n",
      "362/362 [==============================] - 137s 377ms/step - loss: 0.8414 - acc: 0.8618 - val_loss: 1.1224 - val_acc: 0.7712\n",
      "Epoch 27/100\n",
      "362/362 [==============================] - 137s 379ms/step - loss: 0.9167 - acc: 0.8431 - val_loss: 1.2350 - val_acc: 0.7719\n",
      "Epoch 28/100\n",
      "362/362 [==============================] - 137s 378ms/step - loss: 0.8190 - acc: 0.8715 - val_loss: 0.8822 - val_acc: 0.8163\n",
      "Epoch 29/100\n",
      "362/362 [==============================] - 136s 376ms/step - loss: 0.7116 - acc: 0.8826 - val_loss: 1.2129 - val_acc: 0.7355\n",
      "Epoch 30/100\n",
      "362/362 [==============================] - 137s 379ms/step - loss: 0.7057 - acc: 0.8852 - val_loss: 0.9703 - val_acc: 0.8042\n",
      "Epoch 31/100\n",
      "362/362 [==============================] - 137s 378ms/step - loss: 0.8514 - acc: 0.8502 - val_loss: 1.2854 - val_acc: 0.7194\n",
      "Epoch 32/100\n",
      "362/362 [==============================] - 138s 382ms/step - loss: 0.9918 - acc: 0.8276 - val_loss: 1.2960 - val_acc: 0.7337\n",
      "Epoch 33/100\n",
      "362/362 [==============================] - 137s 378ms/step - loss: 0.9021 - acc: 0.8492 - val_loss: 1.3516 - val_acc: 0.6875\n",
      "Epoch 34/100\n",
      "362/362 [==============================] - 137s 378ms/step - loss: 0.9656 - acc: 0.8386 - val_loss: 1.4790 - val_acc: 0.6899\n",
      "Epoch 35/100\n",
      "362/362 [==============================] - 137s 378ms/step - loss: 0.8401 - acc: 0.8621 - val_loss: 1.0311 - val_acc: 0.7757\n",
      "Epoch 36/100\n",
      "362/362 [==============================] - 136s 376ms/step - loss: 0.6912 - acc: 0.8938 - val_loss: 0.8376 - val_acc: 0.8372\n",
      "Epoch 37/100\n",
      "362/362 [==============================] - 136s 377ms/step - loss: 0.7077 - acc: 0.8855 - val_loss: 1.1324 - val_acc: 0.7323\n",
      "Epoch 38/100\n",
      "362/362 [==============================] - 137s 377ms/step - loss: 0.6391 - acc: 0.9034 - val_loss: 1.0575 - val_acc: 0.7549\n",
      "Epoch 39/100\n",
      "362/362 [==============================] - 137s 378ms/step - loss: 0.6871 - acc: 0.8848 - val_loss: 1.1724 - val_acc: 0.7278\n",
      "Epoch 40/100\n",
      "362/362 [==============================] - 136s 376ms/step - loss: 0.8627 - acc: 0.8433 - val_loss: 1.1734 - val_acc: 0.7458\n",
      "Epoch 41/100\n",
      "362/362 [==============================] - 138s 382ms/step - loss: 0.7257 - acc: 0.8826 - val_loss: 0.9070 - val_acc: 0.8020\n",
      "Epoch 42/100\n",
      "362/362 [==============================] - 138s 381ms/step - loss: 0.6845 - acc: 0.8848 - val_loss: 1.1451 - val_acc: 0.7562\n",
      "Epoch 43/100\n",
      "362/362 [==============================] - 140s 387ms/step - loss: 0.6762 - acc: 0.8931 - val_loss: 1.1697 - val_acc: 0.7170\n",
      "Epoch 44/100\n",
      "362/362 [==============================] - 138s 382ms/step - loss: 0.7364 - acc: 0.8852 - val_loss: 1.0155 - val_acc: 0.7892\n",
      "Epoch 45/100\n",
      "362/362 [==============================] - 141s 391ms/step - loss: 0.6297 - acc: 0.9061 - val_loss: 0.9136 - val_acc: 0.7890\n",
      "Epoch 46/100\n",
      "362/362 [==============================] - 137s 379ms/step - loss: 0.6202 - acc: 0.9014 - val_loss: 0.9650 - val_acc: 0.7625\n",
      "Epoch 47/100\n",
      "362/362 [==============================] - 137s 379ms/step - loss: 0.6448 - acc: 0.8962 - val_loss: 1.2261 - val_acc: 0.7236\n",
      "Epoch 48/100\n",
      "362/362 [==============================] - 136s 377ms/step - loss: 0.7608 - acc: 0.8745 - val_loss: 1.2335 - val_acc: 0.7444\n",
      "Epoch 49/100\n",
      "362/362 [==============================] - 136s 375ms/step - loss: 0.8162 - acc: 0.8636 - val_loss: 1.1125 - val_acc: 0.7923\n",
      "Epoch 50/100\n",
      "362/362 [==============================] - 137s 377ms/step - loss: 0.8966 - acc: 0.8469 - val_loss: 1.6268 - val_acc: 0.7306\n",
      "Epoch 51/100\n",
      "362/362 [==============================] - 136s 375ms/step - loss: 0.8695 - acc: 0.8591 - val_loss: 1.0337 - val_acc: 0.7806\n",
      "Epoch 52/100\n",
      "362/362 [==============================] - 136s 375ms/step - loss: 0.7953 - acc: 0.8671 - val_loss: 1.0563 - val_acc: 0.7799\n",
      "Epoch 53/100\n",
      "362/362 [==============================] - 136s 376ms/step - loss: 0.7072 - acc: 0.8903 - val_loss: 1.1250 - val_acc: 0.7608\n",
      "Epoch 54/100\n",
      "362/362 [==============================] - 136s 376ms/step - loss: 0.9095 - acc: 0.8374 - val_loss: 0.9994 - val_acc: 0.7906\n",
      "Epoch 55/100\n",
      "362/362 [==============================] - 136s 377ms/step - loss: 0.7999 - acc: 0.8676 - val_loss: 1.0915 - val_acc: 0.7795\n",
      "Epoch 56/100\n",
      "362/362 [==============================] - 137s 377ms/step - loss: 0.8633 - acc: 0.8558 - val_loss: 1.3322 - val_acc: 0.7330\n",
      "Epoch 57/100\n",
      "362/362 [==============================] - 136s 375ms/step - loss: 1.0285 - acc: 0.8190 - val_loss: 1.1782 - val_acc: 0.7663\n",
      "Epoch 58/100\n",
      "362/362 [==============================] - 137s 378ms/step - loss: 0.9283 - acc: 0.8453 - val_loss: 0.9687 - val_acc: 0.8052\n",
      "Epoch 59/100\n",
      "362/362 [==============================] - 137s 377ms/step - loss: 0.9011 - acc: 0.8472 - val_loss: 0.9475 - val_acc: 0.8076\n",
      "Epoch 60/100\n",
      "362/362 [==============================] - 137s 378ms/step - loss: 0.7176 - acc: 0.8869 - val_loss: 0.9174 - val_acc: 0.8059\n",
      "Epoch 61/100\n",
      "362/362 [==============================] - 136s 374ms/step - loss: 0.6937 - acc: 0.8919 - val_loss: 0.8970 - val_acc: 0.8186\n",
      "Epoch 62/100\n",
      "362/362 [==============================] - 137s 377ms/step - loss: 0.6995 - acc: 0.8856 - val_loss: 1.0510 - val_acc: 0.7684\n",
      "Epoch 63/100\n",
      "362/362 [==============================] - 137s 377ms/step - loss: 0.7079 - acc: 0.8866 - val_loss: 0.9748 - val_acc: 0.7712\n",
      "Epoch 64/100\n",
      "362/362 [==============================] - 136s 376ms/step - loss: 0.6947 - acc: 0.8888 - val_loss: 1.2326 - val_acc: 0.7431\n",
      "Epoch 65/100\n",
      "362/362 [==============================] - 136s 376ms/step - loss: 0.7010 - acc: 0.8876 - val_loss: 1.0075 - val_acc: 0.7569\n",
      "Epoch 66/100\n",
      "362/362 [==============================] - 137s 379ms/step - loss: 0.6270 - acc: 0.8997 - val_loss: 0.9420 - val_acc: 0.7837\n",
      "Epoch 67/100\n",
      "362/362 [==============================] - 138s 381ms/step - loss: 0.6923 - acc: 0.8840 - val_loss: 0.9126 - val_acc: 0.7941\n",
      "Epoch 68/100\n",
      "362/362 [==============================] - 137s 377ms/step - loss: 0.7275 - acc: 0.8767 - val_loss: 1.3172 - val_acc: 0.7135\n",
      "Epoch 69/100\n",
      "362/362 [==============================] - 136s 375ms/step - loss: 0.6738 - acc: 0.8968 - val_loss: 0.9357 - val_acc: 0.7868\n",
      "Epoch 70/100\n",
      "362/362 [==============================] - 136s 376ms/step - loss: 0.7247 - acc: 0.8802 - val_loss: 1.1337 - val_acc: 0.7691\n",
      "Epoch 71/100\n",
      "362/362 [==============================] - 138s 382ms/step - loss: 0.7582 - acc: 0.8741 - val_loss: 1.1651 - val_acc: 0.7493\n",
      "Epoch 72/100\n",
      "362/362 [==============================] - 139s 383ms/step - loss: 0.9352 - acc: 0.8400 - val_loss: 1.4725 - val_acc: 0.6972\n",
      "Epoch 73/100\n",
      "362/362 [==============================] - 137s 377ms/step - loss: 0.7716 - acc: 0.8818 - val_loss: 0.9512 - val_acc: 0.7984\n",
      "Epoch 74/100\n",
      "362/362 [==============================] - 136s 376ms/step - loss: 0.8844 - acc: 0.8469 - val_loss: 1.2944 - val_acc: 0.7587\n",
      "Epoch 75/100\n",
      "362/362 [==============================] - 137s 378ms/step - loss: 0.8865 - acc: 0.8497 - val_loss: 1.1813 - val_acc: 0.7340\n",
      "Epoch 76/100\n",
      "362/362 [==============================] - 138s 381ms/step - loss: 0.6773 - acc: 0.8951 - val_loss: 0.8630 - val_acc: 0.7885\n",
      "Epoch 77/100\n",
      "362/362 [==============================] - 136s 375ms/step - loss: 0.8762 - acc: 0.8470 - val_loss: 1.2360 - val_acc: 0.7335\n",
      "Epoch 78/100\n",
      "362/362 [==============================] - 136s 377ms/step - loss: 1.0404 - acc: 0.8152 - val_loss: 1.4806 - val_acc: 0.7146\n",
      "Epoch 79/100\n",
      "362/362 [==============================] - 136s 375ms/step - loss: 0.8060 - acc: 0.8714 - val_loss: 1.0814 - val_acc: 0.7646\n",
      "Epoch 80/100\n",
      "362/362 [==============================] - 137s 378ms/step - loss: 0.8632 - acc: 0.8594 - val_loss: 0.9337 - val_acc: 0.7990\n",
      "Epoch 81/100\n",
      "362/362 [==============================] - 136s 375ms/step - loss: 0.6824 - acc: 0.8914 - val_loss: 1.0450 - val_acc: 0.7654\n",
      "Epoch 82/100\n",
      "362/362 [==============================] - 136s 376ms/step - loss: 0.7255 - acc: 0.8791 - val_loss: 1.0851 - val_acc: 0.7539\n",
      "Epoch 83/100\n",
      "362/362 [==============================] - 136s 376ms/step - loss: 0.7455 - acc: 0.8723 - val_loss: 1.0709 - val_acc: 0.7750\n",
      "Epoch 84/100\n",
      "362/362 [==============================] - 135s 374ms/step - loss: 0.7187 - acc: 0.8800 - val_loss: 1.1538 - val_acc: 0.7378\n",
      "Epoch 85/100\n",
      "362/362 [==============================] - 135s 374ms/step - loss: 0.6848 - acc: 0.8952 - val_loss: 1.0418 - val_acc: 0.7592\n",
      "Epoch 86/100\n",
      "362/362 [==============================] - 136s 375ms/step - loss: 0.7823 - acc: 0.8703 - val_loss: 1.2695 - val_acc: 0.7259\n",
      "Epoch 87/100\n",
      "362/362 [==============================] - 136s 376ms/step - loss: 0.6746 - acc: 0.9030 - val_loss: 1.0377 - val_acc: 0.7747\n",
      "Epoch 88/100\n",
      "362/362 [==============================] - 136s 376ms/step - loss: 0.8165 - acc: 0.8609 - val_loss: 1.2269 - val_acc: 0.7670\n",
      "Epoch 89/100\n",
      "362/362 [==============================] - 136s 375ms/step - loss: 0.8187 - acc: 0.8702 - val_loss: 0.9187 - val_acc: 0.8159\n",
      "Epoch 90/100\n",
      "362/362 [==============================] - 135s 373ms/step - loss: 0.9378 - acc: 0.8405 - val_loss: 1.2062 - val_acc: 0.7606\n",
      "Epoch 91/100\n",
      "362/362 [==============================] - 136s 375ms/step - loss: 0.9536 - acc: 0.8467 - val_loss: 1.0054 - val_acc: 0.8024\n",
      "Epoch 92/100\n",
      "362/362 [==============================] - 136s 374ms/step - loss: 0.9703 - acc: 0.8346 - val_loss: 1.4476 - val_acc: 0.7125\n",
      "Epoch 93/100\n",
      "362/362 [==============================] - 135s 374ms/step - loss: 0.8639 - acc: 0.8595 - val_loss: 1.0487 - val_acc: 0.7865\n",
      "Epoch 94/100\n",
      "362/362 [==============================] - 136s 377ms/step - loss: 0.7695 - acc: 0.8796 - val_loss: 1.0997 - val_acc: 0.7514\n",
      "Epoch 95/100\n",
      "362/362 [==============================] - 136s 376ms/step - loss: 0.6391 - acc: 0.9013 - val_loss: 0.9378 - val_acc: 0.7917\n",
      "Epoch 96/100\n",
      "362/362 [==============================] - 136s 377ms/step - loss: 0.6257 - acc: 0.9012 - val_loss: 1.0878 - val_acc: 0.7319\n",
      "Epoch 97/100\n",
      "362/362 [==============================] - 136s 375ms/step - loss: 0.8604 - acc: 0.8480 - val_loss: 1.0708 - val_acc: 0.8106\n",
      "Epoch 98/100\n",
      "362/362 [==============================] - 140s 386ms/step - loss: 0.6432 - acc: 0.9036 - val_loss: 0.9799 - val_acc: 0.7861\n",
      "Epoch 99/100\n",
      "362/362 [==============================] - 137s 377ms/step - loss: 0.6930 - acc: 0.8873 - val_loss: 1.1792 - val_acc: 0.7118\n",
      "Epoch 100/100\n",
      "362/362 [==============================] - 137s 379ms/step - loss: 0.7963 - acc: 0.8684 - val_loss: 1.0180 - val_acc: 0.7878\n"
     ]
    }
   ],
   "source": [
    "t_steps = 11614 // 32\n",
    "v_steps = 2884 // 32\n",
    "history = model.fit_generator(train_generator, \n",
    "                              epochs=100, \n",
    "                              workers = 4,\n",
    "                              use_multiprocessing=True,\n",
    "                              steps_per_epoch=t_steps, \n",
    "                              validation_data=validation_generator,\n",
    "                              validation_steps=v_steps,\n",
    "                             )"
   ]
  },
  {
   "cell_type": "code",
   "execution_count": 0,
   "metadata": {
    "colab": {},
    "colab_type": "code",
    "id": "TGCPzRsXymuZ"
   },
   "outputs": [],
   "source": [
    "# save history object\n",
    "import pickle\n",
    "\n",
    "with open('/content/drive/My Drive/Colab Notebooks/domat/history/vgg_imagenet_l2.pickle', 'wb') as handle:\n",
    "    pickle.dump(history, handle, protocol=pickle.HIGHEST_PROTOCOL)\n"
   ]
  },
  {
   "cell_type": "code",
   "execution_count": 0,
   "metadata": {
    "colab": {},
    "colab_type": "code",
    "id": "RloKSxQKyefH"
   },
   "outputs": [],
   "source": [
    "# save trained model\n",
    "model.save('/content/drive/My Drive/Colab Notebooks/domat/models/vgg_imagenet_l2.h5')"
   ]
  },
  {
   "cell_type": "code",
   "execution_count": 0,
   "metadata": {
    "colab": {
     "base_uri": "https://localhost:8080/",
     "height": 339
    },
    "colab_type": "code",
    "executionInfo": {
     "elapsed": 6074,
     "status": "ok",
     "timestamp": 1560486366854,
     "user": {
      "displayName": "Zafir Zarya",
      "photoUrl": "https://lh4.googleusercontent.com/-ETKM_UfxYUM/AAAAAAAAAAI/AAAAAAAAGMA/PyI6bvEs4Rg/s64/photo.jpg",
      "userId": "06365792245261835796"
     },
     "user_tz": -120
    },
    "id": "IBRaMHDjOtuR",
    "outputId": "5fb2082d-661f-4e61-f2b4-60d3938ca37a"
   },
   "outputs": [
    {
     "name": "stderr",
     "output_type": "stream",
     "text": [
      "WARNING: Logging before flag parsing goes to stderr.\n",
      "W0614 04:26:02.549777 140474340210560 deprecation_wrapper.py:119] From /usr/local/lib/python3.6/dist-packages/keras/backend/tensorflow_backend.py:517: The name tf.placeholder is deprecated. Please use tf.compat.v1.placeholder instead.\n",
      "\n",
      "W0614 04:26:02.586210 140474340210560 deprecation_wrapper.py:119] From /usr/local/lib/python3.6/dist-packages/keras/backend/tensorflow_backend.py:4138: The name tf.random_uniform is deprecated. Please use tf.random.uniform instead.\n",
      "\n",
      "W0614 04:26:02.623510 140474340210560 deprecation_wrapper.py:119] From /usr/local/lib/python3.6/dist-packages/keras/backend/tensorflow_backend.py:3976: The name tf.nn.max_pool is deprecated. Please use tf.nn.max_pool2d instead.\n",
      "\n",
      "W0614 04:26:02.836492 140474340210560 deprecation_wrapper.py:119] From /usr/local/lib/python3.6/dist-packages/keras/backend/tensorflow_backend.py:174: The name tf.get_default_session is deprecated. Please use tf.compat.v1.get_default_session instead.\n",
      "\n",
      "W0614 04:26:02.838206 140474340210560 deprecation_wrapper.py:119] From /usr/local/lib/python3.6/dist-packages/keras/backend/tensorflow_backend.py:181: The name tf.ConfigProto is deprecated. Please use tf.compat.v1.ConfigProto instead.\n",
      "\n",
      "W0614 04:26:02.842190 140474340210560 deprecation_wrapper.py:119] From /usr/local/lib/python3.6/dist-packages/keras/backend/tensorflow_backend.py:186: The name tf.Session is deprecated. Please use tf.compat.v1.Session instead.\n",
      "\n",
      "W0614 04:26:05.993995 140474340210560 deprecation_wrapper.py:119] From /usr/local/lib/python3.6/dist-packages/keras/optimizers.py:790: The name tf.train.Optimizer is deprecated. Please use tf.compat.v1.train.Optimizer instead.\n",
      "\n",
      "W0614 04:26:06.106353 140474340210560 deprecation.py:323] From /usr/local/lib/python3.6/dist-packages/tensorflow/python/ops/math_grad.py:1250: add_dispatch_support.<locals>.wrapper (from tensorflow.python.ops.array_ops) is deprecated and will be removed in a future version.\n",
      "Instructions for updating:\n",
      "Use tf.where in 2.0, which has the same broadcast rule as np.where\n"
     ]
    }
   ],
   "source": [
    "with open('/content/drive/My Drive/Colab Notebooks/domat/history/vgg_imagenet_l2.pickle', 'rb') as handle:\n",
    "    history = pickle.load(handle)\n",
    "    "
   ]
  },
  {
   "cell_type": "code",
   "execution_count": 0,
   "metadata": {
    "colab": {},
    "colab_type": "code",
    "id": "IAngwCjHPIfN"
   },
   "outputs": [],
   "source": [
    "from keras.models import load_model\n",
    "\n",
    "model = load_model('/content/drive/My Drive/Colab Notebooks/domat/models/vgg_imagenet_l2.h5')"
   ]
  },
  {
   "cell_type": "code",
   "execution_count": 0,
   "metadata": {
    "colab": {
     "base_uri": "https://localhost:8080/",
     "height": 295
    },
    "colab_type": "code",
    "executionInfo": {
     "elapsed": 1126,
     "status": "ok",
     "timestamp": 1560486469025,
     "user": {
      "displayName": "Zafir Zarya",
      "photoUrl": "https://lh4.googleusercontent.com/-ETKM_UfxYUM/AAAAAAAAAAI/AAAAAAAAGMA/PyI6bvEs4Rg/s64/photo.jpg",
      "userId": "06365792245261835796"
     },
     "user_tz": -120
    },
    "id": "KrQIATVVPXK0",
    "outputId": "adaa9e13-7160-43e7-9624-b887551f3d90"
   },
   "outputs": [
    {
     "data": {
      "image/png": "[encoded data removed]",
      "text/plain": [
       "<Figure size 432x288 with 1 Axes>"
      ]
     },
     "metadata": {
      "tags": []
     },
     "output_type": "display_data"
    }
   ],
   "source": [
    "plt.plot(history.history['acc'])\n",
    "plt.plot(history.history['val_acc'])\n",
    "plt.title('model accuracy')\n",
    "plt.ylabel('accuracy')\n",
    "plt.xlabel('epoch')\n",
    "plt.legend(['train', 'test'], loc='upper left')\n",
    "plt.show()"
   ]
  },
  {
   "cell_type": "code",
   "execution_count": 0,
   "metadata": {
    "colab": {
     "base_uri": "https://localhost:8080/",
     "height": 295
    },
    "colab_type": "code",
    "executionInfo": {
     "elapsed": 1094,
     "status": "ok",
     "timestamp": 1560486485496,
     "user": {
      "displayName": "Zafir Zarya",
      "photoUrl": "https://lh4.googleusercontent.com/-ETKM_UfxYUM/AAAAAAAAAAI/AAAAAAAAGMA/PyI6bvEs4Rg/s64/photo.jpg",
      "userId": "06365792245261835796"
     },
     "user_tz": -120
    },
    "id": "yXRsRkUdPhOR",
    "outputId": "763fe8ec-93f6-439a-e048-f1c761d0a96f"
   },
   "outputs": [
    {
     "data": {
      "image/png": "[encoded data removed]",
      "text/plain": [
       "<Figure size 432x288 with 1 Axes>"
      ]
     },
     "metadata": {
      "tags": []
     },
     "output_type": "display_data"
    }
   ],
   "source": [
    "plt.plot(history.history['loss'])\n",
    "plt.plot(history.history['val_loss'])\n",
    "plt.title('model loss')\n",
    "plt.ylabel('loss')\n",
    "plt.xlabel('epoch')\n",
    "plt.legend(['train', 'test'], loc='upper left')\n",
    "plt.show()"
   ]
  },
  {
   "cell_type": "markdown",
   "metadata": {
    "colab_type": "text",
    "id": "puDezBI3PzO-"
   },
   "source": [
    "### Pretrain-ImageNet (Dropout)"
   ]
  },
  {
   "cell_type": "code",
   "execution_count": 0,
   "metadata": {
    "colab": {
     "base_uri": "https://localhost:8080/",
     "height": 289
    },
    "colab_type": "code",
    "executionInfo": {
     "elapsed": 8963,
     "status": "ok",
     "timestamp": 1560486785083,
     "user": {
      "displayName": "Zafir Zarya",
      "photoUrl": "https://lh4.googleusercontent.com/-ETKM_UfxYUM/AAAAAAAAAAI/AAAAAAAAGMA/PyI6bvEs4Rg/s64/photo.jpg",
      "userId": "06365792245261835796"
     },
     "user_tz": -120
    },
    "id": "sQaHks4bPzO_",
    "outputId": "5c51c01b-ab55-4ea3-dc0c-f4a3981e96ec"
   },
   "outputs": [
    {
     "name": "stderr",
     "output_type": "stream",
     "text": [
      "WARNING: Logging before flag parsing goes to stderr.\n",
      "W0614 04:32:56.325140 139842819327872 deprecation_wrapper.py:119] From /usr/local/lib/python3.6/dist-packages/keras/backend/tensorflow_backend.py:74: The name tf.get_default_graph is deprecated. Please use tf.compat.v1.get_default_graph instead.\n",
      "\n",
      "W0614 04:32:56.367103 139842819327872 deprecation_wrapper.py:119] From /usr/local/lib/python3.6/dist-packages/keras/backend/tensorflow_backend.py:517: The name tf.placeholder is deprecated. Please use tf.compat.v1.placeholder instead.\n",
      "\n",
      "W0614 04:32:56.376504 139842819327872 deprecation_wrapper.py:119] From /usr/local/lib/python3.6/dist-packages/keras/backend/tensorflow_backend.py:4138: The name tf.random_uniform is deprecated. Please use tf.random.uniform instead.\n",
      "\n",
      "W0614 04:32:56.414886 139842819327872 deprecation_wrapper.py:119] From /usr/local/lib/python3.6/dist-packages/keras/backend/tensorflow_backend.py:3976: The name tf.nn.max_pool is deprecated. Please use tf.nn.max_pool2d instead.\n",
      "\n"
     ]
    },
    {
     "name": "stdout",
     "output_type": "stream",
     "text": [
      "Downloading data from https://github.com/fchollet/deep-learning-models/releases/download/v0.1/vgg16_weights_tf_dim_ordering_tf_kernels_notop.h5\n",
      "58892288/58889256 [==============================] - 4s 0us/step\n"
     ]
    },
    {
     "name": "stderr",
     "output_type": "stream",
     "text": [
      "W0614 04:33:01.425774 139842819327872 deprecation_wrapper.py:119] From /usr/local/lib/python3.6/dist-packages/keras/backend/tensorflow_backend.py:174: The name tf.get_default_session is deprecated. Please use tf.compat.v1.get_default_session instead.\n",
      "\n",
      "W0614 04:33:01.426788 139842819327872 deprecation_wrapper.py:119] From /usr/local/lib/python3.6/dist-packages/keras/backend/tensorflow_backend.py:181: The name tf.ConfigProto is deprecated. Please use tf.compat.v1.ConfigProto instead.\n",
      "\n"
     ]
    }
   ],
   "source": [
    "base_model = vgg16.VGG16(include_top=False, weights='imagenet',\n",
    "                         input_shape=(224, 224, 3))\n",
    "for layer in base_model.layers:\n",
    "  layer.trainable = False\n",
    "# base_model.summary()"
   ]
  },
  {
   "cell_type": "code",
   "execution_count": 0,
   "metadata": {
    "colab": {},
    "colab_type": "code",
    "id": "d6sOSQwXPzPD"
   },
   "outputs": [],
   "source": [
    "x = base_model.output\n",
    "x = Flatten(name='flatten', input_shape=base_model.output_shape)(x) \n",
    "x = Dropout(0.5)(x)\n",
    "x = Dense(10, activation='softmax', name='predictions')(x)\n",
    "model = Model(inputs=base_model.input, outputs=x)\n",
    "# model.summary()"
   ]
  },
  {
   "cell_type": "code",
   "execution_count": 0,
   "metadata": {
    "colab": {
     "base_uri": "https://localhost:8080/",
     "height": 70
    },
    "colab_type": "code",
    "executionInfo": {
     "elapsed": 836,
     "status": "ok",
     "timestamp": 1560486997347,
     "user": {
      "displayName": "Zafir Zarya",
      "photoUrl": "https://lh4.googleusercontent.com/-ETKM_UfxYUM/AAAAAAAAAAI/AAAAAAAAGMA/PyI6bvEs4Rg/s64/photo.jpg",
      "userId": "06365792245261835796"
     },
     "user_tz": -120
    },
    "id": "69QUFrrIPzPF",
    "outputId": "53fbdb5c-7d72-43e0-9bc0-7573a2394e13"
   },
   "outputs": [
    {
     "name": "stderr",
     "output_type": "stream",
     "text": [
      "W0614 04:36:36.748822 139842819327872 deprecation_wrapper.py:119] From /usr/local/lib/python3.6/dist-packages/keras/optimizers.py:790: The name tf.train.Optimizer is deprecated. Please use tf.compat.v1.train.Optimizer instead.\n",
      "\n"
     ]
    }
   ],
   "source": [
    "model.compile(optimizer='adam', \n",
    "              loss='categorical_crossentropy',\n",
    "              metrics=['accuracy'])"
   ]
  },
  {
   "cell_type": "code",
   "execution_count": 0,
   "metadata": {
    "colab": {},
    "colab_type": "code",
    "id": "aJc5306QPzPI"
   },
   "outputs": [],
   "source": [
    "train_datagen = ImageDataGenerator(\n",
    "    rescale=1./255,\n",
    "    rotation_range=40,\n",
    "    width_shift_range=0.2,\n",
    "    height_shift_range=0.2,\n",
    "    shear_range=0.2,\n",
    "    zoom_range=0.2,\n",
    "    fill_mode='nearest',\n",
    ")\n",
    "validation_datagen = ImageDataGenerator(\n",
    "    rescale=1./255,\n",
    ")"
   ]
  },
  {
   "cell_type": "code",
   "execution_count": 0,
   "metadata": {
    "colab": {
     "base_uri": "https://localhost:8080/",
     "height": 50
    },
    "colab_type": "code",
    "executionInfo": {
     "elapsed": 881,
     "status": "ok",
     "timestamp": 1560487052225,
     "user": {
      "displayName": "Zafir Zarya",
      "photoUrl": "https://lh4.googleusercontent.com/-ETKM_UfxYUM/AAAAAAAAAAI/AAAAAAAAGMA/PyI6bvEs4Rg/s64/photo.jpg",
      "userId": "06365792245261835796"
     },
     "user_tz": -120
    },
    "id": "LFGlhQCQPzPR",
    "outputId": "a4908137-1cd8-4215-d29c-aeab17edc99d"
   },
   "outputs": [
    {
     "name": "stdout",
     "output_type": "stream",
     "text": [
      "Found 11614 images belonging to 10 classes.\n",
      "Found 2884 images belonging to 10 classes.\n"
     ]
    }
   ],
   "source": [
    "train_generator = train_datagen.flow_from_directory(\n",
    "        '/content/drive/My Drive/Colab Notebooks/domat/solo-dataset/train/', \n",
    "        target_size=(224, 224),\n",
    "        batch_size=32,\n",
    "        class_mode='categorical',\n",
    ")\n",
    "validation_generator = validation_datagen.flow_from_directory(\n",
    "        '/content/drive/My Drive/Colab Notebooks/domat/solo-dataset/validation/',\n",
    "        target_size=(224, 224),\n",
    "        batch_size=32,\n",
    "        class_mode='categorical',\n",
    ")"
   ]
  },
  {
   "cell_type": "code",
   "execution_count": 0,
   "metadata": {
    "colab": {
     "base_uri": "https://localhost:8080/",
     "height": 34
    },
    "colab_type": "code",
    "executionInfo": {
     "elapsed": 827,
     "status": "ok",
     "timestamp": 1560487062411,
     "user": {
      "displayName": "Zafir Zarya",
      "photoUrl": "https://lh4.googleusercontent.com/-ETKM_UfxYUM/AAAAAAAAAAI/AAAAAAAAGMA/PyI6bvEs4Rg/s64/photo.jpg",
      "userId": "06365792245261835796"
     },
     "user_tz": -120
    },
    "id": "rAm_c8LCPzPV",
    "outputId": "7624d935-3231-49b4-8f6c-471c997e1d17"
   },
   "outputs": [
    {
     "name": "stdout",
     "output_type": "stream",
     "text": [
      "Found GPU at: /device:GPU:0\n"
     ]
    }
   ],
   "source": [
    "# check if GPU is running\n",
    "import tensorflow as tf\n",
    "device_name = tf.test.gpu_device_name()\n",
    "if device_name != '/device:GPU:0':\n",
    "  raise SystemError('GPU device not found')\n",
    "print('Found GPU at: {}'.format(device_name))"
   ]
  },
  {
   "cell_type": "code",
   "execution_count": 0,
   "metadata": {
    "colab": {
     "base_uri": "https://localhost:8080/",
     "height": 3481
    },
    "colab_type": "code",
    "executionInfo": {
     "elapsed": 20860706,
     "status": "ok",
     "timestamp": 1560507926482,
     "user": {
      "displayName": "Zafir Zarya",
      "photoUrl": "https://lh4.googleusercontent.com/-ETKM_UfxYUM/AAAAAAAAAAI/AAAAAAAAGMA/PyI6bvEs4Rg/s64/photo.jpg",
      "userId": "06365792245261835796"
     },
     "user_tz": -120
    },
    "id": "iBEGa1Y8PzPb",
    "outputId": "98f8d478-e954-427a-917c-5f6ee1aaf7e5"
   },
   "outputs": [
    {
     "name": "stderr",
     "output_type": "stream",
     "text": [
      "W0614 04:37:46.055070 139842819327872 deprecation.py:323] From /usr/local/lib/python3.6/dist-packages/tensorflow/python/ops/math_grad.py:1250: add_dispatch_support.<locals>.wrapper (from tensorflow.python.ops.array_ops) is deprecated and will be removed in a future version.\n",
      "Instructions for updating:\n",
      "Use tf.where in 2.0, which has the same broadcast rule as np.where\n"
     ]
    },
    {
     "name": "stdout",
     "output_type": "stream",
     "text": [
      "Epoch 1/100\n"
     ]
    },
    {
     "name": "stderr",
     "output_type": "stream",
     "text": [
      "/usr/local/lib/python3.6/dist-packages/keras/engine/training_generator.py:47: UserWarning: Using a generator with `use_multiprocessing=True` and multiple workers may duplicate your data. Please consider using the`keras.utils.Sequence class.\n",
      "  UserWarning('Using a generator with `use_multiprocessing=True`'\n"
     ]
    },
    {
     "name": "stdout",
     "output_type": "stream",
     "text": [
      "362/362 [==============================] - 2125s 6s/step - loss: 1.8313 - acc: 0.6086 - val_loss: 1.5646 - val_acc: 0.7167\n",
      "Epoch 2/100\n",
      "362/362 [==============================] - 1967s 5s/step - loss: 1.9689 - acc: 0.6650 - val_loss: 1.9849 - val_acc: 0.6910\n",
      "Epoch 3/100\n",
      "362/362 [==============================] - 1982s 5s/step - loss: 1.9016 - acc: 0.6916 - val_loss: 1.5910 - val_acc: 0.7444\n",
      "Epoch 4/100\n",
      "362/362 [==============================] - 1972s 5s/step - loss: 1.9668 - acc: 0.6996 - val_loss: 1.9973 - val_acc: 0.7097\n",
      "Epoch 5/100\n",
      "362/362 [==============================] - 135s 373ms/step - loss: 1.5840 - acc: 0.7567 - val_loss: 1.4777 - val_acc: 0.7688\n",
      "Epoch 6/100\n",
      "362/362 [==============================] - 133s 369ms/step - loss: 1.4781 - acc: 0.7742 - val_loss: 1.1753 - val_acc: 0.8247\n",
      "Epoch 7/100\n",
      "362/362 [==============================] - 135s 373ms/step - loss: 1.0830 - acc: 0.8001 - val_loss: 0.8354 - val_acc: 0.8073\n",
      "Epoch 8/100\n",
      "362/362 [==============================] - 136s 375ms/step - loss: 0.7443 - acc: 0.8137 - val_loss: 0.7936 - val_acc: 0.8292\n",
      "Epoch 9/100\n",
      "362/362 [==============================] - 134s 371ms/step - loss: 0.7054 - acc: 0.8204 - val_loss: 0.5935 - val_acc: 0.8439\n",
      "Epoch 10/100\n",
      "362/362 [==============================] - 136s 375ms/step - loss: 0.7515 - acc: 0.8153 - val_loss: 0.6610 - val_acc: 0.8285\n",
      "Epoch 11/100\n",
      "362/362 [==============================] - 135s 373ms/step - loss: 0.7205 - acc: 0.8210 - val_loss: 0.7594 - val_acc: 0.8271\n",
      "Epoch 12/100\n",
      "362/362 [==============================] - 136s 374ms/step - loss: 0.7533 - acc: 0.8198 - val_loss: 0.7408 - val_acc: 0.8569\n",
      "Epoch 13/100\n",
      "362/362 [==============================] - 136s 375ms/step - loss: 0.6769 - acc: 0.8311 - val_loss: 0.7470 - val_acc: 0.8400\n",
      "Epoch 14/100\n",
      "362/362 [==============================] - 135s 374ms/step - loss: 0.7269 - acc: 0.8287 - val_loss: 0.8428 - val_acc: 0.8438\n",
      "Epoch 15/100\n",
      "362/362 [==============================] - 136s 375ms/step - loss: 0.7001 - acc: 0.8374 - val_loss: 0.9622 - val_acc: 0.8094\n",
      "Epoch 16/100\n",
      "362/362 [==============================] - 137s 377ms/step - loss: 0.7399 - acc: 0.8327 - val_loss: 0.5678 - val_acc: 0.8576\n",
      "Epoch 17/100\n",
      "362/362 [==============================] - 136s 376ms/step - loss: 0.7541 - acc: 0.8276 - val_loss: 0.5422 - val_acc: 0.8793\n",
      "Epoch 18/100\n",
      "362/362 [==============================] - 137s 379ms/step - loss: 0.7823 - acc: 0.8237 - val_loss: 1.2827 - val_acc: 0.7899\n",
      "Epoch 19/100\n",
      "362/362 [==============================] - 137s 378ms/step - loss: 0.8690 - acc: 0.8185 - val_loss: 0.6441 - val_acc: 0.8583\n",
      "Epoch 20/100\n",
      "362/362 [==============================] - 137s 378ms/step - loss: 0.8298 - acc: 0.8292 - val_loss: 1.0159 - val_acc: 0.8049\n",
      "Epoch 21/100\n",
      "362/362 [==============================] - 136s 376ms/step - loss: 0.7123 - acc: 0.8451 - val_loss: 0.8978 - val_acc: 0.8331\n",
      "Epoch 22/100\n",
      "362/362 [==============================] - 136s 376ms/step - loss: 0.6638 - acc: 0.8547 - val_loss: 0.6048 - val_acc: 0.8840\n",
      "Epoch 23/100\n",
      "362/362 [==============================] - 136s 377ms/step - loss: 0.7713 - acc: 0.8375 - val_loss: 0.5460 - val_acc: 0.8781\n",
      "Epoch 24/100\n",
      "362/362 [==============================] - 137s 378ms/step - loss: 0.7070 - acc: 0.8464 - val_loss: 0.5559 - val_acc: 0.8861\n",
      "Epoch 25/100\n",
      "362/362 [==============================] - 135s 374ms/step - loss: 0.6632 - acc: 0.8519 - val_loss: 0.7480 - val_acc: 0.8573\n",
      "Epoch 26/100\n",
      "362/362 [==============================] - 138s 382ms/step - loss: 0.6704 - acc: 0.8560 - val_loss: 0.6725 - val_acc: 0.8601\n",
      "Epoch 27/100\n",
      "362/362 [==============================] - 137s 379ms/step - loss: 0.7888 - acc: 0.8430 - val_loss: 0.6855 - val_acc: 0.8688\n",
      "Epoch 28/100\n",
      "362/362 [==============================] - 136s 377ms/step - loss: 0.8659 - acc: 0.8334 - val_loss: 1.3315 - val_acc: 0.7729\n",
      "Epoch 29/100\n",
      "362/362 [==============================] - 136s 374ms/step - loss: 0.7730 - acc: 0.8473 - val_loss: 0.7343 - val_acc: 0.8624\n",
      "Epoch 30/100\n",
      "362/362 [==============================] - 137s 379ms/step - loss: 0.7961 - acc: 0.8410 - val_loss: 0.4961 - val_acc: 0.8833\n",
      "Epoch 31/100\n",
      "362/362 [==============================] - 137s 379ms/step - loss: 0.8417 - acc: 0.8375 - val_loss: 0.7723 - val_acc: 0.8517\n",
      "Epoch 32/100\n",
      "362/362 [==============================] - 137s 377ms/step - loss: 0.6865 - acc: 0.8559 - val_loss: 0.6753 - val_acc: 0.8774\n",
      "Epoch 33/100\n",
      "362/362 [==============================] - 137s 380ms/step - loss: 0.7075 - acc: 0.8565 - val_loss: 0.5848 - val_acc: 0.8880\n",
      "Epoch 34/100\n",
      "362/362 [==============================] - 137s 379ms/step - loss: 0.6888 - acc: 0.8599 - val_loss: 0.5603 - val_acc: 0.8941\n",
      "Epoch 35/100\n",
      "362/362 [==============================] - 136s 376ms/step - loss: 0.7162 - acc: 0.8597 - val_loss: 0.6306 - val_acc: 0.8688\n",
      "Epoch 36/100\n",
      "362/362 [==============================] - 137s 379ms/step - loss: 0.7159 - acc: 0.8525 - val_loss: 0.9034 - val_acc: 0.8340\n",
      "Epoch 37/100\n",
      "362/362 [==============================] - 136s 376ms/step - loss: 0.7498 - acc: 0.8500 - val_loss: 0.7195 - val_acc: 0.8580\n",
      "Epoch 38/100\n",
      "362/362 [==============================] - 137s 377ms/step - loss: 0.7441 - acc: 0.8550 - val_loss: 0.5395 - val_acc: 0.8809\n",
      "Epoch 39/100\n",
      "362/362 [==============================] - 137s 378ms/step - loss: 0.7236 - acc: 0.8571 - val_loss: 0.9198 - val_acc: 0.8274\n",
      "Epoch 40/100\n",
      "362/362 [==============================] - 139s 384ms/step - loss: 0.7202 - acc: 0.8557 - val_loss: 0.8787 - val_acc: 0.8431\n",
      "Epoch 41/100\n",
      "362/362 [==============================] - 137s 379ms/step - loss: 0.7267 - acc: 0.8544 - val_loss: 0.7832 - val_acc: 0.8609\n",
      "Epoch 42/100\n",
      "362/362 [==============================] - 137s 379ms/step - loss: 0.7737 - acc: 0.8497 - val_loss: 1.0470 - val_acc: 0.8406\n",
      "Epoch 43/100\n",
      "362/362 [==============================] - 138s 381ms/step - loss: 0.8098 - acc: 0.8474 - val_loss: 0.5661 - val_acc: 0.8785\n",
      "Epoch 44/100\n",
      "362/362 [==============================] - 139s 384ms/step - loss: 0.8093 - acc: 0.8502 - val_loss: 0.6370 - val_acc: 0.8875\n",
      "Epoch 45/100\n",
      "362/362 [==============================] - 138s 380ms/step - loss: 0.7676 - acc: 0.8587 - val_loss: 0.6951 - val_acc: 0.8692\n",
      "Epoch 46/100\n",
      "362/362 [==============================] - 138s 382ms/step - loss: 0.8025 - acc: 0.8480 - val_loss: 0.6583 - val_acc: 0.8729\n",
      "Epoch 47/100\n",
      "362/362 [==============================] - 138s 380ms/step - loss: 0.7815 - acc: 0.8570 - val_loss: 0.6320 - val_acc: 0.8809\n",
      "Epoch 48/100\n",
      "362/362 [==============================] - 138s 381ms/step - loss: 0.8413 - acc: 0.8455 - val_loss: 0.6305 - val_acc: 0.8944\n",
      "Epoch 49/100\n",
      "362/362 [==============================] - 139s 383ms/step - loss: 0.8147 - acc: 0.8504 - val_loss: 0.6447 - val_acc: 0.8808\n",
      "Epoch 50/100\n",
      "362/362 [==============================] - 137s 379ms/step - loss: 0.8031 - acc: 0.8515 - val_loss: 0.8342 - val_acc: 0.8733\n",
      "Epoch 51/100\n",
      "362/362 [==============================] - 137s 378ms/step - loss: 0.7536 - acc: 0.8611 - val_loss: 0.6062 - val_acc: 0.8910\n",
      "Epoch 52/100\n",
      "362/362 [==============================] - 137s 379ms/step - loss: 0.7853 - acc: 0.8579 - val_loss: 0.7878 - val_acc: 0.8663\n",
      "Epoch 53/100\n",
      "362/362 [==============================] - 137s 379ms/step - loss: 0.7631 - acc: 0.8582 - val_loss: 0.6214 - val_acc: 0.8938\n",
      "Epoch 54/100\n",
      "362/362 [==============================] - 136s 376ms/step - loss: 0.7693 - acc: 0.8565 - val_loss: 0.7281 - val_acc: 0.8826\n",
      "Epoch 55/100\n",
      "362/362 [==============================] - 132s 366ms/step - loss: 0.8485 - acc: 0.8513 - val_loss: 0.7823 - val_acc: 0.8507\n",
      "Epoch 56/100\n",
      "362/362 [==============================] - 133s 366ms/step - loss: 0.8143 - acc: 0.8529 - val_loss: 0.7244 - val_acc: 0.8743\n",
      "Epoch 57/100\n",
      "362/362 [==============================] - 132s 364ms/step - loss: 0.7678 - acc: 0.8604 - val_loss: 0.6056 - val_acc: 0.8916\n",
      "Epoch 58/100\n",
      "362/362 [==============================] - 132s 363ms/step - loss: 0.7614 - acc: 0.8618 - val_loss: 0.6638 - val_acc: 0.8826\n",
      "Epoch 59/100\n",
      "362/362 [==============================] - 131s 363ms/step - loss: 0.8234 - acc: 0.8570 - val_loss: 0.8277 - val_acc: 0.8674\n",
      "Epoch 60/100\n",
      "362/362 [==============================] - 131s 361ms/step - loss: 0.7805 - acc: 0.8625 - val_loss: 0.8166 - val_acc: 0.8507\n",
      "Epoch 61/100\n",
      "362/362 [==============================] - 130s 359ms/step - loss: 0.7357 - acc: 0.8686 - val_loss: 0.7791 - val_acc: 0.8645\n",
      "Epoch 62/100\n",
      "362/362 [==============================] - 130s 360ms/step - loss: 0.8025 - acc: 0.8590 - val_loss: 0.6769 - val_acc: 0.8913\n",
      "Epoch 63/100\n",
      "362/362 [==============================] - 130s 359ms/step - loss: 0.7817 - acc: 0.8600 - val_loss: 0.6910 - val_acc: 0.8938\n",
      "Epoch 64/100\n",
      "362/362 [==============================] - 130s 359ms/step - loss: 0.8448 - acc: 0.8549 - val_loss: 0.7939 - val_acc: 0.8819\n",
      "Epoch 65/100\n",
      "362/362 [==============================] - 130s 358ms/step - loss: 0.7863 - acc: 0.8596 - val_loss: 0.8538 - val_acc: 0.8530\n",
      "Epoch 66/100\n",
      "362/362 [==============================] - 130s 358ms/step - loss: 0.7900 - acc: 0.8576 - val_loss: 0.8533 - val_acc: 0.8719\n",
      "Epoch 67/100\n",
      "362/362 [==============================] - 130s 358ms/step - loss: 0.7841 - acc: 0.8589 - val_loss: 0.6770 - val_acc: 0.8830\n",
      "Epoch 68/100\n",
      "362/362 [==============================] - 130s 359ms/step - loss: 0.8777 - acc: 0.8520 - val_loss: 0.6646 - val_acc: 0.8903\n",
      "Epoch 69/100\n",
      "362/362 [==============================] - 129s 358ms/step - loss: 0.7810 - acc: 0.8624 - val_loss: 0.7463 - val_acc: 0.8772\n",
      "Epoch 70/100\n",
      "362/362 [==============================] - 130s 360ms/step - loss: 0.7693 - acc: 0.8608 - val_loss: 1.0709 - val_acc: 0.8368\n",
      "Epoch 71/100\n",
      "362/362 [==============================] - 130s 358ms/step - loss: 0.7467 - acc: 0.8671 - val_loss: 1.0795 - val_acc: 0.8573\n",
      "Epoch 72/100\n",
      "362/362 [==============================] - 130s 358ms/step - loss: 0.8435 - acc: 0.8553 - val_loss: 0.9810 - val_acc: 0.8594\n",
      "Epoch 73/100\n",
      "362/362 [==============================] - 129s 357ms/step - loss: 0.8274 - acc: 0.8586 - val_loss: 0.9045 - val_acc: 0.8548\n",
      "Epoch 74/100\n",
      "362/362 [==============================] - 130s 358ms/step - loss: 0.7784 - acc: 0.8625 - val_loss: 0.8337 - val_acc: 0.8839\n",
      "Epoch 75/100\n",
      "362/362 [==============================] - 130s 360ms/step - loss: 0.8651 - acc: 0.8613 - val_loss: 0.7758 - val_acc: 0.8767\n",
      "Epoch 76/100\n",
      "362/362 [==============================] - 130s 358ms/step - loss: 0.7921 - acc: 0.8651 - val_loss: 0.6917 - val_acc: 0.8955\n",
      "Epoch 77/100\n",
      "362/362 [==============================] - 129s 357ms/step - loss: 0.7963 - acc: 0.8651 - val_loss: 0.4766 - val_acc: 0.9009\n",
      "Epoch 78/100\n",
      "362/362 [==============================] - 130s 359ms/step - loss: 0.8181 - acc: 0.8607 - val_loss: 0.8003 - val_acc: 0.8703\n",
      "Epoch 79/100\n",
      "362/362 [==============================] - 130s 358ms/step - loss: 0.9482 - acc: 0.8437 - val_loss: 0.6976 - val_acc: 0.8799\n",
      "Epoch 80/100\n",
      "362/362 [==============================] - 130s 359ms/step - loss: 0.8379 - acc: 0.8616 - val_loss: 0.7477 - val_acc: 0.8760\n",
      "Epoch 81/100\n",
      "362/362 [==============================] - 130s 358ms/step - loss: 0.8290 - acc: 0.8605 - val_loss: 0.7885 - val_acc: 0.8683\n",
      "Epoch 82/100\n",
      "362/362 [==============================] - 130s 358ms/step - loss: 0.8089 - acc: 0.8629 - val_loss: 1.0864 - val_acc: 0.8442\n",
      "Epoch 83/100\n",
      "362/362 [==============================] - 130s 358ms/step - loss: 0.8253 - acc: 0.8636 - val_loss: 1.1726 - val_acc: 0.8438\n",
      "Epoch 84/100\n",
      "362/362 [==============================] - 130s 358ms/step - loss: 0.8440 - acc: 0.8598 - val_loss: 0.6096 - val_acc: 0.9069\n",
      "Epoch 85/100\n",
      "362/362 [==============================] - 130s 358ms/step - loss: 0.8287 - acc: 0.8618 - val_loss: 0.6871 - val_acc: 0.8853\n",
      "Epoch 86/100\n",
      "362/362 [==============================] - 129s 358ms/step - loss: 0.8252 - acc: 0.8619 - val_loss: 0.7389 - val_acc: 0.8874\n",
      "Epoch 87/100\n",
      "362/362 [==============================] - 130s 359ms/step - loss: 0.7943 - acc: 0.8688 - val_loss: 0.6806 - val_acc: 0.8906\n",
      "Epoch 88/100\n",
      "362/362 [==============================] - 130s 359ms/step - loss: 0.8571 - acc: 0.8598 - val_loss: 0.8323 - val_acc: 0.8750\n",
      "Epoch 89/100\n",
      "362/362 [==============================] - 129s 357ms/step - loss: 0.8696 - acc: 0.8593 - val_loss: 0.5412 - val_acc: 0.9132\n",
      "Epoch 90/100\n",
      "362/362 [==============================] - 130s 359ms/step - loss: 0.7982 - acc: 0.8680 - val_loss: 0.7539 - val_acc: 0.8792\n",
      "Epoch 91/100\n",
      "362/362 [==============================] - 130s 359ms/step - loss: 0.8553 - acc: 0.8614 - val_loss: 0.7567 - val_acc: 0.8799\n",
      "Epoch 92/100\n",
      "362/362 [==============================] - 130s 359ms/step - loss: 0.8106 - acc: 0.8658 - val_loss: 0.6698 - val_acc: 0.8892\n",
      "Epoch 93/100\n",
      "362/362 [==============================] - 130s 358ms/step - loss: 0.7925 - acc: 0.8700 - val_loss: 0.8559 - val_acc: 0.8587\n",
      "Epoch 94/100\n",
      "362/362 [==============================] - 130s 358ms/step - loss: 0.8290 - acc: 0.8690 - val_loss: 0.7799 - val_acc: 0.8715\n",
      "Epoch 95/100\n",
      "362/362 [==============================] - 130s 358ms/step - loss: 0.8948 - acc: 0.8571 - val_loss: 0.6918 - val_acc: 0.8812\n",
      "Epoch 96/100\n",
      "362/362 [==============================] - 130s 360ms/step - loss: 0.8515 - acc: 0.8619 - val_loss: 0.6032 - val_acc: 0.8969\n",
      "Epoch 97/100\n",
      "362/362 [==============================] - 130s 359ms/step - loss: 0.8630 - acc: 0.8627 - val_loss: 0.9014 - val_acc: 0.8633\n",
      "Epoch 98/100\n",
      "362/362 [==============================] - 129s 357ms/step - loss: 0.7844 - acc: 0.8706 - val_loss: 0.7968 - val_acc: 0.8686\n",
      "Epoch 99/100\n",
      "362/362 [==============================] - 130s 360ms/step - loss: 0.8280 - acc: 0.8640 - val_loss: 0.7821 - val_acc: 0.8767\n",
      "Epoch 100/100\n",
      "362/362 [==============================] - 130s 359ms/step - loss: 0.8471 - acc: 0.8678 - val_loss: 1.0637 - val_acc: 0.8653\n"
     ]
    }
   ],
   "source": [
    "# do not rerun\n",
    "t_steps = 11614 // 32\n",
    "v_steps = 2884 // 32\n",
    "history = model.fit_generator(train_generator, \n",
    "                              epochs=100, \n",
    "                              workers = 4,\n",
    "                              use_multiprocessing=True,\n",
    "                              steps_per_epoch=t_steps, \n",
    "                              validation_data=validation_generator,\n",
    "                              validation_steps=v_steps,\n",
    "                             )"
   ]
  },
  {
   "cell_type": "code",
   "execution_count": 0,
   "metadata": {
    "colab": {},
    "colab_type": "code",
    "id": "80wRIXqOPzPk"
   },
   "outputs": [],
   "source": [
    "# save history object\n",
    "import pickle\n",
    "\n",
    "with open('/content/drive/My Drive/Colab Notebooks/domat/history/vgg_imagenet_dropout.pickle', 'wb') as handle:\n",
    "    pickle.dump(history, handle, protocol=pickle.HIGHEST_PROTOCOL)\n"
   ]
  },
  {
   "cell_type": "code",
   "execution_count": 0,
   "metadata": {
    "colab": {},
    "colab_type": "code",
    "id": "yYzC6QJ4PzPs"
   },
   "outputs": [],
   "source": [
    "# save trained model\n",
    "model.save('/content/drive/My Drive/Colab Notebooks/domat/models/vgg_imagenet_dropout.h5')"
   ]
  },
  {
   "cell_type": "code",
   "execution_count": 0,
   "metadata": {
    "colab": {
     "base_uri": "https://localhost:8080/",
     "height": 295
    },
    "colab_type": "code",
    "executionInfo": {
     "elapsed": 1175,
     "status": "ok",
     "timestamp": 1560508110599,
     "user": {
      "displayName": "Zafir Zarya",
      "photoUrl": "https://lh4.googleusercontent.com/-ETKM_UfxYUM/AAAAAAAAAAI/AAAAAAAAGMA/PyI6bvEs4Rg/s64/photo.jpg",
      "userId": "06365792245261835796"
     },
     "user_tz": -120
    },
    "id": "y8zi4WKVPzP3",
    "outputId": "f16819fe-acec-43d3-eb92-c733a19e09aa"
   },
   "outputs": [
    {
     "data": {
      "image/png": "[encoded data removed]",
      "text/plain": [
       "<Figure size 432x288 with 1 Axes>"
      ]
     },
     "metadata": {
      "tags": []
     },
     "output_type": "display_data"
    }
   ],
   "source": [
    "plt.plot(history.history['acc'])\n",
    "plt.plot(history.history['val_acc'])\n",
    "plt.title('model accuracy')\n",
    "plt.ylabel('accuracy')\n",
    "plt.xlabel('epoch')\n",
    "plt.legend(['train', 'test'], loc='upper left')\n",
    "plt.show()"
   ]
  },
  {
   "cell_type": "code",
   "execution_count": 0,
   "metadata": {
    "colab": {
     "base_uri": "https://localhost:8080/",
     "height": 295
    },
    "colab_type": "code",
    "executionInfo": {
     "elapsed": 1574,
     "status": "ok",
     "timestamp": 1560508113793,
     "user": {
      "displayName": "Zafir Zarya",
      "photoUrl": "https://lh4.googleusercontent.com/-ETKM_UfxYUM/AAAAAAAAAAI/AAAAAAAAGMA/PyI6bvEs4Rg/s64/photo.jpg",
      "userId": "06365792245261835796"
     },
     "user_tz": -120
    },
    "id": "IHJya-RqPzP-",
    "outputId": "14aca2df-af25-4632-9b23-c8f77316e186"
   },
   "outputs": [
    {
     "data": {
      "image/png": "[encoded data removed]",
      "text/plain": [
       "<Figure size 432x288 with 1 Axes>"
      ]
     },
     "metadata": {
      "tags": []
     },
     "output_type": "display_data"
    }
   ],
   "source": [
    "plt.plot(history.history['loss'])\n",
    "plt.plot(history.history['val_loss'])\n",
    "plt.title('model loss')\n",
    "plt.ylabel('loss')\n",
    "plt.xlabel('epoch')\n",
    "plt.legend(['train', 'test'], loc='upper left')\n",
    "plt.show()"
   ]
  },
  {
   "cell_type": "markdown",
   "metadata": {
    "colab_type": "text",
    "id": "3y13zWqmPR79"
   },
   "source": [
    "# ResNet"
   ]
  },
  {
   "cell_type": "markdown",
   "metadata": {
    "colab_type": "text",
    "id": "l-eqoh8rfuva"
   },
   "source": [
    "We are using the Keras implementation of ResNet with 50 layers. The input tensor also has a shape of (224, 224, 3). \n",
    "We use ImageDataGenerator here as well."
   ]
  },
  {
   "cell_type": "markdown",
   "metadata": {
    "colab_type": "text",
    "id": "Kx2ZfhvhPXMZ"
   },
   "source": [
    "## Plain"
   ]
  },
  {
   "cell_type": "code",
   "execution_count": 0,
   "metadata": {
    "colab": {
     "base_uri": "https://localhost:8080/",
     "height": 356
    },
    "colab_type": "code",
    "executionInfo": {
     "elapsed": 19215,
     "status": "ok",
     "timestamp": 1560813345536,
     "user": {
      "displayName": "Zafir Zarya",
      "photoUrl": "https://lh4.googleusercontent.com/-ETKM_UfxYUM/AAAAAAAAAAI/AAAAAAAAGMA/PyI6bvEs4Rg/s64/photo.jpg",
      "userId": "06365792245261835796"
     },
     "user_tz": -120
    },
    "id": "SVha5kAgP10y",
    "outputId": "3a5effbf-dd44-4782-973d-2ce7f3e0bcb4"
   },
   "outputs": [
    {
     "name": "stderr",
     "output_type": "stream",
     "text": [
      "WARNING: Logging before flag parsing goes to stderr.\n",
      "W0617 23:15:26.485664 140037536708480 deprecation_wrapper.py:119] From /usr/local/lib/python3.6/dist-packages/keras/backend/tensorflow_backend.py:74: The name tf.get_default_graph is deprecated. Please use tf.compat.v1.get_default_graph instead.\n",
      "\n",
      "W0617 23:15:26.525398 140037536708480 deprecation_wrapper.py:119] From /usr/local/lib/python3.6/dist-packages/keras/backend/tensorflow_backend.py:517: The name tf.placeholder is deprecated. Please use tf.compat.v1.placeholder instead.\n",
      "\n",
      "W0617 23:15:26.535340 140037536708480 deprecation_wrapper.py:119] From /usr/local/lib/python3.6/dist-packages/keras/backend/tensorflow_backend.py:4185: The name tf.truncated_normal is deprecated. Please use tf.random.truncated_normal instead.\n",
      "\n",
      "W0617 23:15:26.571587 140037536708480 deprecation_wrapper.py:119] From /usr/local/lib/python3.6/dist-packages/keras/backend/tensorflow_backend.py:174: The name tf.get_default_session is deprecated. Please use tf.compat.v1.get_default_session instead.\n",
      "\n",
      "W0617 23:15:26.572413 140037536708480 deprecation_wrapper.py:119] From /usr/local/lib/python3.6/dist-packages/keras/backend/tensorflow_backend.py:181: The name tf.ConfigProto is deprecated. Please use tf.compat.v1.ConfigProto instead.\n",
      "\n",
      "W0617 23:15:29.201242 140037536708480 deprecation_wrapper.py:119] From /usr/local/lib/python3.6/dist-packages/keras/backend/tensorflow_backend.py:1834: The name tf.nn.fused_batch_norm is deprecated. Please use tf.compat.v1.nn.fused_batch_norm instead.\n",
      "\n",
      "W0617 23:15:29.278090 140037536708480 deprecation_wrapper.py:119] From /usr/local/lib/python3.6/dist-packages/keras/backend/tensorflow_backend.py:3976: The name tf.nn.max_pool is deprecated. Please use tf.nn.max_pool2d instead.\n",
      "\n",
      "/usr/local/lib/python3.6/dist-packages/keras_applications/resnet50.py:265: UserWarning: The output shape of `ResNet50(include_top=False)` has been changed since Keras 2.2.0.\n",
      "  warnings.warn('The output shape of `ResNet50(include_top=False)` '\n"
     ]
    },
    {
     "name": "stdout",
     "output_type": "stream",
     "text": [
      "Downloading data from https://github.com/fchollet/deep-learning-models/releases/download/v0.2/resnet50_weights_tf_dim_ordering_tf_kernels_notop.h5\n",
      "94658560/94653016 [==============================] - 6s 0us/step\n"
     ]
    }
   ],
   "source": [
    "base_model = ResNet50(include_top=False, input_shape=(224, 224, 3))\n",
    "for layer in base_model.layers:\n",
    "    layer.trainable = True\n",
    "# base_model.summary()"
   ]
  },
  {
   "cell_type": "code",
   "execution_count": 0,
   "metadata": {
    "colab": {},
    "colab_type": "code",
    "id": "zO2XqS9aQNSk"
   },
   "outputs": [],
   "source": [
    "x = base_model.output\n",
    "x = Flatten(name='flatten', input_shape=base_model.output_shape)(x) \n",
    "x = Dense(10, activation='softmax', name='predictions')(x)\n",
    "model = Model(inputs=base_model.input, outputs=x)\n",
    "# model.summary()"
   ]
  },
  {
   "cell_type": "code",
   "execution_count": 0,
   "metadata": {
    "colab": {
     "base_uri": "https://localhost:8080/",
     "height": 70
    },
    "colab_type": "code",
    "executionInfo": {
     "elapsed": 899,
     "status": "ok",
     "timestamp": 1560813353368,
     "user": {
      "displayName": "Zafir Zarya",
      "photoUrl": "https://lh4.googleusercontent.com/-ETKM_UfxYUM/AAAAAAAAAAI/AAAAAAAAGMA/PyI6bvEs4Rg/s64/photo.jpg",
      "userId": "06365792245261835796"
     },
     "user_tz": -120
    },
    "id": "bpGFVtNPQO_v",
    "outputId": "55e1e81a-d858-4bc7-b3b8-b3eda3027d3d"
   },
   "outputs": [
    {
     "name": "stderr",
     "output_type": "stream",
     "text": [
      "W0617 23:15:52.594953 140037536708480 deprecation_wrapper.py:119] From /usr/local/lib/python3.6/dist-packages/keras/optimizers.py:790: The name tf.train.Optimizer is deprecated. Please use tf.compat.v1.train.Optimizer instead.\n",
      "\n"
     ]
    }
   ],
   "source": [
    "model.compile(optimizer='adam', \n",
    "              loss='categorical_crossentropy',\n",
    "              metrics=['accuracy'])"
   ]
  },
  {
   "cell_type": "code",
   "execution_count": 0,
   "metadata": {
    "colab": {},
    "colab_type": "code",
    "id": "ut7U1CTHQSCk"
   },
   "outputs": [],
   "source": [
    "train_datagen = ImageDataGenerator(\n",
    "    rescale=1./255,\n",
    "    rotation_range=40,\n",
    "    width_shift_range=0.2,\n",
    "    height_shift_range=0.2,\n",
    "    shear_range=0.2,\n",
    "    zoom_range=0.2,\n",
    "    fill_mode='nearest',\n",
    ")\n",
    "validation_datagen = ImageDataGenerator(\n",
    "    rescale=1./255,\n",
    ")"
   ]
  },
  {
   "cell_type": "code",
   "execution_count": 0,
   "metadata": {
    "colab": {
     "base_uri": "https://localhost:8080/",
     "height": 50
    },
    "colab_type": "code",
    "executionInfo": {
     "elapsed": 1588,
     "status": "ok",
     "timestamp": 1560813418321,
     "user": {
      "displayName": "Zafir Zarya",
      "photoUrl": "https://lh4.googleusercontent.com/-ETKM_UfxYUM/AAAAAAAAAAI/AAAAAAAAGMA/PyI6bvEs4Rg/s64/photo.jpg",
      "userId": "06365792245261835796"
     },
     "user_tz": -120
    },
    "id": "GUdxnl4eQWZ8",
    "outputId": "5d1b9218-9043-4f96-d229-782d1d906088"
   },
   "outputs": [
    {
     "name": "stdout",
     "output_type": "stream",
     "text": [
      "Found 11614 images belonging to 10 classes.\n",
      "Found 2884 images belonging to 10 classes.\n"
     ]
    }
   ],
   "source": [
    "train_generator = train_datagen.flow_from_directory(\n",
    "        '/content/drive/My Drive/Colab Notebooks/domat/solo-dataset/train/', \n",
    "        target_size=(224, 224),\n",
    "        batch_size=32,\n",
    "        class_mode='categorical',\n",
    ")\n",
    "validation_generator = validation_datagen.flow_from_directory(\n",
    "        '/content/drive/My Drive/Colab Notebooks/domat/solo-dataset/validation/',\n",
    "        target_size=(224, 224),\n",
    "        batch_size=32,\n",
    "        class_mode='categorical',\n",
    ")"
   ]
  },
  {
   "cell_type": "code",
   "execution_count": 0,
   "metadata": {
    "colab": {
     "base_uri": "https://localhost:8080/",
     "height": 34
    },
    "colab_type": "code",
    "executionInfo": {
     "elapsed": 1805,
     "status": "ok",
     "timestamp": 1560813423019,
     "user": {
      "displayName": "Zafir Zarya",
      "photoUrl": "https://lh4.googleusercontent.com/-ETKM_UfxYUM/AAAAAAAAAAI/AAAAAAAAGMA/PyI6bvEs4Rg/s64/photo.jpg",
      "userId": "06365792245261835796"
     },
     "user_tz": -120
    },
    "id": "jJxUtqVwQXUE",
    "outputId": "7982f6ff-eda2-4e20-cf70-505e68de7bc0"
   },
   "outputs": [
    {
     "name": "stdout",
     "output_type": "stream",
     "text": [
      "Found GPU at: /device:GPU:0\n"
     ]
    }
   ],
   "source": [
    "import tensorflow as tf\n",
    "device_name = tf.test.gpu_device_name()\n",
    "if device_name != '/device:GPU:0':\n",
    "    raise SystemError('GPU device not found')\n",
    "print('Found GPU at: {}'.format(device_name))"
   ]
  },
  {
   "cell_type": "code",
   "execution_count": 0,
   "metadata": {
    "colab": {
     "base_uri": "https://localhost:8080/",
     "height": 1801
    },
    "colab_type": "code",
    "executionInfo": {
     "elapsed": 260509,
     "status": "ok",
     "timestamp": 1560829353271,
     "user": {
      "displayName": "Zafir Zarya",
      "photoUrl": "https://lh4.googleusercontent.com/-ETKM_UfxYUM/AAAAAAAAAAI/AAAAAAAAGMA/PyI6bvEs4Rg/s64/photo.jpg",
      "userId": "06365792245261835796"
     },
     "user_tz": -120
    },
    "id": "0KvtznZAQZFE",
    "outputId": "70bc80c5-b4b0-454c-9a86-80543220b5ce"
   },
   "outputs": [
    {
     "name": "stderr",
     "output_type": "stream",
     "text": [
      "W0617 23:17:07.277194 140037536708480 deprecation.py:323] From /usr/local/lib/python3.6/dist-packages/tensorflow/python/ops/math_grad.py:1250: add_dispatch_support.<locals>.wrapper (from tensorflow.python.ops.array_ops) is deprecated and will be removed in a future version.\n",
      "Instructions for updating:\n",
      "Use tf.where in 2.0, which has the same broadcast rule as np.where\n"
     ]
    },
    {
     "name": "stdout",
     "output_type": "stream",
     "text": [
      "Epoch 1/50\n"
     ]
    },
    {
     "name": "stderr",
     "output_type": "stream",
     "text": [
      "/usr/local/lib/python3.6/dist-packages/keras/engine/training_generator.py:47: UserWarning: Using a generator with `use_multiprocessing=True` and multiple workers may duplicate your data. Please consider using the`keras.utils.Sequence class.\n",
      "  UserWarning('Using a generator with `use_multiprocessing=True`'\n"
     ]
    },
    {
     "name": "stdout",
     "output_type": "stream",
     "text": [
      "362/362 [==============================] - 2082s 6s/step - loss: 1.4482 - acc: 0.6361 - val_loss: 3.0035 - val_acc: 0.5069\n",
      "Epoch 2/50\n",
      "362/362 [==============================] - 1976s 5s/step - loss: 0.9991 - acc: 0.6932 - val_loss: 10.6612 - val_acc: 0.2472\n",
      "Epoch 3/50\n",
      "362/362 [==============================] - 2016s 6s/step - loss: 0.8597 - acc: 0.7195 - val_loss: 1.5737 - val_acc: 0.6840\n",
      "Epoch 4/50\n",
      "362/362 [==============================] - 1978s 5s/step - loss: 0.7534 - acc: 0.7541 - val_loss: 1.8180 - val_acc: 0.5687\n",
      "Epoch 5/50\n",
      "362/362 [==============================] - 176s 487ms/step - loss: 0.6022 - acc: 0.8034 - val_loss: 1.0606 - val_acc: 0.7305\n",
      "Epoch 6/50\n",
      "362/362 [==============================] - 173s 479ms/step - loss: 0.5968 - acc: 0.8149 - val_loss: 11.3946 - val_acc: 0.2931\n",
      "Epoch 7/50\n",
      "362/362 [==============================] - 172s 476ms/step - loss: 1.0835 - acc: 0.7264 - val_loss: 1.9960 - val_acc: 0.5250\n",
      "Epoch 8/50\n",
      "362/362 [==============================] - 172s 475ms/step - loss: 0.6852 - acc: 0.7945 - val_loss: 1.1981 - val_acc: 0.7153\n",
      "Epoch 9/50\n",
      "362/362 [==============================] - 172s 475ms/step - loss: 0.6144 - acc: 0.8131 - val_loss: 5.1279 - val_acc: 0.4256\n",
      "Epoch 10/50\n",
      "362/362 [==============================] - 171s 473ms/step - loss: 0.5627 - acc: 0.8233 - val_loss: 2.3354 - val_acc: 0.6219\n",
      "Epoch 11/50\n",
      "362/362 [==============================] - 172s 475ms/step - loss: 0.5123 - acc: 0.8341 - val_loss: 10.0475 - val_acc: 0.3316\n",
      "Epoch 12/50\n",
      "362/362 [==============================] - 172s 474ms/step - loss: 0.5152 - acc: 0.8368 - val_loss: 0.6639 - val_acc: 0.7837\n",
      "Epoch 13/50\n",
      "362/362 [==============================] - 172s 474ms/step - loss: 0.5540 - acc: 0.8345 - val_loss: 8.9793 - val_acc: 0.3121\n",
      "Epoch 14/50\n",
      "362/362 [==============================] - 172s 475ms/step - loss: 0.6924 - acc: 0.8024 - val_loss: 0.9588 - val_acc: 0.7160\n",
      "Epoch 15/50\n",
      "362/362 [==============================] - 172s 474ms/step - loss: 0.4916 - acc: 0.8348 - val_loss: 3.0322 - val_acc: 0.4149\n",
      "Epoch 16/50\n",
      "362/362 [==============================] - 172s 475ms/step - loss: 0.5014 - acc: 0.8339 - val_loss: 2.4567 - val_acc: 0.5101\n",
      "Epoch 17/50\n",
      "362/362 [==============================] - 172s 474ms/step - loss: 0.4367 - acc: 0.8622 - val_loss: 3.5218 - val_acc: 0.5314\n",
      "Epoch 18/50\n",
      "362/362 [==============================] - 172s 474ms/step - loss: 0.4494 - acc: 0.8652 - val_loss: 1.3800 - val_acc: 0.7198\n",
      "Epoch 19/50\n",
      "362/362 [==============================] - 170s 471ms/step - loss: 0.4187 - acc: 0.8616 - val_loss: 3.9701 - val_acc: 0.4684\n",
      "Epoch 20/50\n",
      "362/362 [==============================] - 170s 470ms/step - loss: 0.3450 - acc: 0.8907 - val_loss: 7.4441 - val_acc: 0.3535\n",
      "Epoch 21/50\n",
      "362/362 [==============================] - 169s 467ms/step - loss: 0.3506 - acc: 0.8945 - val_loss: 3.0785 - val_acc: 0.5600\n",
      "Epoch 22/50\n",
      "362/362 [==============================] - 169s 468ms/step - loss: 0.3295 - acc: 0.8991 - val_loss: 0.4955 - val_acc: 0.8559\n",
      "Epoch 23/50\n",
      "362/362 [==============================] - 169s 467ms/step - loss: 0.2705 - acc: 0.9144 - val_loss: 2.2565 - val_acc: 0.6135\n",
      "Epoch 24/50\n",
      "362/362 [==============================] - 170s 469ms/step - loss: 0.2552 - acc: 0.9258 - val_loss: 1.0916 - val_acc: 0.6990\n",
      "Epoch 25/50\n",
      "362/362 [==============================] - 170s 469ms/step - loss: 0.2263 - acc: 0.9363 - val_loss: 0.7673 - val_acc: 0.8013\n",
      "Epoch 26/50\n",
      "362/362 [==============================] - 172s 476ms/step - loss: 0.2350 - acc: 0.9283 - val_loss: 1.4264 - val_acc: 0.7344\n",
      "Epoch 27/50\n",
      "362/362 [==============================] - 172s 474ms/step - loss: 0.2350 - acc: 0.9375 - val_loss: 0.6299 - val_acc: 0.8128\n",
      "Epoch 28/50\n",
      "362/362 [==============================] - 171s 473ms/step - loss: 0.2347 - acc: 0.9330 - val_loss: 4.0156 - val_acc: 0.5569\n",
      "Epoch 29/50\n",
      "362/362 [==============================] - 171s 471ms/step - loss: 0.2095 - acc: 0.9431 - val_loss: 2.8040 - val_acc: 0.5412\n",
      "Epoch 30/50\n",
      "362/362 [==============================] - 171s 472ms/step - loss: 0.6809 - acc: 0.8758 - val_loss: 1.0184 - val_acc: 0.7438\n",
      "Epoch 31/50\n",
      "362/362 [==============================] - 170s 470ms/step - loss: 0.8169 - acc: 0.8733 - val_loss: 4.5644 - val_acc: 0.4802\n",
      "Epoch 32/50\n",
      "362/362 [==============================] - 170s 470ms/step - loss: 0.7512 - acc: 0.8835 - val_loss: 0.8304 - val_acc: 0.8729\n",
      "Epoch 33/50\n",
      "362/362 [==============================] - 169s 468ms/step - loss: 0.7836 - acc: 0.8172 - val_loss: 0.7196 - val_acc: 0.7753\n",
      "Epoch 34/50\n",
      "362/362 [==============================] - 170s 470ms/step - loss: 0.3908 - acc: 0.8750 - val_loss: 0.8760 - val_acc: 0.8007\n",
      "Epoch 35/50\n",
      "362/362 [==============================] - 170s 470ms/step - loss: 0.2544 - acc: 0.9167 - val_loss: 0.3894 - val_acc: 0.8875\n",
      "Epoch 36/50\n",
      "362/362 [==============================] - 170s 471ms/step - loss: 0.2433 - acc: 0.9217 - val_loss: 0.3766 - val_acc: 0.8833\n",
      "Epoch 37/50\n",
      "362/362 [==============================] - 170s 468ms/step - loss: 0.1829 - acc: 0.9402 - val_loss: 0.3067 - val_acc: 0.9104\n",
      "Epoch 38/50\n",
      "362/362 [==============================] - 170s 468ms/step - loss: 0.1617 - acc: 0.9515 - val_loss: 0.3294 - val_acc: 0.8983\n",
      "Epoch 39/50\n",
      "362/362 [==============================] - 170s 470ms/step - loss: 0.1772 - acc: 0.9481 - val_loss: 0.3941 - val_acc: 0.8941\n",
      "Epoch 40/50\n",
      "362/362 [==============================] - 170s 470ms/step - loss: 0.1606 - acc: 0.9542 - val_loss: 1.7792 - val_acc: 0.6844\n",
      "Epoch 41/50\n",
      "362/362 [==============================] - 170s 468ms/step - loss: 0.1599 - acc: 0.9571 - val_loss: 0.6370 - val_acc: 0.8266\n",
      "Epoch 42/50\n",
      "362/362 [==============================] - 170s 469ms/step - loss: 0.1493 - acc: 0.9618 - val_loss: 0.2268 - val_acc: 0.9424\n",
      "Epoch 43/50\n",
      "362/362 [==============================] - 170s 469ms/step - loss: 0.1075 - acc: 0.9733 - val_loss: 0.3365 - val_acc: 0.9281\n",
      "Epoch 44/50\n",
      "362/362 [==============================] - 170s 471ms/step - loss: 0.1253 - acc: 0.9681 - val_loss: 0.9612 - val_acc: 0.7976\n",
      "Epoch 45/50\n",
      "362/362 [==============================] - 170s 470ms/step - loss: 0.0990 - acc: 0.9730 - val_loss: 0.2610 - val_acc: 0.9296\n",
      "Epoch 46/50\n",
      "362/362 [==============================] - 172s 475ms/step - loss: 0.0884 - acc: 0.9783 - val_loss: 0.5437 - val_acc: 0.8458\n",
      "Epoch 47/50\n",
      "362/362 [==============================] - 172s 476ms/step - loss: 0.0939 - acc: 0.9757 - val_loss: 0.9165 - val_acc: 0.8205\n",
      "Epoch 48/50\n",
      "362/362 [==============================] - 172s 476ms/step - loss: 0.1037 - acc: 0.9733 - val_loss: 3.7131 - val_acc: 0.4260\n",
      "Epoch 49/50\n",
      "362/362 [==============================] - 172s 476ms/step - loss: 0.4547 - acc: 0.9258 - val_loss: 1.3678 - val_acc: 0.7793\n",
      "Epoch 50/50\n",
      "362/362 [==============================] - 172s 474ms/step - loss: 0.2403 - acc: 0.9488 - val_loss: 4.4046 - val_acc: 0.5559\n"
     ]
    }
   ],
   "source": [
    "# do not rerun\n",
    "t_steps = 11614 // 32\n",
    "v_steps = 2884 // 32\n",
    "history = model.fit_generator(train_generator, \n",
    "                              epochs=50, \n",
    "                              workers = 4,\n",
    "                              use_multiprocessing=True,\n",
    "                              steps_per_epoch=t_steps, \n",
    "                              validation_data=validation_generator,\n",
    "                              validation_steps=v_steps,\n",
    "                             )"
   ]
  },
  {
   "cell_type": "code",
   "execution_count": 0,
   "metadata": {
    "colab": {},
    "colab_type": "code",
    "id": "AgO6ZnjeQehH"
   },
   "outputs": [],
   "source": [
    "# save history object\n",
    "import pickle\n",
    "\n",
    "with open('/content/drive/My Drive/Colab Notebooks/domat/history/resnet_untrained.pickle', 'wb') as handle:\n",
    "    pickle.dump(history, handle, protocol=pickle.HIGHEST_PROTOCOL)"
   ]
  },
  {
   "cell_type": "code",
   "execution_count": 0,
   "metadata": {
    "colab": {},
    "colab_type": "code",
    "id": "NyMkq1IDQfA6"
   },
   "outputs": [],
   "source": [
    "# save trained model\n",
    "model.save('/content/drive/My Drive/Colab Notebooks/domat/models/resnet_untrained.h5')"
   ]
  },
  {
   "cell_type": "code",
   "execution_count": 0,
   "metadata": {
    "colab": {},
    "colab_type": "code",
    "id": "GRAfV_gccHqO"
   },
   "outputs": [],
   "source": [
    "import matplotlib.pyplot as plt"
   ]
  },
  {
   "cell_type": "code",
   "execution_count": 0,
   "metadata": {
    "colab": {},
    "colab_type": "code",
    "id": "l90ORbI2cNqA"
   },
   "outputs": [],
   "source": [
    "with open('/content/drive/My Drive/Colab Notebooks/domat/history/resnet_untrained.pickle', 'rb') as handle:\n",
    "    history = pickle.load(handle)\n",
    "   "
   ]
  },
  {
   "cell_type": "code",
   "execution_count": 0,
   "metadata": {
    "colab": {},
    "colab_type": "code",
    "id": "sqcJigtUcPYR"
   },
   "outputs": [],
   "source": [
    "from keras.models import load_model\n",
    "\n",
    "model = load_model('/content/drive/My Drive/Colab Notebooks/domat/models/resnet_untrained.h5')"
   ]
  },
  {
   "cell_type": "code",
   "execution_count": 0,
   "metadata": {
    "colab": {
     "base_uri": "https://localhost:8080/",
     "height": 295
    },
    "colab_type": "code",
    "executionInfo": {
     "elapsed": 1128,
     "status": "ok",
     "timestamp": 1560842261556,
     "user": {
      "displayName": "Zafir Zarya",
      "photoUrl": "https://lh4.googleusercontent.com/-ETKM_UfxYUM/AAAAAAAAAAI/AAAAAAAAGMA/PyI6bvEs4Rg/s64/photo.jpg",
      "userId": "06365792245261835796"
     },
     "user_tz": -120
    },
    "id": "YWjmJyY0QfD1",
    "outputId": "eaa4a59e-9b96-4a15-b0fa-a5ec848a4076"
   },
   "outputs": [
    {
     "data": {
      "image/png": "[encoded data removed]",
      "text/plain": [
       "<Figure size 432x288 with 1 Axes>"
      ]
     },
     "metadata": {
      "tags": []
     },
     "output_type": "display_data"
    }
   ],
   "source": [
    "plt.plot(history.history['acc'])\n",
    "plt.plot(history.history['val_acc'])\n",
    "plt.title('model accuracy')\n",
    "plt.ylabel('accuracy')\n",
    "plt.xlabel('epoch')\n",
    "plt.legend(['train', 'test'], loc='upper left')\n",
    "plt.show()"
   ]
  },
  {
   "cell_type": "code",
   "execution_count": 0,
   "metadata": {
    "colab": {
     "base_uri": "https://localhost:8080/",
     "height": 295
    },
    "colab_type": "code",
    "executionInfo": {
     "elapsed": 1177,
     "status": "ok",
     "timestamp": 1560842270224,
     "user": {
      "displayName": "Zafir Zarya",
      "photoUrl": "https://lh4.googleusercontent.com/-ETKM_UfxYUM/AAAAAAAAAAI/AAAAAAAAGMA/PyI6bvEs4Rg/s64/photo.jpg",
      "userId": "06365792245261835796"
     },
     "user_tz": -120
    },
    "id": "az0XY0XEQfMY",
    "outputId": "53498459-2486-4cb5-e7ba-0e64baf3c45a"
   },
   "outputs": [
    {
     "data": {
      "image/png": "[encoded data removed]",
      "text/plain": [
       "<Figure size 432x288 with 1 Axes>"
      ]
     },
     "metadata": {
      "tags": []
     },
     "output_type": "display_data"
    }
   ],
   "source": [
    "plt.plot(history.history['loss'])\n",
    "plt.plot(history.history['val_loss'])\n",
    "plt.title('model loss')\n",
    "plt.ylabel('loss')\n",
    "plt.xlabel('epoch')\n",
    "plt.legend(['train', 'test'], loc='upper left')\n",
    "plt.show()"
   ]
  },
  {
   "cell_type": "markdown",
   "metadata": {
    "colab_type": "text",
    "id": "pH4UHpNLPkVP"
   },
   "source": [
    "### Pretrain-ImageNet"
   ]
  },
  {
   "cell_type": "code",
   "execution_count": 0,
   "metadata": {
    "colab": {
     "base_uri": "https://localhost:8080/",
     "height": 356
    },
    "colab_type": "code",
    "executionInfo": {
     "elapsed": 15188,
     "status": "ok",
     "timestamp": 1560842533579,
     "user": {
      "displayName": "Zafir Zarya",
      "photoUrl": "https://lh4.googleusercontent.com/-ETKM_UfxYUM/AAAAAAAAAAI/AAAAAAAAGMA/PyI6bvEs4Rg/s64/photo.jpg",
      "userId": "06365792245261835796"
     },
     "user_tz": -120
    },
    "id": "LnQKkwJ7Q9GV",
    "outputId": "32a5455d-bb3f-4ed8-d773-4bba4bf908f7"
   },
   "outputs": [
    {
     "name": "stderr",
     "output_type": "stream",
     "text": [
      "WARNING: Logging before flag parsing goes to stderr.\n",
      "W0618 07:21:58.520182 139705968113536 deprecation_wrapper.py:119] From /usr/local/lib/python3.6/dist-packages/keras/backend/tensorflow_backend.py:74: The name tf.get_default_graph is deprecated. Please use tf.compat.v1.get_default_graph instead.\n",
      "\n",
      "W0618 07:21:58.572934 139705968113536 deprecation_wrapper.py:119] From /usr/local/lib/python3.6/dist-packages/keras/backend/tensorflow_backend.py:517: The name tf.placeholder is deprecated. Please use tf.compat.v1.placeholder instead.\n",
      "\n",
      "W0618 07:21:58.584466 139705968113536 deprecation_wrapper.py:119] From /usr/local/lib/python3.6/dist-packages/keras/backend/tensorflow_backend.py:4185: The name tf.truncated_normal is deprecated. Please use tf.random.truncated_normal instead.\n",
      "\n",
      "W0618 07:21:58.619144 139705968113536 deprecation_wrapper.py:119] From /usr/local/lib/python3.6/dist-packages/keras/backend/tensorflow_backend.py:174: The name tf.get_default_session is deprecated. Please use tf.compat.v1.get_default_session instead.\n",
      "\n",
      "W0618 07:21:58.620147 139705968113536 deprecation_wrapper.py:119] From /usr/local/lib/python3.6/dist-packages/keras/backend/tensorflow_backend.py:181: The name tf.ConfigProto is deprecated. Please use tf.compat.v1.ConfigProto instead.\n",
      "\n",
      "W0618 07:22:01.927490 139705968113536 deprecation_wrapper.py:119] From /usr/local/lib/python3.6/dist-packages/keras/backend/tensorflow_backend.py:1834: The name tf.nn.fused_batch_norm is deprecated. Please use tf.compat.v1.nn.fused_batch_norm instead.\n",
      "\n",
      "W0618 07:22:01.999863 139705968113536 deprecation_wrapper.py:119] From /usr/local/lib/python3.6/dist-packages/keras/backend/tensorflow_backend.py:3976: The name tf.nn.max_pool is deprecated. Please use tf.nn.max_pool2d instead.\n",
      "\n",
      "/usr/local/lib/python3.6/dist-packages/keras_applications/resnet50.py:265: UserWarning: The output shape of `ResNet50(include_top=False)` has been changed since Keras 2.2.0.\n",
      "  warnings.warn('The output shape of `ResNet50(include_top=False)` '\n"
     ]
    },
    {
     "name": "stdout",
     "output_type": "stream",
     "text": [
      "Downloading data from https://github.com/fchollet/deep-learning-models/releases/download/v0.2/resnet50_weights_tf_dim_ordering_tf_kernels_notop.h5\n",
      "94658560/94653016 [==============================] - 3s 0us/step\n"
     ]
    }
   ],
   "source": [
    "base_model = ResNet50(include_top=False, weights='imagenet',\n",
    "                         input_shape=(224, 224, 3))\n",
    "for layer in base_model.layers:\n",
    "    layer.trainable = False\n",
    "# base_model.summary()"
   ]
  },
  {
   "cell_type": "code",
   "execution_count": 0,
   "metadata": {
    "colab": {},
    "colab_type": "code",
    "id": "-IiV3z1jRAoZ"
   },
   "outputs": [],
   "source": [
    "x = base_model.output\n",
    "x = Flatten(name='flatten', input_shape=base_model.output_shape)(x) \n",
    "x = Dense(10, activation='softmax', name='predictions')(x)\n",
    "model = Model(inputs=base_model.input, outputs=x)\n",
    "# model.summary()"
   ]
  },
  {
   "cell_type": "code",
   "execution_count": 0,
   "metadata": {
    "colab": {
     "base_uri": "https://localhost:8080/",
     "height": 70
    },
    "colab_type": "code",
    "executionInfo": {
     "elapsed": 682,
     "status": "ok",
     "timestamp": 1560842538785,
     "user": {
      "displayName": "Zafir Zarya",
      "photoUrl": "https://lh4.googleusercontent.com/-ETKM_UfxYUM/AAAAAAAAAAI/AAAAAAAAGMA/PyI6bvEs4Rg/s64/photo.jpg",
      "userId": "06365792245261835796"
     },
     "user_tz": -120
    },
    "id": "-UdAb_EIRAq0",
    "outputId": "e6a54b8a-04a4-4a9b-9d8c-e54c9770d407"
   },
   "outputs": [
    {
     "name": "stderr",
     "output_type": "stream",
     "text": [
      "W0618 07:22:18.220149 139705968113536 deprecation_wrapper.py:119] From /usr/local/lib/python3.6/dist-packages/keras/optimizers.py:790: The name tf.train.Optimizer is deprecated. Please use tf.compat.v1.train.Optimizer instead.\n",
      "\n"
     ]
    }
   ],
   "source": [
    "model.compile(optimizer='adam', \n",
    "              loss='categorical_crossentropy',\n",
    "              metrics=['accuracy'])"
   ]
  },
  {
   "cell_type": "code",
   "execution_count": 0,
   "metadata": {
    "colab": {},
    "colab_type": "code",
    "id": "fLPza7LXRKeq"
   },
   "outputs": [],
   "source": [
    "train_datagen = ImageDataGenerator(\n",
    "    rescale=1./255,\n",
    "    rotation_range=40,\n",
    "    width_shift_range=0.2,\n",
    "    height_shift_range=0.2,\n",
    "    shear_range=0.2,\n",
    "    zoom_range=0.2,\n",
    "    fill_mode='nearest',\n",
    ")\n",
    "validation_datagen = ImageDataGenerator(\n",
    "    rescale=1./255,\n",
    ")"
   ]
  },
  {
   "cell_type": "code",
   "execution_count": 0,
   "metadata": {
    "colab": {
     "base_uri": "https://localhost:8080/",
     "height": 50
    },
    "colab_type": "code",
    "executionInfo": {
     "elapsed": 1383,
     "status": "ok",
     "timestamp": 1560842595794,
     "user": {
      "displayName": "Zafir Zarya",
      "photoUrl": "https://lh4.googleusercontent.com/-ETKM_UfxYUM/AAAAAAAAAAI/AAAAAAAAGMA/PyI6bvEs4Rg/s64/photo.jpg",
      "userId": "06365792245261835796"
     },
     "user_tz": -120
    },
    "id": "oZwioxl9RAta",
    "outputId": "1ed17193-4309-4fe7-e7ef-105b36be692c"
   },
   "outputs": [
    {
     "name": "stdout",
     "output_type": "stream",
     "text": [
      "Found 11614 images belonging to 10 classes.\n",
      "Found 2884 images belonging to 10 classes.\n"
     ]
    }
   ],
   "source": [
    "train_generator = train_datagen.flow_from_directory(\n",
    "        '/content/drive/My Drive/Colab Notebooks/domat/solo-dataset/train/', \n",
    "        target_size=(224, 224),\n",
    "        batch_size=32,\n",
    "        class_mode='categorical',\n",
    ")\n",
    "validation_generator = validation_datagen.flow_from_directory(\n",
    "        '/content/drive/My Drive/Colab Notebooks/domat/solo-dataset/validation/',\n",
    "        target_size=(224, 224),\n",
    "        batch_size=32,\n",
    "        class_mode='categorical',\n",
    ")"
   ]
  },
  {
   "cell_type": "code",
   "execution_count": 0,
   "metadata": {
    "colab": {
     "base_uri": "https://localhost:8080/",
     "height": 34
    },
    "colab_type": "code",
    "executionInfo": {
     "elapsed": 751,
     "status": "ok",
     "timestamp": 1560842598228,
     "user": {
      "displayName": "Zafir Zarya",
      "photoUrl": "https://lh4.googleusercontent.com/-ETKM_UfxYUM/AAAAAAAAAAI/AAAAAAAAGMA/PyI6bvEs4Rg/s64/photo.jpg",
      "userId": "06365792245261835796"
     },
     "user_tz": -120
    },
    "id": "UecPA7xoRAyM",
    "outputId": "ed377a9f-70bb-4b23-d611-f4fd3dad7997"
   },
   "outputs": [
    {
     "name": "stdout",
     "output_type": "stream",
     "text": [
      "Found GPU at: /device:GPU:0\n"
     ]
    }
   ],
   "source": [
    "import tensorflow as tf\n",
    "device_name = tf.test.gpu_device_name()\n",
    "if device_name != '/device:GPU:0':\n",
    "    raise SystemError('GPU device not found')\n",
    "print('Found GPU at: {}'.format(device_name))"
   ]
  },
  {
   "cell_type": "code",
   "execution_count": 0,
   "metadata": {
    "colab": {
     "base_uri": "https://localhost:8080/",
     "height": 1801
    },
    "colab_type": "code",
    "executionInfo": {
     "elapsed": 11174139,
     "status": "ok",
     "timestamp": 1560853778038,
     "user": {
      "displayName": "Zafir Zarya",
      "photoUrl": "https://lh4.googleusercontent.com/-ETKM_UfxYUM/AAAAAAAAAAI/AAAAAAAAGMA/PyI6bvEs4Rg/s64/photo.jpg",
      "userId": "06365792245261835796"
     },
     "user_tz": -120
    },
    "id": "3yrND178RA0q",
    "outputId": "2872a4dd-d06c-402b-f33d-2330c2740999"
   },
   "outputs": [
    {
     "name": "stderr",
     "output_type": "stream",
     "text": [
      "W0618 07:23:24.566237 139705968113536 deprecation.py:323] From /usr/local/lib/python3.6/dist-packages/tensorflow/python/ops/math_grad.py:1250: add_dispatch_support.<locals>.wrapper (from tensorflow.python.ops.array_ops) is deprecated and will be removed in a future version.\n",
      "Instructions for updating:\n",
      "Use tf.where in 2.0, which has the same broadcast rule as np.where\n"
     ]
    },
    {
     "name": "stdout",
     "output_type": "stream",
     "text": [
      "Epoch 1/50\n"
     ]
    },
    {
     "name": "stderr",
     "output_type": "stream",
     "text": [
      "/usr/local/lib/python3.6/dist-packages/keras/engine/training_generator.py:47: UserWarning: Using a generator with `use_multiprocessing=True` and multiple workers may duplicate your data. Please consider using the`keras.utils.Sequence class.\n",
      "  UserWarning('Using a generator with `use_multiprocessing=True`'\n"
     ]
    },
    {
     "name": "stdout",
     "output_type": "stream",
     "text": [
      "362/362 [==============================] - 1213s 3s/step - loss: 8.5446 - acc: 0.4622 - val_loss: 11.5641 - val_acc: 0.2819\n",
      "Epoch 2/50\n",
      "362/362 [==============================] - 1131s 3s/step - loss: 7.7206 - acc: 0.5171 - val_loss: 11.7113 - val_acc: 0.1347\n",
      "Epoch 3/50\n",
      "362/362 [==============================] - 1166s 3s/step - loss: 6.2197 - acc: 0.6099 - val_loss: 11.3946 - val_acc: 0.2931\n",
      "Epoch 4/50\n",
      "362/362 [==============================] - 1163s 3s/step - loss: 5.7921 - acc: 0.6371 - val_loss: 11.4394 - val_acc: 0.2903\n",
      "Epoch 5/50\n",
      "362/362 [==============================] - 142s 393ms/step - loss: 5.6316 - acc: 0.6470 - val_loss: 11.4364 - val_acc: 0.2905\n",
      "Epoch 6/50\n",
      "362/362 [==============================] - 142s 392ms/step - loss: 5.6020 - acc: 0.6493 - val_loss: 11.4114 - val_acc: 0.2920\n",
      "Epoch 7/50\n",
      "362/362 [==============================] - 141s 389ms/step - loss: 5.6338 - acc: 0.6481 - val_loss: 11.4897 - val_acc: 0.2872\n",
      "Epoch 8/50\n",
      "362/362 [==============================] - 142s 391ms/step - loss: 5.3193 - acc: 0.6662 - val_loss: 11.6297 - val_acc: 0.2785\n",
      "Epoch 9/50\n",
      "362/362 [==============================] - 141s 391ms/step - loss: 5.3221 - acc: 0.6656 - val_loss: 10.9240 - val_acc: 0.3223\n",
      "Epoch 10/50\n",
      "362/362 [==============================] - 143s 395ms/step - loss: 5.2969 - acc: 0.6672 - val_loss: 11.9263 - val_acc: 0.2601\n",
      "Epoch 11/50\n",
      "362/362 [==============================] - 141s 390ms/step - loss: 5.1637 - acc: 0.6759 - val_loss: 11.3498 - val_acc: 0.2958\n",
      "Epoch 12/50\n",
      "362/362 [==============================] - 140s 388ms/step - loss: 5.1024 - acc: 0.6801 - val_loss: 11.6464 - val_acc: 0.2774\n",
      "Epoch 13/50\n",
      "362/362 [==============================] - 141s 390ms/step - loss: 4.7951 - acc: 0.6993 - val_loss: 11.4946 - val_acc: 0.2868\n",
      "Epoch 14/50\n",
      "362/362 [==============================] - 141s 390ms/step - loss: 4.9783 - acc: 0.6873 - val_loss: 10.9860 - val_acc: 0.3184\n",
      "Epoch 15/50\n",
      "362/362 [==============================] - 142s 391ms/step - loss: 4.7110 - acc: 0.7029 - val_loss: 11.7920 - val_acc: 0.2684\n",
      "Epoch 16/50\n",
      "362/362 [==============================] - 142s 391ms/step - loss: 4.8293 - acc: 0.6966 - val_loss: 11.4338 - val_acc: 0.2906\n",
      "Epoch 17/50\n",
      "362/362 [==============================] - 142s 393ms/step - loss: 4.6513 - acc: 0.7070 - val_loss: 11.3956 - val_acc: 0.2930\n",
      "Epoch 18/50\n",
      "362/362 [==============================] - 141s 391ms/step - loss: 4.3930 - acc: 0.7234 - val_loss: 11.6968 - val_acc: 0.2743\n",
      "Epoch 19/50\n",
      "362/362 [==============================] - 141s 389ms/step - loss: 4.6369 - acc: 0.7093 - val_loss: 11.4841 - val_acc: 0.2875\n",
      "Epoch 20/50\n",
      "362/362 [==============================] - 141s 390ms/step - loss: 4.7815 - acc: 0.6999 - val_loss: 11.5737 - val_acc: 0.2819\n",
      "Epoch 21/50\n",
      "362/362 [==============================] - 141s 391ms/step - loss: 4.6309 - acc: 0.7097 - val_loss: 11.3432 - val_acc: 0.2962\n",
      "Epoch 22/50\n",
      "362/362 [==============================] - 141s 390ms/step - loss: 4.5718 - acc: 0.7126 - val_loss: 11.2995 - val_acc: 0.2990\n",
      "Epoch 23/50\n",
      "362/362 [==============================] - 141s 389ms/step - loss: 4.3469 - acc: 0.7268 - val_loss: 11.6503 - val_acc: 0.2736\n",
      "Epoch 24/50\n",
      "362/362 [==============================] - 141s 390ms/step - loss: 4.2723 - acc: 0.7324 - val_loss: 11.2705 - val_acc: 0.2903\n",
      "Epoch 25/50\n",
      "362/362 [==============================] - 141s 390ms/step - loss: 4.5877 - acc: 0.7122 - val_loss: 11.1336 - val_acc: 0.3092\n",
      "Epoch 26/50\n",
      "362/362 [==============================] - 141s 390ms/step - loss: 4.2823 - acc: 0.7313 - val_loss: 11.8871 - val_acc: 0.2625\n",
      "Epoch 27/50\n",
      "362/362 [==============================] - 141s 389ms/step - loss: 4.2889 - acc: 0.7306 - val_loss: 11.6408 - val_acc: 0.2778\n",
      "Epoch 28/50\n",
      "362/362 [==============================] - 142s 391ms/step - loss: 4.2548 - acc: 0.7332 - val_loss: 11.0190 - val_acc: 0.3163\n",
      "Epoch 29/50\n",
      "362/362 [==============================] - 141s 389ms/step - loss: 4.3994 - acc: 0.7237 - val_loss: 11.4042 - val_acc: 0.2854\n",
      "Epoch 30/50\n",
      "362/362 [==============================] - 141s 391ms/step - loss: 4.2910 - acc: 0.7309 - val_loss: 14.4689 - val_acc: 0.1010\n",
      "Epoch 31/50\n",
      "362/362 [==============================] - 140s 388ms/step - loss: 4.1560 - acc: 0.7396 - val_loss: 14.4503 - val_acc: 0.1035\n",
      "Epoch 32/50\n",
      "362/362 [==============================] - 142s 392ms/step - loss: 4.2868 - acc: 0.7314 - val_loss: 11.4175 - val_acc: 0.2906\n",
      "Epoch 33/50\n",
      "362/362 [==============================] - 141s 391ms/step - loss: 4.0479 - acc: 0.7468 - val_loss: 11.4480 - val_acc: 0.2897\n",
      "Epoch 34/50\n",
      "362/362 [==============================] - 141s 391ms/step - loss: 4.1910 - acc: 0.7375 - val_loss: 11.5233 - val_acc: 0.2851\n",
      "Epoch 35/50\n",
      "362/362 [==============================] - 141s 389ms/step - loss: 4.1672 - acc: 0.7383 - val_loss: 11.8647 - val_acc: 0.2639\n",
      "Epoch 36/50\n",
      "362/362 [==============================] - 141s 391ms/step - loss: 4.0999 - acc: 0.7430 - val_loss: 14.1564 - val_acc: 0.0219\n",
      "Epoch 37/50\n",
      "362/362 [==============================] - 140s 387ms/step - loss: 4.0313 - acc: 0.7467 - val_loss: 11.4597 - val_acc: 0.2890\n",
      "Epoch 38/50\n",
      "362/362 [==============================] - 141s 389ms/step - loss: 3.9377 - acc: 0.7530 - val_loss: 11.5147 - val_acc: 0.2854\n",
      "Epoch 39/50\n",
      "362/362 [==============================] - 141s 390ms/step - loss: 4.1532 - acc: 0.7395 - val_loss: 11.4583 - val_acc: 0.2889\n",
      "Epoch 40/50\n",
      "362/362 [==============================] - 142s 391ms/step - loss: 3.9189 - acc: 0.7541 - val_loss: 11.5345 - val_acc: 0.2844\n",
      "Epoch 41/50\n",
      "362/362 [==============================] - 141s 388ms/step - loss: 4.0569 - acc: 0.7462 - val_loss: 12.9335 - val_acc: 0.0979\n",
      "Epoch 42/50\n",
      "362/362 [==============================] - 140s 387ms/step - loss: 4.1242 - acc: 0.7419 - val_loss: 11.9684 - val_acc: 0.2559\n",
      "Epoch 43/50\n",
      "362/362 [==============================] - 142s 391ms/step - loss: 4.0328 - acc: 0.7478 - val_loss: 14.2195 - val_acc: 0.1142\n",
      "Epoch 44/50\n",
      "362/362 [==============================] - 141s 389ms/step - loss: 3.9941 - acc: 0.7493 - val_loss: 11.9167 - val_acc: 0.1059\n",
      "Epoch 45/50\n",
      "362/362 [==============================] - 140s 386ms/step - loss: 3.9390 - acc: 0.7530 - val_loss: 10.4887 - val_acc: 0.2493\n",
      "Epoch 46/50\n",
      "362/362 [==============================] - 141s 391ms/step - loss: 3.8162 - acc: 0.7609 - val_loss: 11.2103 - val_acc: 0.2972\n",
      "Epoch 47/50\n",
      "362/362 [==============================] - 142s 393ms/step - loss: 3.8845 - acc: 0.7573 - val_loss: 11.1797 - val_acc: 0.3056\n",
      "Epoch 48/50\n",
      "362/362 [==============================] - 143s 394ms/step - loss: 4.0731 - acc: 0.7447 - val_loss: 15.5131 - val_acc: 0.0236\n",
      "Epoch 49/50\n",
      "362/362 [==============================] - 142s 391ms/step - loss: 4.0094 - acc: 0.7486 - val_loss: 15.7221 - val_acc: 0.0246\n",
      "Epoch 50/50\n",
      "362/362 [==============================] - 142s 393ms/step - loss: 4.0014 - acc: 0.7491 - val_loss: 15.8159 - val_acc: 0.0187\n"
     ]
    }
   ],
   "source": [
    "# do not rerun\n",
    "t_steps = 11614 // 32\n",
    "v_steps = 2884 // 32\n",
    "history = model.fit_generator(train_generator, \n",
    "                              epochs=50, \n",
    "                              workers = 4,\n",
    "                              use_multiprocessing=True,\n",
    "                              steps_per_epoch=t_steps, \n",
    "                              validation_data=validation_generator,\n",
    "                              validation_steps=v_steps,\n",
    "                             )"
   ]
  },
  {
   "cell_type": "code",
   "execution_count": 0,
   "metadata": {
    "colab": {},
    "colab_type": "code",
    "id": "KZZUYiyeRA4z"
   },
   "outputs": [],
   "source": [
    "# save history object\n",
    "import pickle\n",
    "\n",
    "with open('/content/drive/My Drive/Colab Notebooks/domat/history/resnet_imagenet.pickle', 'wb') as handle:\n",
    "    pickle.dump(history, handle, protocol=pickle.HIGHEST_PROTOCOL)"
   ]
  },
  {
   "cell_type": "code",
   "execution_count": 0,
   "metadata": {
    "colab": {},
    "colab_type": "code",
    "id": "cqDIuBMtRAv8"
   },
   "outputs": [],
   "source": [
    "# save trained model\n",
    "model.save('/content/drive/My Drive/Colab Notebooks/domat/models/resnet_imagenet.h5')"
   ]
  },
  {
   "cell_type": "code",
   "execution_count": 0,
   "metadata": {
    "colab": {},
    "colab_type": "code",
    "id": "n8QdBNz1c8IT"
   },
   "outputs": [],
   "source": [
    "import matplotlib.pyplot as plt"
   ]
  },
  {
   "cell_type": "code",
   "execution_count": 0,
   "metadata": {
    "colab": {
     "base_uri": "https://localhost:8080/",
     "height": 295
    },
    "colab_type": "code",
    "executionInfo": {
     "elapsed": 11174970,
     "status": "ok",
     "timestamp": 1560853789737,
     "user": {
      "displayName": "Zafir Zarya",
      "photoUrl": "https://lh4.googleusercontent.com/-ETKM_UfxYUM/AAAAAAAAAAI/AAAAAAAAGMA/PyI6bvEs4Rg/s64/photo.jpg",
      "userId": "06365792245261835796"
     },
     "user_tz": -120
    },
    "id": "-VxIemT1Rg0P",
    "outputId": "0e80749f-d58b-45f9-a8bf-c390af53e58e"
   },
   "outputs": [
    {
     "data": {
      "image/png": "[encoded data removed]",
      "text/plain": [
       "<Figure size 432x288 with 1 Axes>"
      ]
     },
     "metadata": {
      "tags": []
     },
     "output_type": "display_data"
    }
   ],
   "source": [
    "plt.plot(history.history['acc'])\n",
    "plt.plot(history.history['val_acc'])\n",
    "plt.title('model accuracy')\n",
    "plt.ylabel('accuracy')\n",
    "plt.xlabel('epoch')\n",
    "plt.legend(['train', 'test'], loc='upper left')\n",
    "plt.show()"
   ]
  },
  {
   "cell_type": "code",
   "execution_count": 0,
   "metadata": {
    "colab": {
     "base_uri": "https://localhost:8080/",
     "height": 295
    },
    "colab_type": "code",
    "executionInfo": {
     "elapsed": 11173973,
     "status": "ok",
     "timestamp": 1560853789742,
     "user": {
      "displayName": "Zafir Zarya",
      "photoUrl": "https://lh4.googleusercontent.com/-ETKM_UfxYUM/AAAAAAAAAAI/AAAAAAAAGMA/PyI6bvEs4Rg/s64/photo.jpg",
      "userId": "06365792245261835796"
     },
     "user_tz": -120
    },
    "id": "Q8pm2V8hRg3d",
    "outputId": "46383eb9-3469-4290-87ed-abed11756fbb"
   },
   "outputs": [
    {
     "data": {
      "image/png": "[encoded data removed]",
      "text/plain": [
       "<Figure size 432x288 with 1 Axes>"
      ]
     },
     "metadata": {
      "tags": []
     },
     "output_type": "display_data"
    }
   ],
   "source": [
    "plt.plot(history.history['loss'])\n",
    "plt.plot(history.history['val_loss'])\n",
    "plt.title('model loss')\n",
    "plt.ylabel('loss')\n",
    "plt.xlabel('epoch')\n",
    "plt.legend(['train', 'test'], loc='upper left')\n",
    "plt.show()"
   ]
  },
  {
   "cell_type": "markdown",
   "metadata": {
    "colab_type": "text",
    "id": "5_xx_fThPofA"
   },
   "source": [
    "### Pretrain-ImageNet (L2 regularization)"
   ]
  },
  {
   "cell_type": "code",
   "execution_count": 0,
   "metadata": {
    "colab": {
     "base_uri": "https://localhost:8080/",
     "height": 356
    },
    "colab_type": "code",
    "executionInfo": {
     "elapsed": 22573,
     "status": "ok",
     "timestamp": 1560855485730,
     "user": {
      "displayName": "Zafir Zarya",
      "photoUrl": "https://lh4.googleusercontent.com/-ETKM_UfxYUM/AAAAAAAAAAI/AAAAAAAAGMA/PyI6bvEs4Rg/s64/photo.jpg",
      "userId": "06365792245261835796"
     },
     "user_tz": -120
    },
    "id": "P3tcOGZyRo00",
    "outputId": "a9e9b64f-4b66-4528-cf9a-89f0749baedb"
   },
   "outputs": [
    {
     "name": "stderr",
     "output_type": "stream",
     "text": [
      "WARNING: Logging before flag parsing goes to stderr.\n",
      "W0618 10:57:43.382792 139867013502848 deprecation_wrapper.py:119] From /usr/local/lib/python3.6/dist-packages/keras/backend/tensorflow_backend.py:74: The name tf.get_default_graph is deprecated. Please use tf.compat.v1.get_default_graph instead.\n",
      "\n",
      "W0618 10:57:43.434095 139867013502848 deprecation_wrapper.py:119] From /usr/local/lib/python3.6/dist-packages/keras/backend/tensorflow_backend.py:517: The name tf.placeholder is deprecated. Please use tf.compat.v1.placeholder instead.\n",
      "\n",
      "W0618 10:57:43.445069 139867013502848 deprecation_wrapper.py:119] From /usr/local/lib/python3.6/dist-packages/keras/backend/tensorflow_backend.py:4185: The name tf.truncated_normal is deprecated. Please use tf.random.truncated_normal instead.\n",
      "\n",
      "W0618 10:57:43.491618 139867013502848 deprecation_wrapper.py:119] From /usr/local/lib/python3.6/dist-packages/keras/backend/tensorflow_backend.py:174: The name tf.get_default_session is deprecated. Please use tf.compat.v1.get_default_session instead.\n",
      "\n",
      "W0618 10:57:43.492614 139867013502848 deprecation_wrapper.py:119] From /usr/local/lib/python3.6/dist-packages/keras/backend/tensorflow_backend.py:181: The name tf.ConfigProto is deprecated. Please use tf.compat.v1.ConfigProto instead.\n",
      "\n",
      "W0618 10:57:46.754288 139867013502848 deprecation_wrapper.py:119] From /usr/local/lib/python3.6/dist-packages/keras/backend/tensorflow_backend.py:1834: The name tf.nn.fused_batch_norm is deprecated. Please use tf.compat.v1.nn.fused_batch_norm instead.\n",
      "\n",
      "W0618 10:57:46.841885 139867013502848 deprecation_wrapper.py:119] From /usr/local/lib/python3.6/dist-packages/keras/backend/tensorflow_backend.py:3976: The name tf.nn.max_pool is deprecated. Please use tf.nn.max_pool2d instead.\n",
      "\n",
      "/usr/local/lib/python3.6/dist-packages/keras_applications/resnet50.py:265: UserWarning: The output shape of `ResNet50(include_top=False)` has been changed since Keras 2.2.0.\n",
      "  warnings.warn('The output shape of `ResNet50(include_top=False)` '\n"
     ]
    },
    {
     "name": "stdout",
     "output_type": "stream",
     "text": [
      "Downloading data from https://github.com/fchollet/deep-learning-models/releases/download/v0.2/resnet50_weights_tf_dim_ordering_tf_kernels_notop.h5\n",
      "94658560/94653016 [==============================] - 8s 0us/step\n"
     ]
    }
   ],
   "source": [
    "base_model = ResNet50(include_top=False, weights='imagenet',\n",
    "                         input_shape=(224, 224, 3))\n",
    "for layer in base_model.layers:\n",
    "    layer.trainable = False\n",
    "# base_model.summary()"
   ]
  },
  {
   "cell_type": "code",
   "execution_count": 0,
   "metadata": {
    "colab": {},
    "colab_type": "code",
    "id": "qs5TgbXoSLyV"
   },
   "outputs": [],
   "source": [
    "from keras.regularizers import l2"
   ]
  },
  {
   "cell_type": "code",
   "execution_count": 0,
   "metadata": {
    "colab": {},
    "colab_type": "code",
    "id": "C174ntWoRrL1"
   },
   "outputs": [],
   "source": [
    "x = base_model.output\n",
    "x = Flatten(name='flatten', input_shape=base_model.output_shape)(x) \n",
    "x = Dense(10, kernel_regularizer=l2(0.01), activation='softmax', name='predictions')(x)\n",
    "model = Model(inputs=base_model.input, outputs=x)\n",
    "# model.summary()"
   ]
  },
  {
   "cell_type": "code",
   "execution_count": 0,
   "metadata": {
    "colab": {
     "base_uri": "https://localhost:8080/",
     "height": 70
    },
    "colab_type": "code",
    "executionInfo": {
     "elapsed": 1216,
     "status": "ok",
     "timestamp": 1560855520094,
     "user": {
      "displayName": "Zafir Zarya",
      "photoUrl": "https://lh4.googleusercontent.com/-ETKM_UfxYUM/AAAAAAAAAAI/AAAAAAAAGMA/PyI6bvEs4Rg/s64/photo.jpg",
      "userId": "06365792245261835796"
     },
     "user_tz": -120
    },
    "id": "DVUt64ZuRrx5",
    "outputId": "3e5ec309-47b8-486e-ea68-775dc3308ad9"
   },
   "outputs": [
    {
     "name": "stderr",
     "output_type": "stream",
     "text": [
      "W0618 10:58:39.155682 139867013502848 deprecation_wrapper.py:119] From /usr/local/lib/python3.6/dist-packages/keras/optimizers.py:790: The name tf.train.Optimizer is deprecated. Please use tf.compat.v1.train.Optimizer instead.\n",
      "\n"
     ]
    }
   ],
   "source": [
    "model.compile(optimizer='adam', \n",
    "              loss='categorical_crossentropy',\n",
    "              metrics=['accuracy'])"
   ]
  },
  {
   "cell_type": "code",
   "execution_count": 0,
   "metadata": {
    "colab": {},
    "colab_type": "code",
    "id": "wbcD4g3bRrz8"
   },
   "outputs": [],
   "source": [
    "train_datagen = ImageDataGenerator(\n",
    "    rescale=1./255,\n",
    "    rotation_range=40,\n",
    "    width_shift_range=0.2,\n",
    "    height_shift_range=0.2,\n",
    "    shear_range=0.2,\n",
    "    zoom_range=0.2,\n",
    "    fill_mode='nearest',\n",
    ")\n",
    "validation_datagen = ImageDataGenerator(\n",
    "    rescale=1./255,\n",
    ")"
   ]
  },
  {
   "cell_type": "code",
   "execution_count": 0,
   "metadata": {
    "colab": {
     "base_uri": "https://localhost:8080/",
     "height": 50
    },
    "colab_type": "code",
    "executionInfo": {
     "elapsed": 44111,
     "status": "ok",
     "timestamp": 1560855572799,
     "user": {
      "displayName": "Zafir Zarya",
      "photoUrl": "https://lh4.googleusercontent.com/-ETKM_UfxYUM/AAAAAAAAAAI/AAAAAAAAGMA/PyI6bvEs4Rg/s64/photo.jpg",
      "userId": "06365792245261835796"
     },
     "user_tz": -120
    },
    "id": "OgP2IAClRr2R",
    "outputId": "734aa16b-2077-4cef-cb78-94c9c337b8ea"
   },
   "outputs": [
    {
     "name": "stdout",
     "output_type": "stream",
     "text": [
      "Found 11614 images belonging to 10 classes.\n",
      "Found 2884 images belonging to 10 classes.\n"
     ]
    }
   ],
   "source": [
    "train_generator = train_datagen.flow_from_directory(\n",
    "        '/content/drive/My Drive/Colab Notebooks/domat/solo-dataset/train/', \n",
    "        target_size=(224, 224),\n",
    "        batch_size=32,\n",
    "        class_mode='categorical',\n",
    ")\n",
    "validation_generator = validation_datagen.flow_from_directory(\n",
    "        '/content/drive/My Drive/Colab Notebooks/domat/solo-dataset/validation/',\n",
    "        target_size=(224, 224),\n",
    "        batch_size=32,\n",
    "        class_mode='categorical',\n",
    ")"
   ]
  },
  {
   "cell_type": "code",
   "execution_count": 0,
   "metadata": {
    "colab": {
     "base_uri": "https://localhost:8080/",
     "height": 34
    },
    "colab_type": "code",
    "executionInfo": {
     "elapsed": 1836,
     "status": "ok",
     "timestamp": 1560855576020,
     "user": {
      "displayName": "Zafir Zarya",
      "photoUrl": "https://lh4.googleusercontent.com/-ETKM_UfxYUM/AAAAAAAAAAI/AAAAAAAAGMA/PyI6bvEs4Rg/s64/photo.jpg",
      "userId": "06365792245261835796"
     },
     "user_tz": -120
    },
    "id": "A4PRUh_ERsAL",
    "outputId": "b0d36d36-c0f7-4bd0-ef9f-7bf4fd0c58e6"
   },
   "outputs": [
    {
     "name": "stdout",
     "output_type": "stream",
     "text": [
      "Found GPU at: /device:GPU:0\n"
     ]
    }
   ],
   "source": [
    "import tensorflow as tf\n",
    "device_name = tf.test.gpu_device_name()\n",
    "if device_name != '/device:GPU:0':\n",
    "    raise SystemError('GPU device not found')\n",
    "print('Found GPU at: {}'.format(device_name))"
   ]
  },
  {
   "cell_type": "code",
   "execution_count": 0,
   "metadata": {
    "colab": {
     "base_uri": "https://localhost:8080/",
     "height": 1801
    },
    "colab_type": "code",
    "executionInfo": {
     "elapsed": 13819858,
     "status": "ok",
     "timestamp": 1560869397957,
     "user": {
      "displayName": "Zafir Zarya",
      "photoUrl": "https://lh4.googleusercontent.com/-ETKM_UfxYUM/AAAAAAAAAAI/AAAAAAAAGMA/PyI6bvEs4Rg/s64/photo.jpg",
      "userId": "06365792245261835796"
     },
     "user_tz": -120
    },
    "id": "q6UyPZ_PRsET",
    "outputId": "bf4b6317-fa30-41a6-c4d5-f2561b9a15a6"
   },
   "outputs": [
    {
     "name": "stderr",
     "output_type": "stream",
     "text": [
      "W0618 10:59:38.448576 139867013502848 deprecation.py:323] From /usr/local/lib/python3.6/dist-packages/tensorflow/python/ops/math_grad.py:1250: add_dispatch_support.<locals>.wrapper (from tensorflow.python.ops.array_ops) is deprecated and will be removed in a future version.\n",
      "Instructions for updating:\n",
      "Use tf.where in 2.0, which has the same broadcast rule as np.where\n"
     ]
    },
    {
     "name": "stdout",
     "output_type": "stream",
     "text": [
      "Epoch 1/50\n"
     ]
    },
    {
     "name": "stderr",
     "output_type": "stream",
     "text": [
      "/usr/local/lib/python3.6/dist-packages/keras/engine/training_generator.py:47: UserWarning: Using a generator with `use_multiprocessing=True` and multiple workers may duplicate your data. Please consider using the`keras.utils.Sequence class.\n",
      "  UserWarning('Using a generator with `use_multiprocessing=True`'\n"
     ]
    },
    {
     "name": "stdout",
     "output_type": "stream",
     "text": [
      "362/362 [==============================] - 1841s 5s/step - loss: 12.2247 - acc: 0.2610 - val_loss: 15.0905 - val_acc: 0.0806\n",
      "Epoch 2/50\n",
      "362/362 [==============================] - 1713s 5s/step - loss: 12.4824 - acc: 0.2538 - val_loss: 14.8424 - val_acc: 0.1076\n",
      "Epoch 3/50\n",
      "362/362 [==============================] - 1733s 5s/step - loss: 10.8182 - acc: 0.3696 - val_loss: 13.0904 - val_acc: 0.2583\n",
      "Epoch 4/50\n",
      "362/362 [==============================] - 1710s 5s/step - loss: 8.6964 - acc: 0.5283 - val_loss: 13.1255 - val_acc: 0.2889\n",
      "Epoch 5/50\n",
      "362/362 [==============================] - 156s 432ms/step - loss: 8.6680 - acc: 0.5371 - val_loss: 13.0980 - val_acc: 0.2688\n",
      "Epoch 6/50\n",
      "362/362 [==============================] - 152s 419ms/step - loss: 8.4012 - acc: 0.5523 - val_loss: 12.2947 - val_acc: 0.3028\n",
      "Epoch 7/50\n",
      "362/362 [==============================] - 154s 426ms/step - loss: 8.4229 - acc: 0.5413 - val_loss: 12.4139 - val_acc: 0.3028\n",
      "Epoch 8/50\n",
      "362/362 [==============================] - 151s 418ms/step - loss: 8.6160 - acc: 0.5353 - val_loss: 12.8090 - val_acc: 0.2792\n",
      "Epoch 9/50\n",
      "362/362 [==============================] - 150s 413ms/step - loss: 8.5334 - acc: 0.5373 - val_loss: 12.7562 - val_acc: 0.2796\n",
      "Epoch 10/50\n",
      "362/362 [==============================] - 150s 413ms/step - loss: 8.3958 - acc: 0.5477 - val_loss: 13.5109 - val_acc: 0.2785\n",
      "Epoch 11/50\n",
      "362/362 [==============================] - 150s 414ms/step - loss: 8.4646 - acc: 0.5675 - val_loss: 12.6202 - val_acc: 0.3243\n",
      "Epoch 12/50\n",
      "362/362 [==============================] - 150s 415ms/step - loss: 8.4181 - acc: 0.5994 - val_loss: 13.9034 - val_acc: 0.2771\n",
      "Epoch 13/50\n",
      "362/362 [==============================] - 148s 408ms/step - loss: 8.1750 - acc: 0.6326 - val_loss: 12.8999 - val_acc: 0.2890\n",
      "Epoch 14/50\n",
      "362/362 [==============================] - 147s 407ms/step - loss: 7.7227 - acc: 0.6405 - val_loss: 13.6654 - val_acc: 0.2667\n",
      "Epoch 15/50\n",
      "362/362 [==============================] - 150s 413ms/step - loss: 7.8251 - acc: 0.6254 - val_loss: 12.1463 - val_acc: 0.3076\n",
      "Epoch 16/50\n",
      "362/362 [==============================] - 148s 408ms/step - loss: 7.4992 - acc: 0.6494 - val_loss: 14.1704 - val_acc: 0.0951\n",
      "Epoch 17/50\n",
      "362/362 [==============================] - 147s 405ms/step - loss: 7.5371 - acc: 0.6515 - val_loss: 12.1245 - val_acc: 0.1286\n",
      "Epoch 18/50\n",
      "362/362 [==============================] - 150s 414ms/step - loss: 7.4982 - acc: 0.6433 - val_loss: 10.8106 - val_acc: 0.1271\n",
      "Epoch 19/50\n",
      "362/362 [==============================] - 148s 408ms/step - loss: 7.4499 - acc: 0.6474 - val_loss: 11.1265 - val_acc: 0.3215\n",
      "Epoch 20/50\n",
      "362/362 [==============================] - 146s 404ms/step - loss: 7.3808 - acc: 0.6503 - val_loss: 13.1578 - val_acc: 0.2944\n",
      "Epoch 21/50\n",
      "362/362 [==============================] - 147s 407ms/step - loss: 7.4644 - acc: 0.6463 - val_loss: 10.9342 - val_acc: 0.3064\n",
      "Epoch 22/50\n",
      "362/362 [==============================] - 146s 405ms/step - loss: 7.1995 - acc: 0.6544 - val_loss: 13.3571 - val_acc: 0.2806\n",
      "Epoch 23/50\n",
      "362/362 [==============================] - 146s 404ms/step - loss: 7.4552 - acc: 0.6465 - val_loss: 11.7829 - val_acc: 0.3125\n",
      "Epoch 24/50\n",
      "362/362 [==============================] - 146s 404ms/step - loss: 7.2355 - acc: 0.6571 - val_loss: 12.4569 - val_acc: 0.2681\n",
      "Epoch 25/50\n",
      "362/362 [==============================] - 145s 402ms/step - loss: 7.6778 - acc: 0.6452 - val_loss: 14.1589 - val_acc: 0.2702\n",
      "Epoch 26/50\n",
      "362/362 [==============================] - 146s 405ms/step - loss: 7.3821 - acc: 0.6576 - val_loss: 12.9157 - val_acc: 0.3052\n",
      "Epoch 27/50\n",
      "362/362 [==============================] - 146s 403ms/step - loss: 7.4417 - acc: 0.6444 - val_loss: 13.7299 - val_acc: 0.2656\n",
      "Epoch 28/50\n",
      "362/362 [==============================] - 146s 403ms/step - loss: 7.4542 - acc: 0.6432 - val_loss: 13.5105 - val_acc: 0.3083\n",
      "Epoch 29/50\n",
      "362/362 [==============================] - 145s 401ms/step - loss: 7.4567 - acc: 0.6500 - val_loss: 13.3185 - val_acc: 0.2775\n",
      "Epoch 30/50\n",
      "362/362 [==============================] - 148s 410ms/step - loss: 7.4571 - acc: 0.6455 - val_loss: 13.4121 - val_acc: 0.2816\n",
      "Epoch 31/50\n",
      "362/362 [==============================] - 150s 414ms/step - loss: 7.5400 - acc: 0.6405 - val_loss: 13.2714 - val_acc: 0.2858\n",
      "Epoch 32/50\n",
      "362/362 [==============================] - 148s 409ms/step - loss: 7.4050 - acc: 0.6474 - val_loss: 14.6968 - val_acc: 0.0788\n",
      "Epoch 33/50\n",
      "362/362 [==============================] - 150s 414ms/step - loss: 7.4649 - acc: 0.6518 - val_loss: 12.9889 - val_acc: 0.1022\n",
      "Epoch 34/50\n",
      "362/362 [==============================] - 149s 412ms/step - loss: 7.3058 - acc: 0.6649 - val_loss: 13.1899 - val_acc: 0.2941\n",
      "Epoch 35/50\n",
      "362/362 [==============================] - 148s 407ms/step - loss: 7.4635 - acc: 0.6570 - val_loss: 13.9943 - val_acc: 0.2771\n",
      "Epoch 36/50\n",
      "362/362 [==============================] - 147s 405ms/step - loss: 7.6819 - acc: 0.6480 - val_loss: 12.9292 - val_acc: 0.2844\n",
      "Epoch 37/50\n",
      "362/362 [==============================] - 146s 402ms/step - loss: 7.3141 - acc: 0.6806 - val_loss: 12.0829 - val_acc: 0.3161\n",
      "Epoch 38/50\n",
      "362/362 [==============================] - 147s 406ms/step - loss: 7.5899 - acc: 0.6734 - val_loss: 11.8433 - val_acc: 0.2958\n",
      "Epoch 39/50\n",
      "362/362 [==============================] - 147s 405ms/step - loss: 7.3189 - acc: 0.6838 - val_loss: 13.5624 - val_acc: 0.2917\n",
      "Epoch 40/50\n",
      "362/362 [==============================] - 147s 406ms/step - loss: 7.3794 - acc: 0.6725 - val_loss: 12.2961 - val_acc: 0.1163\n",
      "Epoch 41/50\n",
      "362/362 [==============================] - 146s 402ms/step - loss: 7.3349 - acc: 0.6893 - val_loss: 17.4849 - val_acc: 0.0625\n",
      "Epoch 42/50\n",
      "362/362 [==============================] - 147s 406ms/step - loss: 7.1720 - acc: 0.6901 - val_loss: 17.1989 - val_acc: 0.0514\n",
      "Epoch 43/50\n",
      "362/362 [==============================] - 146s 404ms/step - loss: 7.3978 - acc: 0.6768 - val_loss: 13.2857 - val_acc: 0.3083\n",
      "Epoch 44/50\n",
      "362/362 [==============================] - 146s 405ms/step - loss: 7.8362 - acc: 0.6476 - val_loss: 12.7353 - val_acc: 0.2764\n",
      "Epoch 45/50\n",
      "362/362 [==============================] - 150s 413ms/step - loss: 7.4081 - acc: 0.6905 - val_loss: 13.9187 - val_acc: 0.2923\n",
      "Epoch 46/50\n",
      "362/362 [==============================] - 150s 415ms/step - loss: 6.7131 - acc: 0.7511 - val_loss: 14.4366 - val_acc: 0.2705\n",
      "Epoch 47/50\n",
      "362/362 [==============================] - 148s 410ms/step - loss: 6.4295 - acc: 0.7608 - val_loss: 13.1798 - val_acc: 0.0514\n",
      "Epoch 48/50\n",
      "362/362 [==============================] - 152s 420ms/step - loss: 6.4284 - acc: 0.7511 - val_loss: 14.2641 - val_acc: 0.0465\n",
      "Epoch 49/50\n",
      "362/362 [==============================] - 147s 406ms/step - loss: 6.1862 - acc: 0.7691 - val_loss: 15.3368 - val_acc: 0.1145\n",
      "Epoch 50/50\n",
      "362/362 [==============================] - 151s 417ms/step - loss: 6.5216 - acc: 0.7465 - val_loss: 14.0512 - val_acc: 0.2878\n"
     ]
    }
   ],
   "source": [
    "# do not rerun\n",
    "t_steps = 11614 // 32\n",
    "v_steps = 2884 // 32\n",
    "history = model.fit_generator(train_generator, \n",
    "                              epochs=50, \n",
    "                              workers = 4,\n",
    "                              use_multiprocessing=True,\n",
    "                              steps_per_epoch=t_steps, \n",
    "                              validation_data=validation_generator,\n",
    "                              validation_steps=v_steps,\n",
    "                             )"
   ]
  },
  {
   "cell_type": "code",
   "execution_count": 0,
   "metadata": {
    "colab": {},
    "colab_type": "code",
    "id": "t_bYoF8oRsKj"
   },
   "outputs": [],
   "source": [
    "# save history object\n",
    "import pickle\n",
    "\n",
    "with open('/content/drive/My Drive/Colab Notebooks/domat/history/resnet_imagenet_l2.pickle', 'wb') as handle:\n",
    "    pickle.dump(history, handle, protocol=pickle.HIGHEST_PROTOCOL)"
   ]
  },
  {
   "cell_type": "code",
   "execution_count": 0,
   "metadata": {
    "colab": {},
    "colab_type": "code",
    "id": "6dOkoRuDRsP1"
   },
   "outputs": [],
   "source": [
    "# save trained model\n",
    "model.save('/content/drive/My Drive/Colab Notebooks/domat/models/resnet_imagenet_l2.h5')"
   ]
  },
  {
   "cell_type": "code",
   "execution_count": 0,
   "metadata": {
    "colab": {},
    "colab_type": "code",
    "id": "t0uPOAUPc9U9"
   },
   "outputs": [],
   "source": [
    "import matplotlib.pyplot as plt"
   ]
  },
  {
   "cell_type": "code",
   "execution_count": 0,
   "metadata": {
    "colab": {
     "base_uri": "https://localhost:8080/",
     "height": 295
    },
    "colab_type": "code",
    "executionInfo": {
     "elapsed": 13808015,
     "status": "ok",
     "timestamp": 1560869406936,
     "user": {
      "displayName": "Zafir Zarya",
      "photoUrl": "https://lh4.googleusercontent.com/-ETKM_UfxYUM/AAAAAAAAAAI/AAAAAAAAGMA/PyI6bvEs4Rg/s64/photo.jpg",
      "userId": "06365792245261835796"
     },
     "user_tz": -120
    },
    "id": "k6g5vDQdRr-f",
    "outputId": "8b9cd2ea-a24e-4df8-ae8d-f34bcdb935b8"
   },
   "outputs": [
    {
     "data": {
      "image/png": "[encoded data removed]",
      "text/plain": [
       "<Figure size 432x288 with 1 Axes>"
      ]
     },
     "metadata": {
      "tags": []
     },
     "output_type": "display_data"
    }
   ],
   "source": [
    "plt.plot(history.history['acc'])\n",
    "plt.plot(history.history['val_acc'])\n",
    "plt.title('model accuracy')\n",
    "plt.ylabel('accuracy')\n",
    "plt.xlabel('epoch')\n",
    "plt.legend(['train', 'test'], loc='upper left')\n",
    "plt.show()"
   ]
  },
  {
   "cell_type": "code",
   "execution_count": 0,
   "metadata": {
    "colab": {
     "base_uri": "https://localhost:8080/",
     "height": 295
    },
    "colab_type": "code",
    "executionInfo": {
     "elapsed": 13800224,
     "status": "ok",
     "timestamp": 1560869406940,
     "user": {
      "displayName": "Zafir Zarya",
      "photoUrl": "https://lh4.googleusercontent.com/-ETKM_UfxYUM/AAAAAAAAAAI/AAAAAAAAGMA/PyI6bvEs4Rg/s64/photo.jpg",
      "userId": "06365792245261835796"
     },
     "user_tz": -120
    },
    "id": "adHOLNRnRr8n",
    "outputId": "f60d62ed-43f1-44ca-db3e-e4c908e6b03f"
   },
   "outputs": [
    {
     "data": {
      "image/png": "[encoded data removed]",
      "text/plain": [
       "<Figure size 432x288 with 1 Axes>"
      ]
     },
     "metadata": {
      "tags": []
     },
     "output_type": "display_data"
    }
   ],
   "source": [
    "plt.plot(history.history['loss'])\n",
    "plt.plot(history.history['val_loss'])\n",
    "plt.title('model loss')\n",
    "plt.ylabel('loss')\n",
    "plt.xlabel('epoch')\n",
    "plt.legend(['train', 'test'], loc='upper left')\n",
    "plt.show()"
   ]
  },
  {
   "cell_type": "markdown",
   "metadata": {
    "colab_type": "text",
    "id": "POiz35G9PtRB"
   },
   "source": [
    "### Pretrain-ImageNet (Dropout)"
   ]
  },
  {
   "cell_type": "code",
   "execution_count": 0,
   "metadata": {
    "colab": {
     "base_uri": "https://localhost:8080/",
     "height": 356
    },
    "colab_type": "code",
    "executionInfo": {
     "elapsed": 22173,
     "status": "ok",
     "timestamp": 1560891458592,
     "user": {
      "displayName": "Zafir Zarya",
      "photoUrl": "https://lh4.googleusercontent.com/-ETKM_UfxYUM/AAAAAAAAAAI/AAAAAAAAGMA/PyI6bvEs4Rg/s64/photo.jpg",
      "userId": "06365792245261835796"
     },
     "user_tz": -120
    },
    "id": "DXBela2WSpFs",
    "outputId": "7b5983eb-f602-41ab-b0b8-27e6df8f146f"
   },
   "outputs": [
    {
     "name": "stderr",
     "output_type": "stream",
     "text": [
      "WARNING: Logging before flag parsing goes to stderr.\n",
      "W0618 20:57:17.292350 140413427971968 deprecation_wrapper.py:119] From /usr/local/lib/python3.6/dist-packages/keras/backend/tensorflow_backend.py:74: The name tf.get_default_graph is deprecated. Please use tf.compat.v1.get_default_graph instead.\n",
      "\n",
      "W0618 20:57:17.341349 140413427971968 deprecation_wrapper.py:119] From /usr/local/lib/python3.6/dist-packages/keras/backend/tensorflow_backend.py:517: The name tf.placeholder is deprecated. Please use tf.compat.v1.placeholder instead.\n",
      "\n",
      "W0618 20:57:17.351031 140413427971968 deprecation_wrapper.py:119] From /usr/local/lib/python3.6/dist-packages/keras/backend/tensorflow_backend.py:4185: The name tf.truncated_normal is deprecated. Please use tf.random.truncated_normal instead.\n",
      "\n",
      "W0618 20:57:17.386530 140413427971968 deprecation_wrapper.py:119] From /usr/local/lib/python3.6/dist-packages/keras/backend/tensorflow_backend.py:174: The name tf.get_default_session is deprecated. Please use tf.compat.v1.get_default_session instead.\n",
      "\n",
      "W0618 20:57:17.388871 140413427971968 deprecation_wrapper.py:119] From /usr/local/lib/python3.6/dist-packages/keras/backend/tensorflow_backend.py:181: The name tf.ConfigProto is deprecated. Please use tf.compat.v1.ConfigProto instead.\n",
      "\n",
      "W0618 20:57:20.655833 140413427971968 deprecation_wrapper.py:119] From /usr/local/lib/python3.6/dist-packages/keras/backend/tensorflow_backend.py:1834: The name tf.nn.fused_batch_norm is deprecated. Please use tf.compat.v1.nn.fused_batch_norm instead.\n",
      "\n",
      "W0618 20:57:20.726017 140413427971968 deprecation_wrapper.py:119] From /usr/local/lib/python3.6/dist-packages/keras/backend/tensorflow_backend.py:3976: The name tf.nn.max_pool is deprecated. Please use tf.nn.max_pool2d instead.\n",
      "\n",
      "/usr/local/lib/python3.6/dist-packages/keras_applications/resnet50.py:265: UserWarning: The output shape of `ResNet50(include_top=False)` has been changed since Keras 2.2.0.\n",
      "  warnings.warn('The output shape of `ResNet50(include_top=False)` '\n"
     ]
    },
    {
     "name": "stdout",
     "output_type": "stream",
     "text": [
      "Downloading data from https://github.com/fchollet/deep-learning-models/releases/download/v0.2/resnet50_weights_tf_dim_ordering_tf_kernels_notop.h5\n",
      "94658560/94653016 [==============================] - 8s 0us/step\n"
     ]
    }
   ],
   "source": [
    "base_model = ResNet50(include_top=False, weights='imagenet',\n",
    "                         input_shape=(224, 224, 3))\n",
    "for layer in base_model.layers:\n",
    "    layer.trainable = False\n",
    "# base_model.summary()"
   ]
  },
  {
   "cell_type": "code",
   "execution_count": 0,
   "metadata": {
    "colab": {
     "base_uri": "https://localhost:8080/",
     "height": 87
    },
    "colab_type": "code",
    "executionInfo": {
     "elapsed": 1661,
     "status": "ok",
     "timestamp": 1560891476521,
     "user": {
      "displayName": "Zafir Zarya",
      "photoUrl": "https://lh4.googleusercontent.com/-ETKM_UfxYUM/AAAAAAAAAAI/AAAAAAAAGMA/PyI6bvEs4Rg/s64/photo.jpg",
      "userId": "06365792245261835796"
     },
     "user_tz": -120
    },
    "id": "wYk2JVUASpqH",
    "outputId": "ff895be9-fe32-482a-fd84-19a28ed60671"
   },
   "outputs": [
    {
     "name": "stderr",
     "output_type": "stream",
     "text": [
      "W0618 20:57:55.752761 140413427971968 deprecation.py:506] From /usr/local/lib/python3.6/dist-packages/keras/backend/tensorflow_backend.py:3445: calling dropout (from tensorflow.python.ops.nn_ops) with keep_prob is deprecated and will be removed in a future version.\n",
      "Instructions for updating:\n",
      "Please use `rate` instead of `keep_prob`. Rate should be set to `rate = 1 - keep_prob`.\n"
     ]
    }
   ],
   "source": [
    "x = base_model.output\n",
    "x = Flatten(name='flatten', input_shape=base_model.output_shape)(x) \n",
    "x = Dropout(0.5)(x)\n",
    "x = Dense(10, activation='softmax', name='predictions')(x)\n",
    "model = Model(inputs=base_model.input, outputs=x)\n",
    "# model.summary() # 1M trainable params..."
   ]
  },
  {
   "cell_type": "code",
   "execution_count": 0,
   "metadata": {
    "colab": {
     "base_uri": "https://localhost:8080/",
     "height": 70
    },
    "colab_type": "code",
    "executionInfo": {
     "elapsed": 1386,
     "status": "ok",
     "timestamp": 1560891480928,
     "user": {
      "displayName": "Zafir Zarya",
      "photoUrl": "https://lh4.googleusercontent.com/-ETKM_UfxYUM/AAAAAAAAAAI/AAAAAAAAGMA/PyI6bvEs4Rg/s64/photo.jpg",
      "userId": "06365792245261835796"
     },
     "user_tz": -120
    },
    "id": "9-XNqWXdSp00",
    "outputId": "9c236634-60d7-4ef2-9863-52a2c16dfa69"
   },
   "outputs": [
    {
     "name": "stderr",
     "output_type": "stream",
     "text": [
      "W0618 20:58:00.424947 140413427971968 deprecation_wrapper.py:119] From /usr/local/lib/python3.6/dist-packages/keras/optimizers.py:790: The name tf.train.Optimizer is deprecated. Please use tf.compat.v1.train.Optimizer instead.\n",
      "\n"
     ]
    }
   ],
   "source": [
    "model.compile(optimizer='adam', \n",
    "              loss='categorical_crossentropy',\n",
    "              metrics=['accuracy'])"
   ]
  },
  {
   "cell_type": "code",
   "execution_count": 0,
   "metadata": {
    "colab": {},
    "colab_type": "code",
    "id": "PTKm3GfYSp-I"
   },
   "outputs": [],
   "source": [
    "train_datagen = ImageDataGenerator(\n",
    "    rescale=1./255,\n",
    "    rotation_range=40,\n",
    "    width_shift_range=0.2,\n",
    "    height_shift_range=0.2,\n",
    "    shear_range=0.2,\n",
    "    zoom_range=0.2,\n",
    "    fill_mode='nearest',\n",
    ")\n",
    "validation_datagen = ImageDataGenerator(\n",
    "    rescale=1./255,\n",
    ")"
   ]
  },
  {
   "cell_type": "code",
   "execution_count": 0,
   "metadata": {
    "colab": {
     "base_uri": "https://localhost:8080/",
     "height": 50
    },
    "colab_type": "code",
    "executionInfo": {
     "elapsed": 1099,
     "status": "ok",
     "timestamp": 1560891751406,
     "user": {
      "displayName": "Zafir Zarya",
      "photoUrl": "https://lh4.googleusercontent.com/-ETKM_UfxYUM/AAAAAAAAAAI/AAAAAAAAGMA/PyI6bvEs4Rg/s64/photo.jpg",
      "userId": "06365792245261835796"
     },
     "user_tz": -120
    },
    "id": "FXBsUvHESqGo",
    "outputId": "55466c6a-88ba-479a-a176-72b82e8f46c0"
   },
   "outputs": [
    {
     "name": "stdout",
     "output_type": "stream",
     "text": [
      "Found 11614 images belonging to 10 classes.\n",
      "Found 2884 images belonging to 10 classes.\n"
     ]
    }
   ],
   "source": [
    "train_generator = train_datagen.flow_from_directory(\n",
    "        '/content/drive/My Drive/Colab Notebooks/domat/solo-dataset/train/', \n",
    "        target_size=(224, 224),\n",
    "        batch_size=32,\n",
    "        class_mode='categorical',\n",
    ")\n",
    "validation_generator = validation_datagen.flow_from_directory(\n",
    "        '/content/drive/My Drive/Colab Notebooks/domat/solo-dataset/validation/',\n",
    "        target_size=(224, 224),\n",
    "        batch_size=32,\n",
    "        class_mode='categorical',\n",
    ")"
   ]
  },
  {
   "cell_type": "code",
   "execution_count": 0,
   "metadata": {
    "colab": {
     "base_uri": "https://localhost:8080/",
     "height": 34
    },
    "colab_type": "code",
    "executionInfo": {
     "elapsed": 1224,
     "status": "ok",
     "timestamp": 1560891754221,
     "user": {
      "displayName": "Zafir Zarya",
      "photoUrl": "https://lh4.googleusercontent.com/-ETKM_UfxYUM/AAAAAAAAAAI/AAAAAAAAGMA/PyI6bvEs4Rg/s64/photo.jpg",
      "userId": "06365792245261835796"
     },
     "user_tz": -120
    },
    "id": "vjYtSmfESqO7",
    "outputId": "3a384169-b974-4e19-cd70-0869db814199"
   },
   "outputs": [
    {
     "name": "stdout",
     "output_type": "stream",
     "text": [
      "Found GPU at: /device:GPU:0\n"
     ]
    }
   ],
   "source": [
    "import tensorflow as tf\n",
    "device_name = tf.test.gpu_device_name()\n",
    "if device_name != '/device:GPU:0':\n",
    "    raise SystemError('GPU device not found')\n",
    "print('Found GPU at: {}'.format(device_name))"
   ]
  },
  {
   "cell_type": "code",
   "execution_count": 0,
   "metadata": {
    "colab": {
     "base_uri": "https://localhost:8080/",
     "height": 1801
    },
    "colab_type": "code",
    "executionInfo": {
     "elapsed": 13294439,
     "status": "ok",
     "timestamp": 1560905049768,
     "user": {
      "displayName": "Zafir Zarya",
      "photoUrl": "https://lh4.googleusercontent.com/-ETKM_UfxYUM/AAAAAAAAAAI/AAAAAAAAGMA/PyI6bvEs4Rg/s64/photo.jpg",
      "userId": "06365792245261835796"
     },
     "user_tz": -120
    },
    "id": "rPeKLYezSqW_",
    "outputId": "213d3312-bb04-4e75-8d5c-4924bd136ac2"
   },
   "outputs": [
    {
     "name": "stderr",
     "output_type": "stream",
     "text": [
      "W0618 21:02:36.694247 140413427971968 deprecation.py:323] From /usr/local/lib/python3.6/dist-packages/tensorflow/python/ops/math_grad.py:1250: add_dispatch_support.<locals>.wrapper (from tensorflow.python.ops.array_ops) is deprecated and will be removed in a future version.\n",
      "Instructions for updating:\n",
      "Use tf.where in 2.0, which has the same broadcast rule as np.where\n"
     ]
    },
    {
     "name": "stdout",
     "output_type": "stream",
     "text": [
      "Epoch 1/50\n"
     ]
    },
    {
     "name": "stderr",
     "output_type": "stream",
     "text": [
      "/usr/local/lib/python3.6/dist-packages/keras/engine/training_generator.py:47: UserWarning: Using a generator with `use_multiprocessing=True` and multiple workers may duplicate your data. Please consider using the`keras.utils.Sequence class.\n",
      "  UserWarning('Using a generator with `use_multiprocessing=True`'\n"
     ]
    },
    {
     "name": "stdout",
     "output_type": "stream",
     "text": [
      "362/362 [==============================] - 1739s 5s/step - loss: 6.9200 - acc: 0.5518 - val_loss: 12.3267 - val_acc: 0.0938\n",
      "Epoch 2/50\n",
      "362/362 [==============================] - 1652s 5s/step - loss: 6.7331 - acc: 0.5735 - val_loss: 10.9620 - val_acc: 0.3076\n",
      "Epoch 3/50\n",
      "362/362 [==============================] - 1672s 5s/step - loss: 6.1559 - acc: 0.6092 - val_loss: 14.6350 - val_acc: 0.0729\n",
      "Epoch 4/50\n",
      "362/362 [==============================] - 1679s 5s/step - loss: 5.4194 - acc: 0.6558 - val_loss: 14.5616 - val_acc: 0.0965\n",
      "Epoch 5/50\n",
      "362/362 [==============================] - 145s 401ms/step - loss: 5.1164 - acc: 0.6751 - val_loss: 14.7089 - val_acc: 0.0874\n",
      "Epoch 6/50\n",
      "362/362 [==============================] - 144s 399ms/step - loss: 5.1170 - acc: 0.6763 - val_loss: 14.2488 - val_acc: 0.1160\n",
      "Epoch 7/50\n",
      "362/362 [==============================] - 145s 402ms/step - loss: 5.1786 - acc: 0.6728 - val_loss: 14.5399 - val_acc: 0.0979\n",
      "Epoch 8/50\n",
      "362/362 [==============================] - 143s 396ms/step - loss: 4.8637 - acc: 0.6921 - val_loss: 12.1123 - val_acc: 0.0701\n",
      "Epoch 9/50\n",
      "362/362 [==============================] - 143s 395ms/step - loss: 4.8327 - acc: 0.6943 - val_loss: 14.5226 - val_acc: 0.0990\n",
      "Epoch 10/50\n",
      "362/362 [==============================] - 143s 394ms/step - loss: 5.0113 - acc: 0.6839 - val_loss: 14.7134 - val_acc: 0.0872\n",
      "Epoch 11/50\n",
      "362/362 [==============================] - 143s 396ms/step - loss: 4.6188 - acc: 0.7060 - val_loss: 14.6658 - val_acc: 0.0899\n",
      "Epoch 12/50\n",
      "362/362 [==============================] - 143s 395ms/step - loss: 4.4548 - acc: 0.7173 - val_loss: 10.4505 - val_acc: 0.2931\n",
      "Epoch 13/50\n",
      "362/362 [==============================] - 143s 395ms/step - loss: 4.1937 - acc: 0.7333 - val_loss: 10.7150 - val_acc: 0.3049\n",
      "Epoch 14/50\n",
      "362/362 [==============================] - 143s 396ms/step - loss: 4.1834 - acc: 0.7339 - val_loss: 11.4450 - val_acc: 0.2899\n",
      "Epoch 15/50\n",
      "362/362 [==============================] - 143s 396ms/step - loss: 3.9950 - acc: 0.7465 - val_loss: 11.5177 - val_acc: 0.2854\n",
      "Epoch 16/50\n",
      "362/362 [==============================] - 143s 394ms/step - loss: 4.1652 - acc: 0.7364 - val_loss: 11.6968 - val_acc: 0.2743\n",
      "Epoch 17/50\n",
      "362/362 [==============================] - 142s 392ms/step - loss: 3.8442 - acc: 0.7554 - val_loss: 11.5121 - val_acc: 0.2858\n",
      "Epoch 18/50\n",
      "362/362 [==============================] - 143s 395ms/step - loss: 4.0231 - acc: 0.7450 - val_loss: 10.5178 - val_acc: 0.3035\n",
      "Epoch 19/50\n",
      "362/362 [==============================] - 142s 393ms/step - loss: 4.2470 - acc: 0.7314 - val_loss: 10.2046 - val_acc: 0.3139\n",
      "Epoch 20/50\n",
      "362/362 [==============================] - 143s 394ms/step - loss: 3.9615 - acc: 0.7495 - val_loss: 10.8209 - val_acc: 0.2809\n",
      "Epoch 21/50\n",
      "362/362 [==============================] - 141s 390ms/step - loss: 4.0212 - acc: 0.7463 - val_loss: 10.1806 - val_acc: 0.1918\n",
      "Epoch 22/50\n",
      "362/362 [==============================] - 141s 390ms/step - loss: 3.9697 - acc: 0.7504 - val_loss: 10.8703 - val_acc: 0.2733\n",
      "Epoch 23/50\n",
      "362/362 [==============================] - 141s 389ms/step - loss: 3.6335 - acc: 0.7696 - val_loss: 11.5401 - val_acc: 0.2840\n",
      "Epoch 24/50\n",
      "362/362 [==============================] - 142s 392ms/step - loss: 3.9569 - acc: 0.7506 - val_loss: 11.3666 - val_acc: 0.2948\n",
      "Epoch 25/50\n",
      "362/362 [==============================] - 141s 389ms/step - loss: 3.5366 - acc: 0.7750 - val_loss: 11.7159 - val_acc: 0.2731\n",
      "Epoch 26/50\n",
      "362/362 [==============================] - 142s 391ms/step - loss: 2.8760 - acc: 0.8144 - val_loss: 11.3778 - val_acc: 0.2941\n",
      "Epoch 27/50\n",
      "362/362 [==============================] - 142s 392ms/step - loss: 2.8369 - acc: 0.8182 - val_loss: 10.8737 - val_acc: 0.3253\n",
      "Epoch 28/50\n",
      "362/362 [==============================] - 142s 393ms/step - loss: 2.7420 - acc: 0.8247 - val_loss: 10.6272 - val_acc: 0.2927\n",
      "Epoch 29/50\n",
      "362/362 [==============================] - 141s 389ms/step - loss: 2.6561 - acc: 0.8298 - val_loss: 10.1028 - val_acc: 0.3161\n",
      "Epoch 30/50\n",
      "362/362 [==============================] - 141s 390ms/step - loss: 2.5581 - acc: 0.8365 - val_loss: 11.1022 - val_acc: 0.2802\n",
      "Epoch 31/50\n",
      "362/362 [==============================] - 142s 392ms/step - loss: 2.4679 - acc: 0.8429 - val_loss: 11.5345 - val_acc: 0.2844\n",
      "Epoch 32/50\n",
      "362/362 [==============================] - 141s 390ms/step - loss: 2.6088 - acc: 0.8336 - val_loss: 11.3946 - val_acc: 0.2931\n",
      "Epoch 33/50\n",
      "362/362 [==============================] - 141s 390ms/step - loss: 2.5754 - acc: 0.8360 - val_loss: 11.5470 - val_acc: 0.2836\n",
      "Epoch 34/50\n",
      "362/362 [==============================] - 142s 392ms/step - loss: 2.3063 - acc: 0.8524 - val_loss: 11.3629 - val_acc: 0.2875\n",
      "Epoch 35/50\n",
      "362/362 [==============================] - 142s 392ms/step - loss: 2.4470 - acc: 0.8439 - val_loss: 11.2141 - val_acc: 0.3042\n",
      "Epoch 36/50\n",
      "362/362 [==============================] - 141s 390ms/step - loss: 2.6301 - acc: 0.8326 - val_loss: 11.8367 - val_acc: 0.2656\n",
      "Epoch 37/50\n",
      "362/362 [==============================] - 142s 392ms/step - loss: 2.4647 - acc: 0.8431 - val_loss: 11.5820 - val_acc: 0.2814\n",
      "Epoch 38/50\n",
      "362/362 [==============================] - 143s 395ms/step - loss: 2.5988 - acc: 0.8353 - val_loss: 11.4674 - val_acc: 0.2885\n",
      "Epoch 39/50\n",
      "362/362 [==============================] - 142s 393ms/step - loss: 2.4674 - acc: 0.8434 - val_loss: 11.0084 - val_acc: 0.3170\n",
      "Epoch 40/50\n",
      "362/362 [==============================] - 143s 394ms/step - loss: 2.4791 - acc: 0.8425 - val_loss: 11.8166 - val_acc: 0.2660\n",
      "Epoch 41/50\n",
      "362/362 [==============================] - 142s 392ms/step - loss: 2.6067 - acc: 0.8340 - val_loss: 11.4772 - val_acc: 0.2879\n",
      "Epoch 42/50\n",
      "362/362 [==============================] - 142s 393ms/step - loss: 2.5055 - acc: 0.8401 - val_loss: 11.4101 - val_acc: 0.2920\n",
      "Epoch 43/50\n",
      "362/362 [==============================] - 142s 392ms/step - loss: 2.4298 - acc: 0.8450 - val_loss: 11.2443 - val_acc: 0.3003\n",
      "Epoch 44/50\n",
      "362/362 [==============================] - 144s 397ms/step - loss: 2.2034 - acc: 0.8597 - val_loss: 11.5681 - val_acc: 0.2823\n",
      "Epoch 45/50\n",
      "362/362 [==============================] - 143s 394ms/step - loss: 2.4024 - acc: 0.8470 - val_loss: 11.7974 - val_acc: 0.2681\n",
      "Epoch 46/50\n",
      "362/362 [==============================] - 144s 398ms/step - loss: 2.5824 - acc: 0.8359 - val_loss: 11.2827 - val_acc: 0.3000\n",
      "Epoch 47/50\n",
      "362/362 [==============================] - 143s 396ms/step - loss: 2.2325 - acc: 0.8570 - val_loss: 11.6129 - val_acc: 0.2795\n",
      "Epoch 48/50\n",
      "362/362 [==============================] - 143s 396ms/step - loss: 2.4106 - acc: 0.8462 - val_loss: 11.2839 - val_acc: 0.2997\n",
      "Epoch 49/50\n",
      "362/362 [==============================] - 141s 391ms/step - loss: 2.2501 - acc: 0.8569 - val_loss: 11.6251 - val_acc: 0.2785\n",
      "Epoch 50/50\n",
      "362/362 [==============================] - 142s 393ms/step - loss: 2.3197 - acc: 0.8520 - val_loss: 11.5177 - val_acc: 0.2854\n"
     ]
    }
   ],
   "source": [
    "# do not rerun\n",
    "t_steps = 11614 // 32\n",
    "v_steps = 2884 // 32\n",
    "history = model.fit_generator(train_generator, \n",
    "                              epochs=50, \n",
    "                              workers = 4,\n",
    "                              use_multiprocessing=True,\n",
    "                              steps_per_epoch=t_steps, \n",
    "                              validation_data=validation_generator,\n",
    "                              validation_steps=v_steps,\n",
    "                             )"
   ]
  },
  {
   "cell_type": "code",
   "execution_count": 0,
   "metadata": {
    "colab": {},
    "colab_type": "code",
    "id": "bsokhsXoSqfE"
   },
   "outputs": [],
   "source": [
    "# save history object\n",
    "import pickle\n",
    "\n",
    "with open('/content/drive/My Drive/Colab Notebooks/domat/history/resnet_imagenet_dropout.pickle', 'wb') as handle:\n",
    "    pickle.dump(history, handle, protocol=pickle.HIGHEST_PROTOCOL)"
   ]
  },
  {
   "cell_type": "code",
   "execution_count": 0,
   "metadata": {
    "colab": {},
    "colab_type": "code",
    "id": "G3OYZDCGSqnp"
   },
   "outputs": [],
   "source": [
    "# save trained model\n",
    "model.save('/content/drive/My Drive/Colab Notebooks/domat/models/resnet_imagenet_dropout.h5')"
   ]
  },
  {
   "cell_type": "code",
   "execution_count": 0,
   "metadata": {
    "colab": {},
    "colab_type": "code",
    "id": "f1dVJgE-dAB_"
   },
   "outputs": [],
   "source": [
    "import matplotlib.pyplot as plt"
   ]
  },
  {
   "cell_type": "code",
   "execution_count": 0,
   "metadata": {
    "colab": {
     "base_uri": "https://localhost:8080/",
     "height": 295
    },
    "colab_type": "code",
    "executionInfo": {
     "elapsed": 13284258,
     "status": "ok",
     "timestamp": 1560905061933,
     "user": {
      "displayName": "Zafir Zarya",
      "photoUrl": "https://lh4.googleusercontent.com/-ETKM_UfxYUM/AAAAAAAAAAI/AAAAAAAAGMA/PyI6bvEs4Rg/s64/photo.jpg",
      "userId": "06365792245261835796"
     },
     "user_tz": -120
    },
    "id": "50Wu91r_SqwP",
    "outputId": "d8644b34-405b-444c-9c93-f651f5b514c3"
   },
   "outputs": [
    {
     "data": {
      "image/png": "[encoded data removed]",
      "text/plain": [
       "<Figure size 432x288 with 1 Axes>"
      ]
     },
     "metadata": {
      "tags": []
     },
     "output_type": "display_data"
    }
   ],
   "source": [
    "plt.plot(history.history['acc'])\n",
    "plt.plot(history.history['val_acc'])\n",
    "plt.title('model accuracy')\n",
    "plt.ylabel('accuracy')\n",
    "plt.xlabel('epoch')\n",
    "plt.legend(['train', 'test'], loc='upper left')\n",
    "plt.show()"
   ]
  },
  {
   "cell_type": "code",
   "execution_count": 0,
   "metadata": {
    "colab": {
     "base_uri": "https://localhost:8080/",
     "height": 295
    },
    "colab_type": "code",
    "executionInfo": {
     "elapsed": 13282618,
     "status": "ok",
     "timestamp": 1560905061936,
     "user": {
      "displayName": "Zafir Zarya",
      "photoUrl": "https://lh4.googleusercontent.com/-ETKM_UfxYUM/AAAAAAAAAAI/AAAAAAAAGMA/PyI6bvEs4Rg/s64/photo.jpg",
      "userId": "06365792245261835796"
     },
     "user_tz": -120
    },
    "id": "iy1_Lo8FSq4U",
    "outputId": "74f1da31-afdc-441e-a83a-a407524cc9f2"
   },
   "outputs": [
    {
     "data": {
      "image/png": "[encoded data removed]",
      "text/plain": [
       "<Figure size 432x288 with 1 Axes>"
      ]
     },
     "metadata": {
      "tags": []
     },
     "output_type": "display_data"
    }
   ],
   "source": [
    "plt.plot(history.history['loss'])\n",
    "plt.plot(history.history['val_loss'])\n",
    "plt.title('model loss')\n",
    "plt.ylabel('loss')\n",
    "plt.xlabel('epoch')\n",
    "plt.legend(['train', 'test'], loc='upper left')\n",
    "plt.show()"
   ]
  }
 ],
 "metadata": {
  "accelerator": "GPU",
  "colab": {
   "collapsed_sections": [],
   "name": "modeling.ipynb",
   "provenance": [],
   "toc_visible": true,
   "version": "0.3.2"
  },
  "kernelspec": {
   "display_name": "Python 3",
   "language": "python",
   "name": "python3"
  },
  "language_info": {
   "codemirror_mode": {
    "name": "ipython",
    "version": 3
   },
   "file_extension": ".py",
   "mimetype": "text/x-python",
   "name": "python",
   "nbconvert_exporter": "python",
   "pygments_lexer": "ipython3",
   "version": "3.6.8"
  }
 },
 "nbformat": 4,
 "nbformat_minor": 1
}
